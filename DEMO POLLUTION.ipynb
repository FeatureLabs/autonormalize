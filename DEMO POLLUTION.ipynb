{
 "cells": [
  {
   "cell_type": "code",
   "execution_count": 1,
   "metadata": {},
   "outputs": [],
   "source": [
    "import os\n",
    "\n",
    "import pandas as pd\n",
    "import autonormalize as an"
   ]
  },
  {
   "cell_type": "code",
   "execution_count": 2,
   "metadata": {},
   "outputs": [
    {
     "name": "stdout",
     "output_type": "stream",
     "text": [
      "Rows: 746021\n",
      "Columns: 8\n"
     ]
    },
    {
     "data": {
      "text/html": [
       "<div>\n",
       "<style scoped>\n",
       "    .dataframe tbody tr th:only-of-type {\n",
       "        vertical-align: middle;\n",
       "    }\n",
       "\n",
       "    .dataframe tbody tr th {\n",
       "        vertical-align: top;\n",
       "    }\n",
       "\n",
       "    .dataframe thead th {\n",
       "        text-align: right;\n",
       "    }\n",
       "</style>\n",
       "<table border=\"1\" class=\"dataframe\">\n",
       "  <thead>\n",
       "    <tr style=\"text-align: right;\">\n",
       "      <th></th>\n",
       "      <th>Unnamed: 0</th>\n",
       "      <th>State Code</th>\n",
       "      <th>County Code</th>\n",
       "      <th>Site Num</th>\n",
       "      <th>Address</th>\n",
       "      <th>State</th>\n",
       "      <th>County</th>\n",
       "      <th>City</th>\n",
       "    </tr>\n",
       "  </thead>\n",
       "  <tbody>\n",
       "    <tr>\n",
       "      <th>0</th>\n",
       "      <td>0</td>\n",
       "      <td>4</td>\n",
       "      <td>13</td>\n",
       "      <td>3002</td>\n",
       "      <td>1645 E ROOSEVELT ST-CENTRAL PHOENIX STN</td>\n",
       "      <td>Arizona</td>\n",
       "      <td>Maricopa</td>\n",
       "      <td>Phoenix</td>\n",
       "    </tr>\n",
       "    <tr>\n",
       "      <th>1</th>\n",
       "      <td>1</td>\n",
       "      <td>4</td>\n",
       "      <td>13</td>\n",
       "      <td>3002</td>\n",
       "      <td>1645 E ROOSEVELT ST-CENTRAL PHOENIX STN</td>\n",
       "      <td>Arizona</td>\n",
       "      <td>Maricopa</td>\n",
       "      <td>Phoenix</td>\n",
       "    </tr>\n",
       "    <tr>\n",
       "      <th>2</th>\n",
       "      <td>2</td>\n",
       "      <td>4</td>\n",
       "      <td>13</td>\n",
       "      <td>3002</td>\n",
       "      <td>1645 E ROOSEVELT ST-CENTRAL PHOENIX STN</td>\n",
       "      <td>Arizona</td>\n",
       "      <td>Maricopa</td>\n",
       "      <td>Phoenix</td>\n",
       "    </tr>\n",
       "  </tbody>\n",
       "</table>\n",
       "</div>"
      ],
      "text/plain": [
       "   Unnamed: 0  State Code  County Code  Site Num  \\\n",
       "0           0           4           13      3002   \n",
       "1           1           4           13      3002   \n",
       "2           2           4           13      3002   \n",
       "\n",
       "                                   Address    State    County     City  \n",
       "0  1645 E ROOSEVELT ST-CENTRAL PHOENIX STN  Arizona  Maricopa  Phoenix  \n",
       "1  1645 E ROOSEVELT ST-CENTRAL PHOENIX STN  Arizona  Maricopa  Phoenix  \n",
       "2  1645 E ROOSEVELT ST-CENTRAL PHOENIX STN  Arizona  Maricopa  Phoenix  "
      ]
     },
     "execution_count": 2,
     "metadata": {},
     "output_type": "execute_result"
    }
   ],
   "source": [
    "pollution_df = pd.read_csv(os.path.join(os.getcwd(), 'autonormalize/downloads/pollution.csv'))\n",
    "pollution_df = pollution_df.drop(columns=pollution_df.columns[9:])\n",
    "pollution_df = pollution_df.drop(range(1000000, 1746661))\n",
    "pollution_df = pollution_df.drop(columns=['Date Local'])\n",
    "pollution_df = pollution_df.drop_duplicates()\n",
    "print(\"Rows: \"+ str(pollution_df.shape[0]))\n",
    "print(\"Columns: \" + str(pollution_df.shape[1]))\n",
    "pollution_df.head(3)"
   ]
  },
  {
   "cell_type": "code",
   "execution_count": 11,
   "metadata": {
    "scrolled": false
   },
   "outputs": [
    {
     "name": "stderr",
     "output_type": "stream",
     "text": [
      "100%|██████████| 8/8 [00:15<00:00,  2.07s/it]\n",
      "100%|██████████| 8/8 [04:40<00:00, 29.71s/it]\n"
     ]
    },
    {
     "name": "stdout",
     "output_type": "stream",
     "text": [
      "Exact dependencies...\n",
      " --> Unnamed: 0\n",
      " {County,Site Num}  {County,County Code}  {Address}  {State}  {County,City}  --> State Code\n",
      " {County,Site Num}  {County,State}  {County,State Code}  {Address}  {County,City}  --> County Code\n",
      " {Address}  --> Site Num\n",
      " {Site Num,County Code,State}  {County,Site Num}  {Site Num,State Code,County Code}  --> Address\n",
      " {County,Site Num}  {County,County Code}  {State Code}  {Address}  {County,City}  --> State\n",
      " {County Code,State}  {State Code,County Code}  {Address}  --> County\n",
      " {Site Num,County Code,State}  {County,Site Num}  {Address}  {Site Num,State Code,County Code}  --> City\n",
      "\n",
      "Approximate dependencies...\n",
      " --> Unnamed: 0\n",
      " {County Code,Unnamed: 0}  {City}  {Site Num,County Code}  {Address}  {State}  {County}  --> State Code\n",
      " {Site Num,City}  {State Code,City}  {Address}  {State,City}  {County}  --> County Code\n",
      " {Address}  --> Site Num\n",
      " {Site Num,County Code}  {County,Site Num}  {Site Num,City}  --> Address\n",
      " {County Code,Unnamed: 0}  {City}  {State Code}  {Site Num,County Code}  {Address}  {County}  --> State\n",
      " {Site Num,City}  {County Code,Unnamed: 0}  {County Code,City}  {State Code,County Code}  {State Code,City}  {County Code,State}  {Site Num,County Code}  {Address}  {State,City}  --> County\n",
      " {Site Num,County Code}  {County,Site Num}  {Address}  --> City\n"
     ]
    }
   ],
   "source": [
    "deps_exact = an.find_dependencies(pollution_df, 1.00)\n",
    "deps_approx = an.find_dependencies(pollution_df, 0.94)\n",
    "print(\"Exact dependencies...\")\n",
    "print(deps_exact)\n",
    "print(\"\\nApproximate dependencies...\")\n",
    "print(deps_approx)"
   ]
  },
  {
   "cell_type": "code",
   "execution_count": 10,
   "metadata": {
    "scrolled": false
   },
   "outputs": [
    {
     "name": "stdout",
     "output_type": "stream",
     "text": [
      "\n",
      "~ ~ ~ ~ ~ ~ ~ ~ ~ ~ ~ ~ ~\n",
      "\n",
      " --> Unnamed: 0\n",
      " {County Code,Unnamed: 0}  {City}  {Site Num,County Code}  {Address}  {State}  {County}  --> State Code\n",
      " {Site Num,State Code}  {City}  {Site Num,State}  {Address}  {County}  --> County Code\n",
      " {City}  {City}  {Address}  {City}  {City}  --> Site Num\n",
      " {Site Num,State Code}  {County,Site Num}  {City}  {City}  {City}  {Site Num,State}  {Site Num,County Code}  {City}  {City}  --> Address\n",
      " {County Code,Unnamed: 0}  {City}  {State Code}  {Site Num,County Code}  {Address}  {County}  --> State\n",
      " {Site Num,State Code}  {County Code,Unnamed: 0}  {State Code,County Code}  {City}  {County Code,State}  {Site Num,State}  {Site Num,County Code}  {Address}  --> County\n",
      " {Site Num,State Code}  {County,Site Num}  {Site Num,State}  {Site Num,County Code}  {Address}  --> City\n"
     ]
    }
   ],
   "source": [
    "groupings = an.normalize_dependencies(deps_approx)\n",
    "for grp in groupings:\n",
    "    print('\\n~ ~ ~ ~ ~ ~ ~ ~ ~ ~ ~ ~ ~\\n')\n",
    "    print(grp)"
   ]
  },
  {
   "cell_type": "code",
   "execution_count": null,
   "metadata": {},
   "outputs": [],
   "source": []
  }
 ],
 "metadata": {
  "kernelspec": {
   "display_name": "Python 3",
   "language": "python",
   "name": "python3"
  },
  "language_info": {
   "codemirror_mode": {
    "name": "ipython",
    "version": 3
   },
   "file_extension": ".py",
   "mimetype": "text/x-python",
   "name": "python",
   "nbconvert_exporter": "python",
   "pygments_lexer": "ipython3",
   "version": "3.7.3"
  }
 },
 "nbformat": 4,
 "nbformat_minor": 2
}
