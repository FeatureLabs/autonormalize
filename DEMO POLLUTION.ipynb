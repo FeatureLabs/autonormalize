{
 "cells": [
  {
   "cell_type": "code",
   "execution_count": 1,
   "metadata": {},
   "outputs": [],
   "source": [
    "import os\n",
    "\n",
    "import pandas as pd\n",
    "import autonormalize as an"
   ]
  },
  {
   "cell_type": "code",
   "execution_count": 5,
   "metadata": {},
   "outputs": [],
   "source": [
    "pollution_df = pd.read_csv(os.path.join(os.getcwd(), 'autonormalize/downloads/pollution.csv'))\n",
    "pollution_df = pollution_df.drop(columns=pollution_df.columns[9:])\n",
    "pollution_df = pollution_df.drop(range(1000000, 1746661))\n",
    "pollution_df = pollution_df.drop(columns=['Date Local'])\n",
    "pollution_df = pollution_df.drop_duplicates()"
   ]
  },
  {
   "cell_type": "code",
   "execution_count": 7,
   "metadata": {},
   "outputs": [
    {
     "name": "stderr",
     "output_type": "stream",
     "text": [
      "100%|██████████| 8/8 [00:17<00:00,  2.29s/it]\n",
      "100%|██████████| 8/8 [00:23<00:00,  2.88s/it]"
     ]
    },
    {
     "name": "stdout",
     "output_type": "stream",
     "text": [
      "Exact dependencies...\n",
      " --> Unnamed: 0\n",
      " {County,County Code}  {County,Site Num}  {Address}  {City,County}  {State}  --> State Code\n",
      " {County,Site Num}  {Address}  {City,County}  {County,State}  {County,State Code}  --> County Code\n",
      " {Address}  --> Site Num\n",
      " {State,Site Num,County Code}  {County,Site Num}  {State Code,Site Num,County Code}  --> Address\n",
      " {County,County Code}  {County,Site Num}  {Address}  {State Code}  {City,County}  --> State\n",
      " {Address}  {State,County Code}  {State Code,County Code}  --> County\n",
      " {State,Site Num,County Code}  {Address}  {County,Site Num}  {State Code,Site Num,County Code}  --> City\n",
      "\n",
      "Approximate dependencies...\n",
      " --> Unnamed: 0\n",
      " {City,Site Num}  {Address}  {State}  {City,County Code}  {Site Num,County Code}  {County}  --> State Code\n",
      " {City,Site Num}  {Address}  {City,State}  {City,State Code}  {County}  --> County Code\n",
      " {Address}  --> Site Num\n",
      " {City,Site Num}  {County,Site Num}  {Site Num,County Code}  --> Address\n",
      " {City,Site Num}  {Address}  {State Code}  {City,County Code}  {Site Num,County Code}  {County}  --> State\n",
      " {City,Site Num}  {Address}  {State Code,County Code}  {City,State}  {City,County Code}  {State,County Code}  {Site Num,County Code}  {City,State Code}  --> County\n",
      " {Address}  {County,Site Num}  {Site Num,County Code}  --> City\n"
     ]
    },
    {
     "name": "stderr",
     "output_type": "stream",
     "text": [
      "\n"
     ]
    }
   ],
   "source": [
    "deps_exact = an.find_dependencies(pollution_df, 1.00)\n",
    "deps_approx = an.find_dependencies(pollution_df, 0.96)\n",
    "print(\"Exact dependencies...\")\n",
    "print(deps_exact)\n",
    "print(\"\\nApproximate dependencies...\")\n",
    "print(deps_approx)"
   ]
  },
  {
   "cell_type": "code",
   "execution_count": 8,
   "metadata": {},
   "outputs": [
    {
     "name": "stdout",
     "output_type": "stream",
     "text": [
      "\n",
      "~ ~ ~ ~ ~ ~ ~ ~ ~ ~ ~ ~ ~\n",
      "\n",
      " --> Unnamed: 0\n",
      " --> Address\n",
      "\n",
      "~ ~ ~ ~ ~ ~ ~ ~ ~ ~ ~ ~ ~\n",
      "\n",
      " --> Address\n",
      " {Address}  --> Site Num\n",
      " {Address}  --> City\n",
      "\n",
      "~ ~ ~ ~ ~ ~ ~ ~ ~ ~ ~ ~ ~\n",
      "\n",
      " --> City\n",
      " --> Site Num\n",
      " {City,Site Num}  --> County\n",
      "\n",
      "~ ~ ~ ~ ~ ~ ~ ~ ~ ~ ~ ~ ~\n",
      "\n",
      " --> County\n",
      " {County}  --> County Code\n",
      " {County}  --> State\n",
      "\n",
      "~ ~ ~ ~ ~ ~ ~ ~ ~ ~ ~ ~ ~\n",
      "\n",
      " --> State\n",
      " {State}  --> State Code\n"
     ]
    }
   ],
   "source": [
    "groupings = an.normalize_dependencies(deps_approx)\n",
    "for grp in groupings:\n",
    "    print('\\n~ ~ ~ ~ ~ ~ ~ ~ ~ ~ ~ ~ ~\\n')\n",
    "    print(grp)"
   ]
  }
 ],
 "metadata": {
  "kernelspec": {
   "display_name": "Python 3",
   "language": "python",
   "name": "python3"
  },
  "language_info": {
   "codemirror_mode": {
    "name": "ipython",
    "version": 3
   },
   "file_extension": ".py",
   "mimetype": "text/x-python",
   "name": "python",
   "nbconvert_exporter": "python",
   "pygments_lexer": "ipython3",
   "version": "3.7.3"
  }
 },
 "nbformat": 4,
 "nbformat_minor": 2
}
