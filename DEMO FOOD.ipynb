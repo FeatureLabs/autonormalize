{
 "cells": [
  {
   "cell_type": "markdown",
   "metadata": {},
   "source": [
    "# AUTONORMALIZE DEMO \n",
    "Using Autonormalize to normalize a kaggle dataset about food purchasing."
   ]
  },
  {
   "cell_type": "code",
   "execution_count": 1,
   "metadata": {},
   "outputs": [],
   "source": [
    "import os\n",
    "\n",
    "import pandas as pd\n",
    "import autonormalize as an"
   ]
  },
  {
   "cell_type": "code",
   "execution_count": 10,
   "metadata": {},
   "outputs": [
    {
     "data": {
      "text/html": [
       "<div>\n",
       "<style scoped>\n",
       "    .dataframe tbody tr th:only-of-type {\n",
       "        vertical-align: middle;\n",
       "    }\n",
       "\n",
       "    .dataframe tbody tr th {\n",
       "        vertical-align: top;\n",
       "    }\n",
       "\n",
       "    .dataframe thead th {\n",
       "        text-align: right;\n",
       "    }\n",
       "</style>\n",
       "<table border=\"1\" class=\"dataframe\">\n",
       "  <thead>\n",
       "    <tr style=\"text-align: right;\">\n",
       "      <th></th>\n",
       "      <th>Area Abbreviation</th>\n",
       "      <th>Area Code</th>\n",
       "      <th>Area</th>\n",
       "      <th>Item Code</th>\n",
       "      <th>Item</th>\n",
       "      <th>Element Code</th>\n",
       "      <th>Element</th>\n",
       "      <th>Unit</th>\n",
       "      <th>latitude</th>\n",
       "      <th>longitude</th>\n",
       "    </tr>\n",
       "  </thead>\n",
       "  <tbody>\n",
       "    <tr>\n",
       "      <th>0</th>\n",
       "      <td>AFG</td>\n",
       "      <td>2</td>\n",
       "      <td>Afghanistan</td>\n",
       "      <td>2511</td>\n",
       "      <td>Wheat and products</td>\n",
       "      <td>5142</td>\n",
       "      <td>Food</td>\n",
       "      <td>1000 tonnes</td>\n",
       "      <td>33.94</td>\n",
       "      <td>67.71</td>\n",
       "    </tr>\n",
       "    <tr>\n",
       "      <th>1</th>\n",
       "      <td>AFG</td>\n",
       "      <td>2</td>\n",
       "      <td>Afghanistan</td>\n",
       "      <td>2805</td>\n",
       "      <td>Rice (Milled Equivalent)</td>\n",
       "      <td>5142</td>\n",
       "      <td>Food</td>\n",
       "      <td>1000 tonnes</td>\n",
       "      <td>33.94</td>\n",
       "      <td>67.71</td>\n",
       "    </tr>\n",
       "    <tr>\n",
       "      <th>2</th>\n",
       "      <td>AFG</td>\n",
       "      <td>2</td>\n",
       "      <td>Afghanistan</td>\n",
       "      <td>2513</td>\n",
       "      <td>Barley and products</td>\n",
       "      <td>5521</td>\n",
       "      <td>Feed</td>\n",
       "      <td>1000 tonnes</td>\n",
       "      <td>33.94</td>\n",
       "      <td>67.71</td>\n",
       "    </tr>\n",
       "  </tbody>\n",
       "</table>\n",
       "</div>"
      ],
      "text/plain": [
       "  Area Abbreviation  Area Code         Area  Item Code  \\\n",
       "0               AFG          2  Afghanistan       2511   \n",
       "1               AFG          2  Afghanistan       2805   \n",
       "2               AFG          2  Afghanistan       2513   \n",
       "\n",
       "                       Item  Element Code Element         Unit  latitude  \\\n",
       "0        Wheat and products          5142    Food  1000 tonnes     33.94   \n",
       "1  Rice (Milled Equivalent)          5142    Food  1000 tonnes     33.94   \n",
       "2       Barley and products          5521    Feed  1000 tonnes     33.94   \n",
       "\n",
       "   longitude  \n",
       "0      67.71  \n",
       "1      67.71  \n",
       "2      67.71  "
      ]
     },
     "execution_count": 10,
     "metadata": {},
     "output_type": "execute_result"
    }
   ],
   "source": [
    "food_df = pd.read_csv(os.path.join(os.getcwd(), 'autonormalize/downloads/food.csv'), encoding='latin1')\n",
    "food_df = food_df.drop(columns=food_df.columns[10:])\n",
    "food_df.head(3)"
   ]
  },
  {
   "cell_type": "markdown",
   "metadata": {},
   "source": [
    "This dataset has 21477 rows and we've cut it down to 10 columns. As you can see, there are many data dependencies between that columns that obviously should be split up. For example, Area, Area Code, and Area Abreviation obviously should be dependent on each other."
   ]
  },
  {
   "cell_type": "code",
   "execution_count": 13,
   "metadata": {
    "scrolled": false
   },
   "outputs": [
    {
     "name": "stderr",
     "output_type": "stream",
     "text": [
      "100%|██████████| 10/10 [00:01<00:00,  9.72it/s]\n",
      "100%|██████████| 10/10 [00:02<00:00,  3.91it/s]"
     ]
    },
    {
     "name": "stdout",
     "output_type": "stream",
     "text": [
      "\n",
      "Exact dependencies...\n",
      " {Area Code}  {Area}  --> Area Abbreviation\n",
      " {Area}  --> Area Code\n",
      " {Area Code}  --> Area\n",
      " --> Item Code\n",
      " --> Item\n",
      " {Element}  --> Element Code\n",
      " {Element Code}  --> Element\n",
      " {Item Code}  {Area}  {Element}  {latitude}  {Area Abbreviation}  {Area Code}  {Element Code}  {Item}  {longitude}  --> Unit\n",
      " {Area Code}  {Area}  --> latitude\n",
      " {Area Code}  {Area}  --> longitude\n",
      "\n",
      "Approximate dependencies...\n",
      " {Area Code}  {Area}  --> Area Abbreviation\n",
      " {Area Abbreviation}  {Area}  --> Area Code\n",
      " {Area Abbreviation}  {Area Code}  --> Area\n",
      " --> Item Code\n",
      " --> Item\n",
      " {Element}  --> Element Code\n",
      " {Element Code}  --> Element\n",
      " {Item Code}  {Area}  {Element}  {latitude}  {Area Abbreviation}  {Area Code}  {Element Code}  {Item}  {longitude}  --> Unit\n",
      " {Area Abbreviation}  {Area Code}  {Area}  --> latitude\n",
      " {Area Abbreviation}  {Area Code}  {Area}  --> longitude\n"
     ]
    },
    {
     "name": "stderr",
     "output_type": "stream",
     "text": [
      "\n"
     ]
    }
   ],
   "source": [
    "deps_exact = an.find_dependencies(food_df, 1.00)\n",
    "deps_approx = an.find_dependencies(food_df, 0.96)\n",
    "print(\"\\nExact dependencies...\")\n",
    "print(deps_exact)\n",
    "print(\"\\nApproximate dependencies...\")\n",
    "print(deps_approx)\n"
   ]
  },
  {
   "cell_type": "code",
   "execution_count": 9,
   "metadata": {},
   "outputs": [
    {
     "name": "stdout",
     "output_type": "stream",
     "text": [
      "\n",
      "~ ~ ~ ~ ~ ~ ~ ~ ~ ~ ~ ~ ~\n",
      "\n",
      " --> Area Abbreviation\n",
      " --> Item Code\n",
      " --> Item\n",
      " {Element}  --> Element Code\n",
      " {Element Code}  --> Element\n",
      "\n",
      "~ ~ ~ ~ ~ ~ ~ ~ ~ ~ ~ ~ ~\n",
      "\n",
      " --> Area Abbreviation\n",
      " {Area Abbreviation}  --> Area Code\n",
      "\n",
      "~ ~ ~ ~ ~ ~ ~ ~ ~ ~ ~ ~ ~\n",
      "\n",
      " --> Area Code\n",
      " {Area Code}  --> Area\n",
      "\n",
      "~ ~ ~ ~ ~ ~ ~ ~ ~ ~ ~ ~ ~\n",
      "\n",
      " --> Area\n",
      " {Area}  --> latitude\n",
      " {Area}  --> longitude\n",
      "\n",
      "~ ~ ~ ~ ~ ~ ~ ~ ~ ~ ~ ~ ~\n",
      "\n",
      " --> latitude\n",
      " {latitude}  --> Unit\n"
     ]
    }
   ],
   "source": [
    "groupings = an.normalize_dependencies(deps_approx)\n",
    "for grp in groupings:\n",
    "    print('\\n~ ~ ~ ~ ~ ~ ~ ~ ~ ~ ~ ~ ~\\n')\n",
    "    print(grp)"
   ]
  },
  {
   "cell_type": "code",
   "execution_count": null,
   "metadata": {},
   "outputs": [],
   "source": []
  }
 ],
 "metadata": {
  "kernelspec": {
   "display_name": "Python 3",
   "language": "python",
   "name": "python3"
  },
  "language_info": {
   "codemirror_mode": {
    "name": "ipython",
    "version": 3
   },
   "file_extension": ".py",
   "mimetype": "text/x-python",
   "name": "python",
   "nbconvert_exporter": "python",
   "pygments_lexer": "ipython3",
   "version": "3.7.3"
  }
 },
 "nbformat": 4,
 "nbformat_minor": 2
}
