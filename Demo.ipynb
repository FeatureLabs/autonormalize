{
 "cells": [
  {
   "cell_type": "code",
   "execution_count": 1,
   "metadata": {},
   "outputs": [],
   "source": [
    "import os\n",
    "import user_interaction\n",
    "import normalize\n",
    "import pandas as pd"
   ]
  },
  {
   "cell_type": "code",
   "execution_count": null,
   "metadata": {
    "scrolled": false
   },
   "outputs": [],
   "source": [
    "crime_df = pd.read_csv(os.path.join(os.getcwd(), 'crime.csv'))\n",
    "crime_df = crime_df.drop(columns=crime_df.columns[10:])\n",
    "crime_df = crime_df.dropna()\n",
    "crime_df = crime_df.drop_duplicates()"
   ]
  },
  {
   "cell_type": "code",
   "execution_count": 15,
   "metadata": {},
   "outputs": [],
   "source": [
    "pollution_df = pd.read_csv(os.path.join(os.getcwd(), 'pollution.csv'))\n",
    "pollution_df = pollution_df.drop(columns=pollution_df.columns[9:])\n",
    "pollution_df_small = pollution_df.drop(range(1000000, 1746661))\n",
    "pollution_df_small = pollution_df_small.drop(columns=['Date Local'])\n",
    "pollution_df_small = pollution_df_small.drop_duplicates()"
   ]
  },
  {
   "cell_type": "code",
   "execution_count": null,
   "metadata": {
    "scrolled": true
   },
   "outputs": [],
   "source": [
    "food_df = pd.read_csv(os.path.join(os.getcwd(), 'food.csv'), encoding='latin1')\n",
    "food_df = food_df.drop(columns=food_df.columns[10:])"
   ]
  },
  {
   "cell_type": "code",
   "execution_count": null,
   "metadata": {},
   "outputs": [],
   "source": [
    "liquor_df = pd.read_csv(os.path.join(os.getcwd(), 'liquor.csv'))\n",
    "liquor_df = liquor_df.drop(columns=liquor_df.columns[12:])\n",
    "liquor_df = liquor_df.drop(range(3000000, 12591077))\n",
    "liquor_df = liquor_df.dropna()\n",
    "liquor_df = liquor_df.drop_duplicates()"
   ]
  },
  {
   "cell_type": "code",
   "execution_count": 16,
   "metadata": {
    "scrolled": true
   },
   "outputs": [
    {
     "name": "stderr",
     "output_type": "stream",
     "text": [
      "\n",
      "  0%|          | 0/8 [00:00<?, ?it/s]\u001b[A\n",
      " 12%|█▎        | 1/8 [01:30<10:34, 90.69s/it]\u001b[A\n",
      " 25%|██▌       | 2/8 [01:33<06:26, 64.46s/it]\u001b[A\n",
      " 38%|███▊      | 3/8 [01:35<03:48, 45.69s/it]\u001b[A\n",
      " 50%|█████     | 4/8 [01:38<02:11, 32.87s/it]\u001b[A\n",
      " 62%|██████▎   | 5/8 [01:42<01:12, 24.22s/it]\u001b[A\n",
      " 75%|███████▌  | 6/8 [02:52<01:15, 37.88s/it]\u001b[A\n",
      " 88%|████████▊ | 7/8 [04:00<00:46, 46.85s/it]\u001b[A\n",
      "100%|██████████| 8/8 [04:02<00:00, 33.50s/it]\u001b[A"
     ]
    },
    {
     "data": {
      "text/plain": [
       "244.6549677848816"
      ]
     },
     "execution_count": 16,
     "metadata": {},
     "output_type": "execute_result"
    }
   ],
   "source": [
    "import time\n",
    "start = time.time()\n",
    "deps = user_interaction.find_dependencies(pollution_df_small, 0.95, 0.85)\n",
    "time.time() - start"
   ]
  },
  {
   "cell_type": "code",
   "execution_count": 17,
   "metadata": {
    "scrolled": false
   },
   "outputs": [
    {
     "name": "stdout",
     "output_type": "stream",
     "text": [
      " --> Unnamed: 0\n",
      " {State}  {Site Num,County Code}  {Site Num,City}  {Unnamed: 0,County Code}  {County Code,City}  {County}  {Address}  --> State Code\n",
      " {State Code,City}  {State,City}  {Site Num,City}  {County}  {Address}  --> County Code\n",
      " {Address}  --> Site Num\n",
      " {Site Num,City}  {County,Site Num}  {Site Num,County Code}  --> Address\n",
      " {State Code}  {Site Num,County Code}  {Site Num,City}  {Unnamed: 0,County Code}  {County Code,City}  {County}  {Address}  --> State\n",
      " {State Code,City}  {State,City}  {Site Num,County Code}  {State Code,County Code}  {Site Num,City}  {State,County Code}  {Unnamed: 0,County Code}  {County Code,City}  {Address}  --> County\n",
      " {County,Site Num}  {Site Num,County Code}  {Address}  --> City\n"
     ]
    }
   ],
   "source": [
    "print(deps)"
   ]
  },
  {
   "cell_type": "code",
   "execution_count": 18,
   "metadata": {},
   "outputs": [],
   "source": [
    "deps_dic = deps.serialize()"
   ]
  },
  {
   "cell_type": "code",
   "execution_count": 22,
   "metadata": {},
   "outputs": [
    {
     "name": "stdout",
     "output_type": "stream",
     "text": [
      "{'Unnamed: 0': [], 'State Code': [['State']], 'County Code': [['County']], 'Site Num': [['Address']], 'Address': [['Site Num', 'City'], ['County', 'Site Num']], 'State': [['County']], 'County': [['Site Num', 'City'], ['Address']], 'City': [['County', 'Site Num'], ['Address']]}\n"
     ]
    }
   ],
   "source": [
    "print(deps_dic)"
   ]
  },
  {
   "cell_type": "code",
   "execution_count": 21,
   "metadata": {},
   "outputs": [
    {
     "name": "stdout",
     "output_type": "stream",
     "text": [
      " --> Unnamed: 0\n",
      " {State}  --> State Code\n",
      " {County}  --> County Code\n",
      " {Address}  --> Site Num\n",
      " {Site Num,City}  {County,Site Num}  --> Address\n",
      " {County}  --> State\n",
      " {Site Num,City}  {Address}  --> County\n",
      " {County,Site Num}  {Address}  --> City\n",
      "\n",
      "\n",
      "\n",
      " --> Unnamed: 0\n",
      " {State}  --> State Code\n",
      " {County}  --> County Code\n",
      " {Address}  --> Site Num\n",
      " {Site Num,City}  {County,Site Num}  --> Address\n",
      " {County}  --> State\n",
      " {Site Num,City}  {Address}  --> County\n",
      " {County,Site Num}  {Address}  --> City\n"
     ]
    }
   ],
   "source": [
    "print(deps)\n",
    "deps.remove_implied_extroneous()\n",
    "print(\"\\n\\n\")\n",
    "print(deps)"
   ]
  },
  {
   "cell_type": "code",
   "execution_count": 19,
   "metadata": {},
   "outputs": [],
   "source": [
    "new_grps = normalize.normalize(deps)"
   ]
  },
  {
   "cell_type": "code",
   "execution_count": 20,
   "metadata": {
    "scrolled": true
   },
   "outputs": [
    {
     "name": "stdout",
     "output_type": "stream",
     "text": [
      " --> Unnamed: 0\n",
      " {Address}  --> Site Num\n",
      " {Site Num,City}  {County,Site Num}  --> Address\n",
      " {Site Num,City}  {Address}  --> County\n",
      " {County,Site Num}  {Address}  --> City\n",
      "\n",
      "\n",
      "\n",
      " --> County\n",
      " {County}  --> County Code\n",
      " {County}  --> State\n",
      "\n",
      "\n",
      "\n",
      " --> State\n",
      " {State}  --> State Code\n",
      "\n",
      "\n",
      "\n"
     ]
    }
   ],
   "source": [
    "for grp in new_grps:\n",
    "    print(grp)\n",
    "    print(\"\\n\\n\")"
   ]
  },
  {
   "cell_type": "code",
   "execution_count": 10,
   "metadata": {},
   "outputs": [
    {
     "name": "stdout",
     "output_type": "stream",
     "text": [
      "[]\n",
      "[]\n",
      "[{'County', 'Unnamed: 0', 'Site Num', 'Date Local'}, {'Unnamed: 0', 'City', 'Date Local'}, {'Unnamed: 0', 'Address', 'Date Local'}, {'Unnamed: 0', 'Site Num', 'County Code', 'Date Local'}]\n"
     ]
    }
   ],
   "source": [
    "print(new_grps[0].find_trans_deps())\n",
    "print(new_grps[0].find_partial_deps())\n",
    "print(new_grps[0].find_candidate_keys())"
   ]
  },
  {
   "cell_type": "code",
   "execution_count": 16,
   "metadata": {},
   "outputs": [
    {
     "name": "stdout",
     "output_type": "stream",
     "text": [
      " --> Unnamed: 0\n",
      " --> City\n",
      " --> Date Local\n",
      "\n",
      "\n",
      "\n",
      " --> City\n",
      " {City}  --> Address\n",
      " {City}  --> State\n",
      "\n",
      "\n",
      "\n",
      " --> State\n",
      " {State}  --> State Code\n",
      "\n",
      "\n",
      "\n",
      " --> Address\n",
      " {Address}  --> Site Num\n",
      " {Address}  --> County\n",
      "\n",
      "\n",
      "\n",
      " --> County\n",
      " {County}  --> County Code\n",
      "\n",
      "\n",
      "\n"
     ]
    }
   ],
   "source": [
    "for grp in new_grps:\n",
    "    print(grp)\n",
    "    print(\"\\n\\n\")"
   ]
  },
  {
   "cell_type": "markdown",
   "metadata": {},
   "source": [
    "### Food Example Compacted"
   ]
  },
  {
   "cell_type": "code",
   "execution_count": null,
   "metadata": {},
   "outputs": [],
   "source": [
    "deps = user_interaction.find_dependencies(food_df, 1.00)\n",
    "print(deps)\n",
    "deps = user_interaction.find_dependencies(food_df, .95)\n",
    "print(deps)"
   ]
  },
  {
   "cell_type": "code",
   "execution_count": null,
   "metadata": {},
   "outputs": [],
   "source": [
    "auto_norm_dfs = user_interaction.auto_normalize(food_df)\n",
    "for df in auto_norm_dfs:\n",
    "    print(df)\n",
    "\n",
    "deps = user_interaction.find_dependencies(food_df)\n",
    "print(deps)\n",
    "new_grps = normalize.normalize(deps)\n",
    "for x in new_grps:\n",
    "    print('\\n ~ ~ ~ ~ ~ ~ ~ ~ ~ ~ \\n')\n",
    "    print(x)"
   ]
  },
  {
   "cell_type": "markdown",
   "metadata": {},
   "source": [
    "# Crime Example "
   ]
  },
  {
   "cell_type": "code",
   "execution_count": null,
   "metadata": {},
   "outputs": [],
   "source": [
    "auto_crime = user_interaction.auto_normalize(crime_df)"
   ]
  },
  {
   "cell_type": "code",
   "execution_count": null,
   "metadata": {},
   "outputs": [],
   "source": [
    "crime_deps = user_interaction.find_dependencies(crime_df)\n",
    "print(crime_deps)"
   ]
  },
  {
   "cell_type": "code",
   "execution_count": null,
   "metadata": {},
   "outputs": [],
   "source": [
    "new_grps_crime = normalize.normalize(crime_deps)\n",
    "for x in new_grps_crime:\n",
    "    print('\\n ~ ~ ~ ~ ~ ~ ~ ~ ~ ~ ~ \\n')\n",
    "    print(x)"
   ]
  },
  {
   "cell_type": "markdown",
   "metadata": {},
   "source": [
    "# Liquor Example"
   ]
  },
  {
   "cell_type": "code",
   "execution_count": null,
   "metadata": {},
   "outputs": [],
   "source": [
    "liquor_deps = user_interaction.find_dependencies(liquor_df)\n",
    "print(liquor_deps)"
   ]
  },
  {
   "cell_type": "code",
   "execution_count": null,
   "metadata": {},
   "outputs": [],
   "source": [
    "new_grps_liquor = normalize.normalize(liquor_deps)\n",
    "for x in new_grps_liquor:\n",
    "    print('\\n ~ ~ ~ ~ ~ ~ ~ ~ ~ ~ ~ ~  \\n')\n",
    "    print(x)"
   ]
  }
 ],
 "metadata": {
  "kernelspec": {
   "display_name": "Python 3",
   "language": "python",
   "name": "python3"
  },
  "language_info": {
   "codemirror_mode": {
    "name": "ipython",
    "version": 3
   },
   "file_extension": ".py",
   "mimetype": "text/x-python",
   "name": "python",
   "nbconvert_exporter": "python",
   "pygments_lexer": "ipython3",
   "version": "3.7.3"
  }
 },
 "nbformat": 4,
 "nbformat_minor": 2
}
