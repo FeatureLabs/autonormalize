{
 "cells": [
  {
   "cell_type": "code",
   "execution_count": 1,
   "metadata": {},
   "outputs": [],
   "source": [
    "import os\n",
    "import user_interaction\n",
    "import normalize\n",
    "import pandas as pd"
   ]
  },
  {
   "cell_type": "code",
   "execution_count": null,
   "metadata": {
    "scrolled": false
   },
   "outputs": [],
   "source": [
    "crime_df = pd.read_csv(os.path.join(os.getcwd(), 'crime.csv'))\n",
    "crime_df = crime_df.drop(columns=crime_df.columns[10:])\n",
    "crime_df = crime_df.dropna()\n",
    "crime_df = crime_df.drop_duplicates()"
   ]
  },
  {
   "cell_type": "code",
   "execution_count": 2,
   "metadata": {},
   "outputs": [],
   "source": [
    "pollution_df = pd.read_csv(os.path.join(os.getcwd(), 'pollution.csv'))\n",
    "pollution_df = pollution_df.drop(columns=pollution_df.columns[9:])\n",
    "pollution_df_small = pollution_df.drop(range(300000, 1746661))"
   ]
  },
  {
   "cell_type": "code",
   "execution_count": null,
   "metadata": {
    "scrolled": true
   },
   "outputs": [],
   "source": [
    "food_df = pd.read_csv(os.path.join(os.getcwd(), 'food.csv'), encoding='latin1')\n",
    "food_df = food_df.drop(columns=food_df.columns[10:])"
   ]
  },
  {
   "cell_type": "code",
   "execution_count": null,
   "metadata": {},
   "outputs": [],
   "source": [
    "liquor_df = pd.read_csv(os.path.join(os.getcwd(), 'liquor.csv'))\n",
    "liquor_df = liquor_df.drop(columns=liquor_df.columns[12:])\n",
    "liquor_df = liquor_df.drop(range(3000000, 12591077))\n",
    "liquor_df = liquor_df.dropna()\n",
    "liquor_df = liquor_df.drop_duplicates()"
   ]
  },
  {
   "cell_type": "code",
   "execution_count": 3,
   "metadata": {
    "scrolled": true
   },
   "outputs": [
    {
     "name": "stderr",
     "output_type": "stream",
     "text": [
      "100%|██████████| 9/9 [01:16<00:00,  8.30s/it]\n"
     ]
    },
    {
     "data": {
      "text/plain": [
       "76.63200402259827"
      ]
     },
     "execution_count": 3,
     "metadata": {},
     "output_type": "execute_result"
    }
   ],
   "source": [
    "import time\n",
    "start = time.time()\n",
    "deps = user_interaction.find_dependencies(pollution_df_small, 0.98, 0.95)\n",
    "time.time() - start"
   ]
  },
  {
   "cell_type": "code",
   "execution_count": 5,
   "metadata": {},
   "outputs": [
    {
     "name": "stdout",
     "output_type": "stream",
     "text": [
      " --> Unnamed: 0\n",
      " {Unnamed: 0,County}  {Address}  {State}  {Unnamed: 0,County Code}  {Site Num,County Code}  {City,County Code}  {County,County Code}  {Site Num,County}  {City,County}  --> State Code\n",
      " {State,County}  {State Code,County}  {Unnamed: 0,County}  {Address}  {Unnamed: 0,City}  {City,Site Num}  {Site Num,County}  {City,County}  --> County Code\n",
      " {Unnamed: 0,City}  {Address}  --> Site Num\n",
      " {City,Site Num,Date Local}  {Site Num,County Code}  {Unnamed: 0,Site Num}  {State,City,Site Num}  {Site Num,County}  {State Code,City,Site Num}  --> Address\n",
      " {Unnamed: 0,County}  {Address}  {State Code}  {Unnamed: 0,County Code}  {Site Num,County Code}  {City,County Code}  {County,County Code}  {Site Num,County}  {City,County}  --> State\n",
      " {Site Num,Address}  {City,Site Num,Date Local}  {Site Num,County Code}  {Unnamed: 0,Site Num}  {State,City,Site Num}  {State Code,City,Site Num}  --> County\n",
      " {Site Num,County}  {Address}  --> City\n",
      " --> Date Local\n"
     ]
    }
   ],
   "source": [
    "print(deps) # also same as below "
   ]
  },
  {
   "cell_type": "code",
   "execution_count": 4,
   "metadata": {
    "scrolled": false
   },
   "outputs": [
    {
     "name": "stdout",
     "output_type": "stream",
     "text": [
      " --> Unnamed: 0\n",
      " {Unnamed: 0,County}  {City,County Code}  {Unnamed: 0,Site Num}  {City,Unnamed: 0}  {County Code,Site Num}  {County Code,County}  {City,Site Num,Date Local}  {Address}  {City,County}  {Site Num,County}  {State}  {Unnamed: 0,County Code}  --> State Code\n",
      " {Unnamed: 0,County}  {Site Num,County}  {Address}  {State,County}  {City,County}  {State Code,County}  {City,Site Num}  --> County Code\n",
      " --> Site Num\n",
      " {County Code,Site Num}  --> Address\n",
      " {Unnamed: 0,County}  {State Code}  {City,County Code}  {Unnamed: 0,Site Num}  {City,Unnamed: 0}  {County Code,Site Num}  {County Code,County}  {City,Site Num,Date Local}  {Address}  {City,County}  {Site Num,County}  {Unnamed: 0,County Code}  --> State\n",
      " {Address}  {County Code,Site Num}  {City,County Code}  {State,County Code}  --> County\n",
      " {Address}  {Site Num,County}  {County Code,Site Num}  --> City\n",
      " --> Date Local\n"
     ]
    }
   ],
   "source": [
    "print(deps) # same as below"
   ]
  },
  {
   "cell_type": "code",
   "execution_count": 4,
   "metadata": {},
   "outputs": [
    {
     "name": "stdout",
     "output_type": "stream",
     "text": [
      " --> Unnamed: 0\n",
      " {County Code,Site Num}  {Address}  {City,County Code}  {State}  {County,Site Num}  --> State Code\n",
      " {Address}  {State,County}  {State Code,County}  {City,Site Num}  {City,Unnamed: 0}  {Unnamed: 0,Site Num}  {County,Site Num}  {City,County}  --> County Code\n",
      " {Address}  {City,Unnamed: 0}  --> Site Num\n",
      " {City,Date Local,Site Num}  {County Code,Site Num}  {City,County,Site Num}  --> Address\n",
      " {County Code,Site Num}  {Address}  {City,County Code}  {State Code}  {County,Site Num}  --> State\n",
      " {County Code,Site Num}  {State,County Code}  {City,County Code}  {Address,County Code}  --> County\n",
      " {County Code,Site Num}  {County,Site Num}  {Address}  --> City\n",
      " --> Date Local\n"
     ]
    }
   ],
   "source": [
    "print(deps) # w change to masks object"
   ]
  },
  {
   "cell_type": "code",
   "execution_count": 4,
   "metadata": {},
   "outputs": [
    {
     "name": "stdout",
     "output_type": "stream",
     "text": [
      " --> Unnamed: 0\n",
      " {County,Unnamed: 0}  {County,Address}  {County,Site Num}  {City,County Code}  {Unnamed: 0,County Code}  {Site Num,County Code}  {County,State}  {County,County Code}  {State,County Code}  {Address,County Code}  {County,City}  --> State Code\n",
      " {Address}  {County,State Code}  {County,Site Num}  --> County Code\n",
      " --> Site Num\n",
      " --> Address\n",
      " {State Code}  {County,Unnamed: 0}  {County,Address}  {County,Site Num}  {City,County Code}  {Unnamed: 0,County Code}  {Site Num,County Code}  {County,County Code}  {Address,County Code}  {County,City}  --> State\n",
      " {Address}  --> County\n",
      " --> City\n",
      " --> Date Local\n"
     ]
    }
   ],
   "source": [
    "print(deps) # w dic masks object"
   ]
  },
  {
   "cell_type": "code",
   "execution_count": 6,
   "metadata": {},
   "outputs": [
    {
     "name": "stdout",
     "output_type": "stream",
     "text": [
      " --> Unnamed: 0\n",
      " {County Code,County}  {State}  {County,City}  {Site Num,County}  {Address}  --> State Code\n",
      " {State,County}  {State Code,County}  {County,City}  {Site Num,County}  {Address}  --> County Code\n",
      " {Address}  {Unnamed: 0,City}  --> Site Num\n",
      " {County Code,Site Num}  {Site Num,Unnamed: 0}  {Date Local,Site Num,City}  {State,Site Num,City}  {Site Num,County}  {State Code,Site Num,City}  --> Address\n",
      " {County Code,County}  {State Code}  {County,City}  {Site Num,County}  {Address}  --> State\n",
      " {County Code,Site Num}  {Site Num,Unnamed: 0}  {State Code,County Code}  {County Code,State}  {County Code,City}  {Date Local,Site Num,City}  {State,Site Num,City}  {Address}  {County Code,Unnamed: 0}  {State Code,Site Num,City}  --> County\n",
      " {County Code,Site Num}  {Site Num,County}  {Address}  {Site Num,Unnamed: 0}  --> City\n",
      " --> Date Local\n"
     ]
    }
   ],
   "source": [
    "print(deps)"
   ]
  },
  {
   "cell_type": "code",
   "execution_count": 5,
   "metadata": {
    "scrolled": true
   },
   "outputs": [
    {
     "name": "stderr",
     "output_type": "stream",
     "text": [
      "100%|██████████| 9/9 [01:29<00:00,  7.56s/it]\n"
     ]
    },
    {
     "data": {
      "text/plain": [
       "89.8125548362732"
      ]
     },
     "execution_count": 5,
     "metadata": {},
     "output_type": "execute_result"
    }
   ],
   "source": [
    "import time\n",
    "start = time.time()\n",
    "deps = user_interaction.find_dependencies(pollution_df_small, 0.98, 0.95)\n",
    "time.time() - start"
   ]
  },
  {
   "cell_type": "code",
   "execution_count": 6,
   "metadata": {},
   "outputs": [
    {
     "name": "stdout",
     "output_type": "stream",
     "text": [
      " --> Unnamed: 0\n",
      " {State}  {County Code,County}  {Site Num,Date Local,City}  {Site Num,Unnamed: 0}  {Site Num,County}  {Address}  {County Code,Site Num}  --> State Code\n",
      " {County,State Code}  {Site Num,City}  {Unnamed: 0,City}  {Site Num,Unnamed: 0}  {City,County}  {Site Num,County}  {State,County}  {Address}  --> County Code\n",
      " {Address}  --> Site Num\n",
      " {Site Num,County}  --> Address\n",
      " {County Code,County}  {Site Num,Date Local,City}  {Site Num,Unnamed: 0}  {State Code}  {Site Num,County}  {Address}  {County Code,Site Num}  --> State\n",
      " {Address}  --> County\n",
      " {Address}  {Site Num,County}  --> City\n",
      " --> Date Local\n"
     ]
    }
   ],
   "source": [
    "print(deps)"
   ]
  },
  {
   "cell_type": "code",
   "execution_count": 3,
   "metadata": {},
   "outputs": [
    {
     "name": "stderr",
     "output_type": "stream",
     "text": [
      "100%|██████████| 9/9 [03:44<00:00, 33.89s/it]\n"
     ]
    },
    {
     "data": {
      "text/plain": [
       "224.34501886367798"
      ]
     },
     "execution_count": 3,
     "metadata": {},
     "output_type": "execute_result"
    }
   ],
   "source": [
    "import time\n",
    "start = time.time()\n",
    "deps = user_interaction.find_dependencies(pollution_df_small, 0.98, 0.95)\n",
    "time.time() - start"
   ]
  },
  {
   "cell_type": "code",
   "execution_count": 4,
   "metadata": {},
   "outputs": [
    {
     "name": "stdout",
     "output_type": "stream",
     "text": [
      " --> Unnamed: 0\n",
      " {Unnamed: 0,County Code}  {Site Num,County Code}  {Address}  {City,Site Num,Date Local}  {City,County Code}  {County,County Code}  {State}  {County,Site Num}  {Unnamed: 0,Site Num}  --> State Code\n",
      " {City,County}  {County,Unnamed: 0}  {Address}  {County,Site Num}  {County,State}  {State Code,County}  {City,Site Num}  --> County Code\n",
      " {City,Unnamed: 0}  {Address}  --> Site Num\n",
      " {Site Num,County Code}  {City,Site Num,Date Local}  {City,Site Num,State}  {State Code,City,Site Num}  {County,Site Num}  {Unnamed: 0,Site Num}  --> Address\n",
      " {Unnamed: 0,County Code}  {Site Num,County Code}  {Address}  {City,Site Num,Date Local}  {State Code}  {City,County Code}  {County,County Code}  {County,Site Num}  {Unnamed: 0,Site Num}  --> State\n",
      " {Unnamed: 0,County Code}  {Site Num,County Code}  {Address}  {City,Site Num,Date Local}  {State Code,County Code}  {City,Site Num,State}  {City,County Code}  {County Code,State}  {State Code,City,Site Num}  --> County\n",
      " {County,Site Num}  {Site Num,County Code}  {Unnamed: 0,Site Num}  {Address}  --> City\n",
      " --> Date Local\n"
     ]
    }
   ],
   "source": [
    "print(deps)"
   ]
  },
  {
   "cell_type": "code",
   "execution_count": 15,
   "metadata": {},
   "outputs": [],
   "source": [
    "new_grps = normalize.normalize(deps)"
   ]
  },
  {
   "cell_type": "code",
   "execution_count": 16,
   "metadata": {},
   "outputs": [
    {
     "name": "stdout",
     "output_type": "stream",
     "text": [
      " --> Unnamed: 0\n",
      " --> City\n",
      " --> Date Local\n",
      "\n",
      "\n",
      "\n",
      " --> City\n",
      " {City}  --> Address\n",
      " {City}  --> State\n",
      "\n",
      "\n",
      "\n",
      " --> State\n",
      " {State}  --> State Code\n",
      "\n",
      "\n",
      "\n",
      " --> Address\n",
      " {Address}  --> Site Num\n",
      " {Address}  --> County\n",
      "\n",
      "\n",
      "\n",
      " --> County\n",
      " {County}  --> County Code\n",
      "\n",
      "\n",
      "\n"
     ]
    }
   ],
   "source": [
    "for grp in new_grps:\n",
    "    print(grp)\n",
    "    print(\"\\n\\n\")"
   ]
  },
  {
   "cell_type": "markdown",
   "metadata": {},
   "source": [
    "### Food Example Compacted"
   ]
  },
  {
   "cell_type": "code",
   "execution_count": null,
   "metadata": {},
   "outputs": [],
   "source": [
    "deps = user_interaction.find_dependencies(food_df, 1.00)\n",
    "print(deps)\n",
    "deps = user_interaction.find_dependencies(food_df, .95)\n",
    "print(deps)"
   ]
  },
  {
   "cell_type": "code",
   "execution_count": null,
   "metadata": {},
   "outputs": [],
   "source": [
    "auto_norm_dfs = user_interaction.auto_normalize(food_df)\n",
    "for df in auto_norm_dfs:\n",
    "    print(df)\n",
    "\n",
    "deps = user_interaction.find_dependencies(food_df)\n",
    "print(deps)\n",
    "new_grps = normalize.normalize(deps)\n",
    "for x in new_grps:\n",
    "    print('\\n ~ ~ ~ ~ ~ ~ ~ ~ ~ ~ \\n')\n",
    "    print(x)"
   ]
  },
  {
   "cell_type": "markdown",
   "metadata": {},
   "source": [
    "# Crime Example "
   ]
  },
  {
   "cell_type": "code",
   "execution_count": null,
   "metadata": {},
   "outputs": [],
   "source": [
    "auto_crime = user_interaction.auto_normalize(crime_df)"
   ]
  },
  {
   "cell_type": "code",
   "execution_count": null,
   "metadata": {},
   "outputs": [],
   "source": [
    "crime_deps = user_interaction.find_dependencies(crime_df)\n",
    "print(crime_deps)"
   ]
  },
  {
   "cell_type": "code",
   "execution_count": null,
   "metadata": {},
   "outputs": [],
   "source": [
    "new_grps_crime = normalize.normalize(crime_deps)\n",
    "for x in new_grps_crime:\n",
    "    print('\\n ~ ~ ~ ~ ~ ~ ~ ~ ~ ~ ~ \\n')\n",
    "    print(x)"
   ]
  },
  {
   "cell_type": "markdown",
   "metadata": {},
   "source": [
    "# Liquor Example"
   ]
  },
  {
   "cell_type": "code",
   "execution_count": null,
   "metadata": {},
   "outputs": [],
   "source": [
    "liquor_deps = user_interaction.find_dependencies(liquor_df)\n",
    "print(liquor_deps)"
   ]
  },
  {
   "cell_type": "code",
   "execution_count": null,
   "metadata": {},
   "outputs": [],
   "source": [
    "new_grps_liquor = normalize.normalize(liquor_deps)\n",
    "for x in new_grps_liquor:\n",
    "    print('\\n ~ ~ ~ ~ ~ ~ ~ ~ ~ ~ ~ ~  \\n')\n",
    "    print(x)"
   ]
  }
 ],
 "metadata": {
  "kernelspec": {
   "display_name": "Python 3",
   "language": "python",
   "name": "python3"
  },
  "language_info": {
   "codemirror_mode": {
    "name": "ipython",
    "version": 3
   },
   "file_extension": ".py",
   "mimetype": "text/x-python",
   "name": "python",
   "nbconvert_exporter": "python",
   "pygments_lexer": "ipython3",
   "version": "3.7.3"
  }
 },
 "nbformat": 4,
 "nbformat_minor": 2
}
