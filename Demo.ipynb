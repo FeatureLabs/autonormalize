{
 "cells": [
  {
   "cell_type": "code",
   "execution_count": null,
   "metadata": {},
   "outputs": [],
   "source": [
    "import os\n",
    "import user_interaction\n",
    "import normalize\n",
    "import pandas as pd"
   ]
  },
  {
   "cell_type": "code",
   "execution_count": null,
   "metadata": {
    "scrolled": false
   },
   "outputs": [],
   "source": [
    "crime_df = pd.read_csv(os.path.join(os.getcwd(), 'crime.csv'))\n",
    "crime_df = crime_df.drop(columns=crime_df.columns[10:])\n",
    "crime_df = crime_df.dropna()\n",
    "crime_df = crime_df.drop_duplicates()"
   ]
  },
  {
   "cell_type": "code",
   "execution_count": null,
   "metadata": {},
   "outputs": [],
   "source": [
    "pollution_df = pd.read_csv(os.path.join(os.getcwd(), 'pollution.csv'))\n",
    "pollution_df = pollution_df.drop(columns=pollution_df.columns[9:])\n",
    "pollution_df_small = pollution_df.drop(range(300000, 1746661))"
   ]
  },
  {
   "cell_type": "code",
   "execution_count": null,
   "metadata": {
    "scrolled": true
   },
   "outputs": [],
   "source": [
    "food_df = pd.read_csv(os.path.join(os.getcwd(), 'food.csv'), encoding='latin1')\n",
    "food_df = food_df.drop(columns=food_df.columns[10:])"
   ]
  },
  {
   "cell_type": "code",
   "execution_count": null,
   "metadata": {},
   "outputs": [],
   "source": [
    "liquor_df = pd.read_csv(os.path.join(os.getcwd(), 'liquor.csv'))\n",
    "liquor_df = liquor_df.drop(columns=liquor_df.columns[12:])\n",
    "liquor_df = liquor_df.drop(range(3000000, 12591077))\n",
    "liquor_df = liquor_df.dropna()\n",
    "liquor_df = liquor_df.drop_duplicates()"
   ]
  },
  {
   "cell_type": "code",
   "execution_count": 17,
   "metadata": {
    "scrolled": true
   },
   "outputs": [
    {
     "name": "stderr",
     "output_type": "stream",
     "text": [
      "\n",
      "  0%|          | 0/9 [00:00<?, ?it/s]\u001b[A\n",
      " 11%|█         | 1/9 [00:01<00:14,  1.83s/it]\u001b[A\n",
      " 22%|██▏       | 2/9 [00:34<01:17, 11.01s/it]\u001b[A\n",
      " 33%|███▎      | 3/9 [01:40<02:45, 27.56s/it]\u001b[A\n",
      " 44%|████▍     | 4/9 [01:42<01:39, 19.86s/it]\u001b[A\n",
      " 56%|█████▌    | 5/9 [03:02<02:32, 38.01s/it]\u001b[A\n",
      " 67%|██████▋   | 6/9 [03:58<02:10, 43.48s/it]\u001b[A\n",
      " 78%|███████▊  | 7/9 [04:02<01:02, 31.39s/it]\u001b[A\n",
      " 89%|████████▉ | 8/9 [04:27<00:29, 29.55s/it]\u001b[A\n",
      "100%|██████████| 9/9 [04:52<00:00, 28.13s/it]\u001b[A"
     ]
    },
    {
     "data": {
      "text/plain": [
       "292.36692476272583"
      ]
     },
     "execution_count": 17,
     "metadata": {},
     "output_type": "execute_result"
    }
   ],
   "source": [
    "import time\n",
    "start = time.time()\n",
    "deps = user_interaction.find_dependencies(pollution_df_small, 0.97)\n",
    "time.time() - start"
   ]
  },
  {
   "cell_type": "code",
   "execution_count": 14,
   "metadata": {
    "scrolled": false
   },
   "outputs": [
    {
     "name": "stdout",
     "output_type": "stream",
     "text": [
      " --> Unnamed: 0\n",
      " {State}  {City}  --> State Code\n",
      " {State,City}  {State Code,City}  {Unnamed: 0,City}  {County}  {Address}  {Site Num,City}  --> County Code\n",
      " {City,County Code}  {Unnamed: 0,City}  {Address}  {County,City}  --> Site Num\n",
      " {Site Num,City}  {County,Site Num}  {Site Num,County Code}  --> Address\n",
      " {City}  --> State\n",
      " {City,County Code}  {Site Num,County Code}  {Address}  {State,County Code}  {State Code,County Code}  --> County\n",
      " {Address}  --> City\n",
      " --> Date Local\n"
     ]
    }
   ],
   "source": [
    "print(deps)"
   ]
  },
  {
   "cell_type": "code",
   "execution_count": 15,
   "metadata": {},
   "outputs": [],
   "source": [
    "new_grps = normalize.normalize(deps)"
   ]
  },
  {
   "cell_type": "code",
   "execution_count": 16,
   "metadata": {},
   "outputs": [
    {
     "name": "stdout",
     "output_type": "stream",
     "text": [
      " --> Unnamed: 0\n",
      " --> City\n",
      " --> Date Local\n",
      "\n",
      "\n",
      "\n",
      " --> City\n",
      " {City}  --> Address\n",
      " {City}  --> State\n",
      "\n",
      "\n",
      "\n",
      " --> State\n",
      " {State}  --> State Code\n",
      "\n",
      "\n",
      "\n",
      " --> Address\n",
      " {Address}  --> Site Num\n",
      " {Address}  --> County\n",
      "\n",
      "\n",
      "\n",
      " --> County\n",
      " {County}  --> County Code\n",
      "\n",
      "\n",
      "\n"
     ]
    }
   ],
   "source": [
    "for grp in new_grps:\n",
    "    print(grp)\n",
    "    print(\"\\n\\n\")"
   ]
  },
  {
   "cell_type": "markdown",
   "metadata": {},
   "source": [
    "### Food Example Compacted"
   ]
  },
  {
   "cell_type": "code",
   "execution_count": null,
   "metadata": {},
   "outputs": [],
   "source": [
    "deps = user_interaction.find_dependencies(food_df, 1.00)\n",
    "print(deps)\n",
    "deps = user_interaction.find_dependencies(food_df, .95)\n",
    "print(deps)"
   ]
  },
  {
   "cell_type": "code",
   "execution_count": null,
   "metadata": {},
   "outputs": [],
   "source": [
    "auto_norm_dfs = user_interaction.auto_normalize(food_df)\n",
    "for df in auto_norm_dfs:\n",
    "    print(df)\n",
    "\n",
    "deps = user_interaction.find_dependencies(food_df)\n",
    "print(deps)\n",
    "new_grps = normalize.normalize(deps)\n",
    "for x in new_grps:\n",
    "    print('\\n ~ ~ ~ ~ ~ ~ ~ ~ ~ ~ \\n')\n",
    "    print(x)"
   ]
  },
  {
   "cell_type": "markdown",
   "metadata": {},
   "source": [
    "# Crime Example "
   ]
  },
  {
   "cell_type": "code",
   "execution_count": null,
   "metadata": {},
   "outputs": [],
   "source": [
    "auto_crime = user_interaction.auto_normalize(crime_df)"
   ]
  },
  {
   "cell_type": "code",
   "execution_count": null,
   "metadata": {},
   "outputs": [],
   "source": [
    "crime_deps = user_interaction.find_dependencies(crime_df)\n",
    "print(crime_deps)"
   ]
  },
  {
   "cell_type": "code",
   "execution_count": null,
   "metadata": {},
   "outputs": [],
   "source": [
    "new_grps_crime = normalize.normalize(crime_deps)\n",
    "for x in new_grps_crime:\n",
    "    print('\\n ~ ~ ~ ~ ~ ~ ~ ~ ~ ~ ~ \\n')\n",
    "    print(x)"
   ]
  },
  {
   "cell_type": "markdown",
   "metadata": {},
   "source": [
    "# Liquor Example"
   ]
  },
  {
   "cell_type": "code",
   "execution_count": null,
   "metadata": {},
   "outputs": [],
   "source": [
    "liquor_deps = user_interaction.find_dependencies(liquor_df)\n",
    "print(liquor_deps)"
   ]
  },
  {
   "cell_type": "code",
   "execution_count": null,
   "metadata": {},
   "outputs": [],
   "source": [
    "new_grps_liquor = normalize.normalize(liquor_deps)\n",
    "for x in new_grps_liquor:\n",
    "    print('\\n ~ ~ ~ ~ ~ ~ ~ ~ ~ ~ ~ ~  \\n')\n",
    "    print(x)"
   ]
  }
 ],
 "metadata": {
  "kernelspec": {
   "display_name": "Python 3",
   "language": "python",
   "name": "python3"
  },
  "language_info": {
   "codemirror_mode": {
    "name": "ipython",
    "version": 3
   },
   "file_extension": ".py",
   "mimetype": "text/x-python",
   "name": "python",
   "nbconvert_exporter": "python",
   "pygments_lexer": "ipython3",
   "version": "3.7.3"
  }
 },
 "nbformat": 4,
 "nbformat_minor": 2
}
