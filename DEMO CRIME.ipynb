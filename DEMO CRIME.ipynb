{
 "cells": [
  {
   "cell_type": "code",
   "execution_count": 1,
   "metadata": {},
   "outputs": [],
   "source": [
    "import os\n",
    "\n",
    "import pandas as pd\n",
    "import autonormalize as an"
   ]
  },
  {
   "cell_type": "code",
   "execution_count": 2,
   "metadata": {},
   "outputs": [
    {
     "name": "stderr",
     "output_type": "stream",
     "text": [
      "/usr/local/lib/python3.7/site-packages/IPython/core/interactiveshell.py:3049: DtypeWarning: Columns (16) have mixed types. Specify dtype option on import or set low_memory=False.\n",
      "  interactivity=interactivity, compiler=compiler, result=result)\n"
     ]
    },
    {
     "name": "stdout",
     "output_type": "stream",
     "text": [
      "Rows: 638454\n",
      "Columns: 10\n"
     ]
    },
    {
     "data": {
      "text/html": [
       "<div>\n",
       "<style scoped>\n",
       "    .dataframe tbody tr th:only-of-type {\n",
       "        vertical-align: middle;\n",
       "    }\n",
       "\n",
       "    .dataframe tbody tr th {\n",
       "        vertical-align: top;\n",
       "    }\n",
       "\n",
       "    .dataframe thead th {\n",
       "        text-align: right;\n",
       "    }\n",
       "</style>\n",
       "<table border=\"1\" class=\"dataframe\">\n",
       "  <thead>\n",
       "    <tr style=\"text-align: right;\">\n",
       "      <th></th>\n",
       "      <th>Record ID</th>\n",
       "      <th>Agency Code</th>\n",
       "      <th>Agency Name</th>\n",
       "      <th>Agency Type</th>\n",
       "      <th>City</th>\n",
       "      <th>State</th>\n",
       "      <th>Year</th>\n",
       "      <th>Month</th>\n",
       "      <th>Incident</th>\n",
       "      <th>Crime Type</th>\n",
       "    </tr>\n",
       "  </thead>\n",
       "  <tbody>\n",
       "    <tr>\n",
       "      <th>0</th>\n",
       "      <td>1</td>\n",
       "      <td>AK00101</td>\n",
       "      <td>Anchorage</td>\n",
       "      <td>Municipal Police</td>\n",
       "      <td>Anchorage</td>\n",
       "      <td>Alaska</td>\n",
       "      <td>1980</td>\n",
       "      <td>January</td>\n",
       "      <td>1</td>\n",
       "      <td>Murder or Manslaughter</td>\n",
       "    </tr>\n",
       "    <tr>\n",
       "      <th>1</th>\n",
       "      <td>2</td>\n",
       "      <td>AK00101</td>\n",
       "      <td>Anchorage</td>\n",
       "      <td>Municipal Police</td>\n",
       "      <td>Anchorage</td>\n",
       "      <td>Alaska</td>\n",
       "      <td>1980</td>\n",
       "      <td>March</td>\n",
       "      <td>1</td>\n",
       "      <td>Murder or Manslaughter</td>\n",
       "    </tr>\n",
       "    <tr>\n",
       "      <th>2</th>\n",
       "      <td>3</td>\n",
       "      <td>AK00101</td>\n",
       "      <td>Anchorage</td>\n",
       "      <td>Municipal Police</td>\n",
       "      <td>Anchorage</td>\n",
       "      <td>Alaska</td>\n",
       "      <td>1980</td>\n",
       "      <td>March</td>\n",
       "      <td>2</td>\n",
       "      <td>Murder or Manslaughter</td>\n",
       "    </tr>\n",
       "  </tbody>\n",
       "</table>\n",
       "</div>"
      ],
      "text/plain": [
       "   Record ID Agency Code Agency Name       Agency Type       City   State  \\\n",
       "0          1     AK00101   Anchorage  Municipal Police  Anchorage  Alaska   \n",
       "1          2     AK00101   Anchorage  Municipal Police  Anchorage  Alaska   \n",
       "2          3     AK00101   Anchorage  Municipal Police  Anchorage  Alaska   \n",
       "\n",
       "   Year    Month  Incident              Crime Type  \n",
       "0  1980  January         1  Murder or Manslaughter  \n",
       "1  1980    March         1  Murder or Manslaughter  \n",
       "2  1980    March         2  Murder or Manslaughter  "
      ]
     },
     "execution_count": 2,
     "metadata": {},
     "output_type": "execute_result"
    }
   ],
   "source": [
    "crime_df = pd.read_csv(os.path.join(os.getcwd(), 'autonormalize/downloads/crime.csv'))\n",
    "crime_df = crime_df.drop(columns=crime_df.columns[10:])\n",
    "crime_df = crime_df.dropna()\n",
    "crime_df = crime_df.drop_duplicates()\n",
    "print(\"Rows: \"+ str(crime_df.shape[0]))\n",
    "print(\"Columns: \" + str(crime_df.shape[1]))\n",
    "crime_df.head(3)"
   ]
  },
  {
   "cell_type": "code",
   "execution_count": 5,
   "metadata": {},
   "outputs": [
    {
     "name": "stderr",
     "output_type": "stream",
     "text": [
      "100%|██████████| 9/9 [00:14<00:00,  1.37s/it]\n",
      "100%|██████████| 9/9 [11:11<00:00, 42.99s/it] \n"
     ]
    },
    {
     "name": "stdout",
     "output_type": "stream",
     "text": [
      "Exact dependencies...\n",
      " --> Record ID\n",
      " {Record ID}  --> Agency Code\n",
      " {Record ID}  --> Agency Name\n",
      " {Record ID}  --> Agency Type\n",
      " {Record ID}  --> City\n",
      " {Record ID}  {Agency Code}  --> State\n",
      " {Record ID}  --> Year\n",
      " {Record ID}  --> Month\n",
      " {Record ID}  --> Incident\n",
      " {Record ID}  --> Crime Type\n",
      "\n",
      "Approximate dependencies...\n",
      " --> Record ID\n",
      " {Record ID}  {Agency Name,City}  {Agency Type,Agency Name}  {Agency Name,State}  --> Agency Code\n",
      " {Record ID}  {Agency Code}  --> Agency Name\n",
      " {Record ID}  {Agency Code}  {Agency Name}  --> Agency Type\n",
      " {Record ID}  {Agency Code}  {Agency Name}  --> City\n",
      " {Record ID}  {Agency Name,City}  {Agency Code}  {Agency Type,Agency Name}  {Agency Type,Year,City}  {Year,Month,City,Incident}  {Year,Agency Name}  {Year,Crime Type,City,Month}  --> State\n",
      " {Record ID}  --> Year\n",
      " {Record ID}  --> Month\n",
      " {Record ID}  --> Incident\n",
      " {Record ID}  {Agency Code}  {Agency Name}  {Incident}  {State}  {City}  {Year}  {Agency Type}  {Month}  --> Crime Type\n"
     ]
    }
   ],
   "source": [
    "deps_exact = an.find_dependencies(crime_df, 1.00)\n",
    "deps_approx = an.find_dependencies(crime_df, 0.94)\n",
    "print(\"Exact dependencies...\")\n",
    "print(deps_exact)\n",
    "print(\"\\nApproximate dependencies...\")\n",
    "print(deps_approx)"
   ]
  },
  {
   "cell_type": "code",
   "execution_count": 6,
   "metadata": {},
   "outputs": [
    {
     "name": "stdout",
     "output_type": "stream",
     "text": [
      "\n",
      "~ ~ ~ ~ ~ ~ ~ ~ ~ ~ ~ ~ ~\n",
      "\n",
      " --> Record ID\n",
      " {Record ID}  --> Agency Name\n",
      " {Record ID}  --> Year\n",
      " {Record ID}  --> Month\n",
      " {Record ID}  --> Incident\n",
      "\n",
      "~ ~ ~ ~ ~ ~ ~ ~ ~ ~ ~ ~ ~\n",
      "\n",
      " {Agency Code}  --> Agency Name\n",
      " {Agency Name}  {Agency Name}  {Agency Name}  --> Agency Code\n",
      " {Agency Code}  {Agency Name}  --> Agency Type\n",
      " {Agency Code}  {Agency Name}  --> City\n",
      " {Agency Name}  {Agency Code}  {Agency Name}  {Agency Name}  --> State\n",
      "\n",
      "~ ~ ~ ~ ~ ~ ~ ~ ~ ~ ~ ~ ~\n",
      "\n",
      " --> State\n",
      " {State}  --> Crime Type\n"
     ]
    }
   ],
   "source": [
    "groupings = an.normalize_dependencies(deps_approx)\n",
    "for grp in groupings:\n",
    "    print('\\n~ ~ ~ ~ ~ ~ ~ ~ ~ ~ ~ ~ ~\\n')\n",
    "    print(grp)"
   ]
  },
  {
   "cell_type": "code",
   "execution_count": null,
   "metadata": {},
   "outputs": [],
   "source": []
  }
 ],
 "metadata": {
  "kernelspec": {
   "display_name": "Python 3",
   "language": "python",
   "name": "python3"
  },
  "language_info": {
   "codemirror_mode": {
    "name": "ipython",
    "version": 3
   },
   "file_extension": ".py",
   "mimetype": "text/x-python",
   "name": "python",
   "nbconvert_exporter": "python",
   "pygments_lexer": "ipython3",
   "version": "3.7.3"
  }
 },
 "nbformat": 4,
 "nbformat_minor": 2
}
