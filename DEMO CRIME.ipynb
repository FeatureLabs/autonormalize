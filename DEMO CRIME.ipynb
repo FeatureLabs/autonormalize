{
 "cells": [
  {
   "cell_type": "code",
   "execution_count": 1,
   "metadata": {},
   "outputs": [],
   "source": [
    "import os\n",
    "\n",
    "import pandas as pd\n",
    "import autonormalize as an"
   ]
  },
  {
   "cell_type": "code",
   "execution_count": 2,
   "metadata": {},
   "outputs": [
    {
     "name": "stderr",
     "output_type": "stream",
     "text": [
      "/usr/local/lib/python3.7/site-packages/IPython/core/interactiveshell.py:3049: DtypeWarning: Columns (16) have mixed types. Specify dtype option on import or set low_memory=False.\n",
      "  interactivity=interactivity, compiler=compiler, result=result)\n"
     ]
    },
    {
     "name": "stdout",
     "output_type": "stream",
     "text": [
      "Rows: 638454\n",
      "Columns: 10\n"
     ]
    },
    {
     "data": {
      "text/html": [
       "<div>\n",
       "<style scoped>\n",
       "    .dataframe tbody tr th:only-of-type {\n",
       "        vertical-align: middle;\n",
       "    }\n",
       "\n",
       "    .dataframe tbody tr th {\n",
       "        vertical-align: top;\n",
       "    }\n",
       "\n",
       "    .dataframe thead th {\n",
       "        text-align: right;\n",
       "    }\n",
       "</style>\n",
       "<table border=\"1\" class=\"dataframe\">\n",
       "  <thead>\n",
       "    <tr style=\"text-align: right;\">\n",
       "      <th></th>\n",
       "      <th>Record ID</th>\n",
       "      <th>Agency Code</th>\n",
       "      <th>Agency Name</th>\n",
       "      <th>Agency Type</th>\n",
       "      <th>City</th>\n",
       "      <th>State</th>\n",
       "      <th>Year</th>\n",
       "      <th>Month</th>\n",
       "      <th>Incident</th>\n",
       "      <th>Crime Type</th>\n",
       "    </tr>\n",
       "  </thead>\n",
       "  <tbody>\n",
       "    <tr>\n",
       "      <th>0</th>\n",
       "      <td>1</td>\n",
       "      <td>AK00101</td>\n",
       "      <td>Anchorage</td>\n",
       "      <td>Municipal Police</td>\n",
       "      <td>Anchorage</td>\n",
       "      <td>Alaska</td>\n",
       "      <td>1980</td>\n",
       "      <td>January</td>\n",
       "      <td>1</td>\n",
       "      <td>Murder or Manslaughter</td>\n",
       "    </tr>\n",
       "    <tr>\n",
       "      <th>1</th>\n",
       "      <td>2</td>\n",
       "      <td>AK00101</td>\n",
       "      <td>Anchorage</td>\n",
       "      <td>Municipal Police</td>\n",
       "      <td>Anchorage</td>\n",
       "      <td>Alaska</td>\n",
       "      <td>1980</td>\n",
       "      <td>March</td>\n",
       "      <td>1</td>\n",
       "      <td>Murder or Manslaughter</td>\n",
       "    </tr>\n",
       "    <tr>\n",
       "      <th>2</th>\n",
       "      <td>3</td>\n",
       "      <td>AK00101</td>\n",
       "      <td>Anchorage</td>\n",
       "      <td>Municipal Police</td>\n",
       "      <td>Anchorage</td>\n",
       "      <td>Alaska</td>\n",
       "      <td>1980</td>\n",
       "      <td>March</td>\n",
       "      <td>2</td>\n",
       "      <td>Murder or Manslaughter</td>\n",
       "    </tr>\n",
       "  </tbody>\n",
       "</table>\n",
       "</div>"
      ],
      "text/plain": [
       "   Record ID Agency Code Agency Name       Agency Type       City   State  \\\n",
       "0          1     AK00101   Anchorage  Municipal Police  Anchorage  Alaska   \n",
       "1          2     AK00101   Anchorage  Municipal Police  Anchorage  Alaska   \n",
       "2          3     AK00101   Anchorage  Municipal Police  Anchorage  Alaska   \n",
       "\n",
       "   Year    Month  Incident              Crime Type  \n",
       "0  1980  January         1  Murder or Manslaughter  \n",
       "1  1980    March         1  Murder or Manslaughter  \n",
       "2  1980    March         2  Murder or Manslaughter  "
      ]
     },
     "execution_count": 2,
     "metadata": {},
     "output_type": "execute_result"
    }
   ],
   "source": [
    "crime_df = pd.read_csv(os.path.join(os.getcwd(), 'autonormalize/downloads/crime.csv'))\n",
    "crime_df = crime_df.drop(columns=crime_df.columns[10:])\n",
    "crime_df = crime_df.dropna()\n",
    "crime_df = crime_df.drop_duplicates()\n",
    "print(\"Rows: \"+ str(crime_df.shape[0]))\n",
    "print(\"Columns: \" + str(crime_df.shape[1]))\n",
    "crime_df.head(3)"
   ]
  },
  {
   "cell_type": "code",
   "execution_count": 3,
   "metadata": {},
   "outputs": [
    {
     "name": "stderr",
     "output_type": "stream",
     "text": [
      "100%|██████████| 9/9 [10:22<00:00, 67.62s/it] \n"
     ]
    },
    {
     "name": "stdout",
     "output_type": "stream",
     "text": [
      " --> Record ID\n",
      " {Record ID}  {Agency Name,State}  {City,Agency Name}  {Agency Name,Agency Type}  --> Agency Code\n",
      " {Record ID}  {Agency Code}  --> Agency Name\n",
      " {Record ID}  {Agency Name}  {Agency Code}  --> Agency Type\n",
      " {Record ID}  {Agency Name}  {Agency Code}  --> City\n",
      " {Record ID}  {City,Year,Crime Type,Month}  {Agency Name,Year}  {Incident,City,Year,Month}  {City,Agency Name}  {City,Agency Type,Year}  {Agency Code}  {Agency Name,Agency Type}  --> State\n",
      " {Record ID}  --> Year\n",
      " {Record ID}  --> Month\n",
      " {Record ID}  --> Incident\n",
      " {Record ID}  {City}  {Month}  {State}  {Year}  {Incident}  {Agency Name}  {Agency Code}  {Agency Type}  --> Crime Type\n"
     ]
    }
   ],
   "source": [
    "deps_approx = an.find_dependencies(crime_df, 0.94)\n",
    "print(deps_approx)"
   ]
  },
  {
   "cell_type": "code",
   "execution_count": 4,
   "metadata": {},
   "outputs": [
    {
     "name": "stdout",
     "output_type": "stream",
     "text": [
      "\n",
      "~ ~ ~ ~ ~ ~ ~ ~ ~ ~ ~ ~ ~\n",
      "\n",
      " --> Record ID\n",
      " {Record ID}  --> Agency Code\n",
      " {Record ID}  --> Year\n",
      " {Record ID}  --> Month\n",
      " {Record ID}  --> Incident\n",
      "\n",
      "~ ~ ~ ~ ~ ~ ~ ~ ~ ~ ~ ~ ~\n",
      "\n",
      " {Agency Name}  --> Agency Code\n",
      " {Agency Code}  --> Agency Name\n",
      " {Agency Name}  {Agency Code}  --> Agency Type\n",
      " {Agency Name}  {Agency Code}  --> City\n",
      " {Agency Code}  {Agency Name}  --> State\n",
      "\n",
      "~ ~ ~ ~ ~ ~ ~ ~ ~ ~ ~ ~ ~\n",
      "\n",
      " --> Agency Type\n",
      " {Agency Type}  --> Crime Type\n"
     ]
    }
   ],
   "source": [
    "groupings = an.normalize_dependencies(deps_approx)\n",
    "for grp in groupings:\n",
    "    print('\\n~ ~ ~ ~ ~ ~ ~ ~ ~ ~ ~ ~ ~\\n')\n",
    "    print(grp)"
   ]
  },
  {
   "cell_type": "code",
   "execution_count": 3,
   "metadata": {},
   "outputs": [
    {
     "name": "stderr",
     "output_type": "stream",
     "text": [
      "100%|██████████| 9/9 [03:10<00:00, 26.64s/it]\n"
     ]
    }
   ],
   "source": [
    "entityset = an.auto_entityset(crime_df, name=\"crime records\")"
   ]
  },
  {
   "cell_type": "code",
   "execution_count": 10,
   "metadata": {},
   "outputs": [
    {
     "data": {
      "image/svg+xml": [
       "<?xml version=\"1.0\" encoding=\"UTF-8\" standalone=\"no\"?>\n",
       "<!DOCTYPE svg PUBLIC \"-//W3C//DTD SVG 1.1//EN\"\n",
       " \"http://www.w3.org/Graphics/SVG/1.1/DTD/svg11.dtd\">\n",
       "<!-- Generated by graphviz version 2.40.1 (20161225.0304)\n",
       " -->\n",
       "<!-- Title: crime records Pages: 1 -->\n",
       "<svg width=\"354pt\" height=\"341pt\"\n",
       " viewBox=\"0.00 0.00 353.89 341.00\" xmlns=\"http://www.w3.org/2000/svg\" xmlns:xlink=\"http://www.w3.org/1999/xlink\">\n",
       "<g id=\"graph0\" class=\"graph\" transform=\"scale(1 1) rotate(0) translate(4 337)\">\n",
       "<title>crime records</title>\n",
       "<polygon fill=\"#ffffff\" stroke=\"transparent\" points=\"-4,4 -4,-337 349.8887,-337 349.8887,4 -4,4\"/>\n",
       "<!-- Record ID -->\n",
       "<g id=\"node1\" class=\"node\">\n",
       "<title>Record ID</title>\n",
       "<polygon fill=\"none\" stroke=\"#000000\" points=\"114.9121,-232.5 114.9121,-332.5 240.54,-332.5 240.54,-232.5 114.9121,-232.5\"/>\n",
       "<text text-anchor=\"middle\" x=\"177.7261\" y=\"-317.3\" font-family=\"Times,serif\" font-size=\"14.00\" fill=\"#000000\">Record ID</text>\n",
       "<polyline fill=\"none\" stroke=\"#000000\" points=\"114.9121,-310.5 240.54,-310.5 \"/>\n",
       "<text text-anchor=\"start\" x=\"122.9121\" y=\"-295.3\" font-family=\"Times,serif\" font-size=\"14.00\" fill=\"#000000\">Record ID : index</text>\n",
       "<text text-anchor=\"start\" x=\"122.9121\" y=\"-281.3\" font-family=\"Times,serif\" font-size=\"14.00\" fill=\"#000000\">Agency Code : id</text>\n",
       "<text text-anchor=\"start\" x=\"122.9121\" y=\"-267.3\" font-family=\"Times,serif\" font-size=\"14.00\" fill=\"#000000\">Year : numeric</text>\n",
       "<text text-anchor=\"start\" x=\"122.9121\" y=\"-253.3\" font-family=\"Times,serif\" font-size=\"14.00\" fill=\"#000000\">Month : categorical</text>\n",
       "<text text-anchor=\"start\" x=\"122.9121\" y=\"-239.3\" font-family=\"Times,serif\" font-size=\"14.00\" fill=\"#000000\">Incident : numeric</text>\n",
       "</g>\n",
       "<!-- Agency Code -->\n",
       "<g id=\"node2\" class=\"node\">\n",
       "<title>Agency Code</title>\n",
       "<polygon fill=\"none\" stroke=\"#000000\" points=\"101.1069,-123.5 101.1069,-195.5 254.3452,-195.5 254.3452,-123.5 101.1069,-123.5\"/>\n",
       "<text text-anchor=\"middle\" x=\"177.7261\" y=\"-180.3\" font-family=\"Times,serif\" font-size=\"14.00\" fill=\"#000000\">Agency Code</text>\n",
       "<polyline fill=\"none\" stroke=\"#000000\" points=\"101.1069,-173.5 254.3452,-173.5 \"/>\n",
       "<text text-anchor=\"start\" x=\"109.1069\" y=\"-158.3\" font-family=\"Times,serif\" font-size=\"14.00\" fill=\"#000000\">Agency Code : index</text>\n",
       "<text text-anchor=\"start\" x=\"109.1069\" y=\"-144.3\" font-family=\"Times,serif\" font-size=\"14.00\" fill=\"#000000\">Agency Type : id</text>\n",
       "<text text-anchor=\"start\" x=\"109.1069\" y=\"-130.3\" font-family=\"Times,serif\" font-size=\"14.00\" fill=\"#000000\">Agency Name_State : id</text>\n",
       "</g>\n",
       "<!-- Record ID&#45;&gt;Agency Code -->\n",
       "<g id=\"edge1\" class=\"edge\">\n",
       "<title>Record ID&#45;&gt;Agency Code</title>\n",
       "<path fill=\"none\" stroke=\"#000000\" d=\"M177.7261,-232.4712C177.7261,-232.4712 177.7261,-205.5315 177.7261,-205.5315\"/>\n",
       "<polygon fill=\"#000000\" stroke=\"#000000\" points=\"181.2262,-205.5315 177.7261,-195.5315 174.2262,-205.5316 181.2262,-205.5315\"/>\n",
       "<text text-anchor=\"middle\" x=\"139.4312\" y=\"-207.8014\" font-family=\"Times,serif\" font-size=\"14.00\" fill=\"#000000\">Agency Code</text>\n",
       "</g>\n",
       "<!-- Agency Name_State -->\n",
       "<g id=\"node3\" class=\"node\">\n",
       "<title>Agency Name_State</title>\n",
       "<polygon fill=\"none\" stroke=\"#000000\" points=\"0,-.5 0,-86.5 173.4521,-86.5 173.4521,-.5 0,-.5\"/>\n",
       "<text text-anchor=\"middle\" x=\"86.7261\" y=\"-71.3\" font-family=\"Times,serif\" font-size=\"14.00\" fill=\"#000000\">Agency Name_State</text>\n",
       "<polyline fill=\"none\" stroke=\"#000000\" points=\"0,-64.5 173.4521,-64.5 \"/>\n",
       "<text text-anchor=\"start\" x=\"8\" y=\"-49.3\" font-family=\"Times,serif\" font-size=\"14.00\" fill=\"#000000\">Agency Name_State : index</text>\n",
       "<text text-anchor=\"start\" x=\"8\" y=\"-35.3\" font-family=\"Times,serif\" font-size=\"14.00\" fill=\"#000000\">Agency Name : categorical</text>\n",
       "<text text-anchor=\"start\" x=\"8\" y=\"-21.3\" font-family=\"Times,serif\" font-size=\"14.00\" fill=\"#000000\">City : categorical</text>\n",
       "<text text-anchor=\"start\" x=\"8\" y=\"-7.3\" font-family=\"Times,serif\" font-size=\"14.00\" fill=\"#000000\">State : categorical</text>\n",
       "</g>\n",
       "<!-- Agency Code&#45;&gt;Agency Name_State -->\n",
       "<g id=\"edge3\" class=\"edge\">\n",
       "<title>Agency Code&#45;&gt;Agency Name_State</title>\n",
       "<path fill=\"none\" stroke=\"#000000\" d=\"M137.2795,-123.4327C137.2795,-123.4327 137.2795,-96.8823 137.2795,-96.8823\"/>\n",
       "<polygon fill=\"#000000\" stroke=\"#000000\" points=\"140.7796,-96.8822 137.2795,-86.8823 133.7796,-96.8823 140.7796,-96.8822\"/>\n",
       "<text text-anchor=\"middle\" x=\"79.55\" y=\"-98.9575\" font-family=\"Times,serif\" font-size=\"14.00\" fill=\"#000000\">Agency Name_State</text>\n",
       "</g>\n",
       "<!-- Agency Type -->\n",
       "<g id=\"node4\" class=\"node\">\n",
       "<title>Agency Type</title>\n",
       "<polygon fill=\"none\" stroke=\"#000000\" points=\"191.5635,-14.5 191.5635,-72.5 345.8887,-72.5 345.8887,-14.5 191.5635,-14.5\"/>\n",
       "<text text-anchor=\"middle\" x=\"268.7261\" y=\"-57.3\" font-family=\"Times,serif\" font-size=\"14.00\" fill=\"#000000\">Agency Type</text>\n",
       "<polyline fill=\"none\" stroke=\"#000000\" points=\"191.5635,-50.5 345.8887,-50.5 \"/>\n",
       "<text text-anchor=\"start\" x=\"199.5635\" y=\"-35.3\" font-family=\"Times,serif\" font-size=\"14.00\" fill=\"#000000\">Agency Type : index</text>\n",
       "<text text-anchor=\"start\" x=\"199.5635\" y=\"-21.3\" font-family=\"Times,serif\" font-size=\"14.00\" fill=\"#000000\">Crime Type : categorical</text>\n",
       "</g>\n",
       "<!-- Agency Code&#45;&gt;Agency Type -->\n",
       "<g id=\"edge2\" class=\"edge\">\n",
       "<title>Agency Code&#45;&gt;Agency Type</title>\n",
       "<path fill=\"none\" stroke=\"#000000\" d=\"M222.9543,-123.4327C222.9543,-123.4327 222.9543,-82.5589 222.9543,-82.5589\"/>\n",
       "<polygon fill=\"#000000\" stroke=\"#000000\" points=\"226.4544,-82.5588 222.9543,-72.5589 219.4544,-82.5589 226.4544,-82.5588\"/>\n",
       "<text text-anchor=\"middle\" x=\"185.6643\" y=\"-105.7958\" font-family=\"Times,serif\" font-size=\"14.00\" fill=\"#000000\">Agency Type</text>\n",
       "</g>\n",
       "</g>\n",
       "</svg>\n"
      ],
      "text/plain": [
       "<graphviz.dot.Digraph at 0x11f42eed0>"
      ]
     },
     "execution_count": 10,
     "metadata": {},
     "output_type": "execute_result"
    }
   ],
   "source": [
    "entityset.plot()"
   ]
  },
  {
   "cell_type": "code",
   "execution_count": null,
   "metadata": {},
   "outputs": [],
   "source": []
  }
 ],
 "metadata": {
  "kernelspec": {
   "display_name": "Python 3",
   "language": "python",
   "name": "python3"
  },
  "language_info": {
   "codemirror_mode": {
    "name": "ipython",
    "version": 3
   },
   "file_extension": ".py",
   "mimetype": "text/x-python",
   "name": "python",
   "nbconvert_exporter": "python",
   "pygments_lexer": "ipython3",
   "version": "3.7.4"
  }
 },
 "nbformat": 4,
 "nbformat_minor": 2
}
