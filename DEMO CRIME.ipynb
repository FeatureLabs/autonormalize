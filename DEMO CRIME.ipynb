{
 "cells": [
  {
   "cell_type": "code",
   "execution_count": 1,
   "metadata": {},
   "outputs": [],
   "source": [
    "import os\n",
    "\n",
    "import pandas as pd\n",
    "import autonormalize as an"
   ]
  },
  {
   "cell_type": "code",
   "execution_count": 5,
   "metadata": {},
   "outputs": [],
   "source": [
    "crime_df = pd.read_csv(os.path.join(os.getcwd(), 'autonormalize/downloads/crime.csv'))\n",
    "crime_df = crime_df.drop(columns=crime_df.columns[10:])\n",
    "crime_df = crime_df.dropna()\n",
    "crime_df = crime_df.drop_duplicates()"
   ]
  },
  {
   "cell_type": "code",
   "execution_count": 4,
   "metadata": {},
   "outputs": [
    {
     "name": "stderr",
     "output_type": "stream",
     "text": [
      "100%|██████████| 9/9 [00:14<00:00,  1.37s/it]\n",
      "100%|██████████| 9/9 [11:17<00:00, 64.69s/it]\n"
     ]
    },
    {
     "name": "stdout",
     "output_type": "stream",
     "text": [
      "Exact dependencies...\n",
      " --> Record ID\n",
      " {Record ID}  --> Agency Code\n",
      " {Record ID}  --> Agency Name\n",
      " {Record ID}  --> Agency Type\n",
      " {Record ID}  --> City\n",
      " {Record ID}  {Agency Code}  --> State\n",
      " {Record ID}  --> Year\n",
      " {Record ID}  --> Month\n",
      " {Record ID}  --> Incident\n",
      " {Record ID}  --> Crime Type\n",
      "Approximate dependencies...\n",
      " --> Record ID\n",
      " {Record ID}  {State,Agency Name}  {Agency Name,City,Agency Type}  --> Agency Code\n",
      " {Record ID}  {Agency Code}  --> Agency Name\n",
      " {Record ID}  {Agency Code}  {State,Agency Name}  {Agency Name,City}  --> Agency Type\n",
      " {Agency Code}  {Record ID}  {Agency Name,Month,Incident}  {State,Agency Name}  {Agency Name,Agency Type}  {Agency Name,Year}  --> City\n",
      " {City,Year,Month,Agency Type}  {Agency Code}  {Record ID}  {Agency Name,City}  {Agency Name,Year,Month}  --> State\n",
      " {Record ID}  --> Year\n",
      " {Record ID}  --> Month\n",
      " {Record ID}  --> Incident\n",
      " {Agency Type}  {Agency Code}  {Incident}  {Record ID}  {State}  {Year}  {City}  {Agency Name}  {Month}  --> Crime Type\n"
     ]
    }
   ],
   "source": [
    "deps_exact = an.find_dependencies(crime_df, 1.00)\n",
    "deps_approx = an.find_dependencies(crime_df, 0.96)\n",
    "print(\"Exact dependencies...\")\n",
    "print(deps_exact)\n",
    "print(\"\\nApproximate dependencies...\")\n",
    "print(deps_approx)"
   ]
  },
  {
   "cell_type": "code",
   "execution_count": 6,
   "metadata": {},
   "outputs": [
    {
     "name": "stdout",
     "output_type": "stream",
     "text": [
      "\n",
      "~ ~ ~ ~ ~ ~ ~ ~ ~ ~ ~ ~ ~\n",
      "\n",
      " --> Record ID\n",
      " {Record ID}  --> Agency Code\n",
      " {Record ID}  --> Year\n",
      " {Record ID}  --> Month\n",
      " {Record ID}  --> Incident\n",
      "\n",
      "~ ~ ~ ~ ~ ~ ~ ~ ~ ~ ~ ~ ~\n",
      "\n",
      " --> Agency Code\n",
      " {Agency Code}  --> Agency Name\n",
      " {Agency Code}  --> State\n",
      "\n",
      "~ ~ ~ ~ ~ ~ ~ ~ ~ ~ ~ ~ ~\n",
      "\n",
      " --> State\n",
      " {State}  --> Crime Type\n",
      "\n",
      "~ ~ ~ ~ ~ ~ ~ ~ ~ ~ ~ ~ ~\n",
      "\n",
      " --> State\n",
      " --> Agency Name\n",
      " {State,Agency Name}  --> City\n",
      "\n",
      "~ ~ ~ ~ ~ ~ ~ ~ ~ ~ ~ ~ ~\n",
      "\n",
      " --> Agency Name\n",
      " --> City\n",
      " {Agency Name,City}  --> Agency Type\n"
     ]
    }
   ],
   "source": [
    "groupings = an.normalize_dependencies(deps_approx)\n",
    "for grp in groupings:\n",
    "    print('\\n~ ~ ~ ~ ~ ~ ~ ~ ~ ~ ~ ~ ~\\n')\n",
    "    print(grp)"
   ]
  },
  {
   "cell_type": "code",
   "execution_count": null,
   "metadata": {},
   "outputs": [],
   "source": []
  }
 ],
 "metadata": {
  "kernelspec": {
   "display_name": "Python 3",
   "language": "python",
   "name": "python3"
  },
  "language_info": {
   "codemirror_mode": {
    "name": "ipython",
    "version": 3
   },
   "file_extension": ".py",
   "mimetype": "text/x-python",
   "name": "python",
   "nbconvert_exporter": "python",
   "pygments_lexer": "ipython3",
   "version": "3.7.3"
  }
 },
 "nbformat": 4,
 "nbformat_minor": 2
}
