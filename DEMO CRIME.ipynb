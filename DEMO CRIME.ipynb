{
 "cells": [
  {
   "cell_type": "code",
   "execution_count": 4,
   "metadata": {},
   "outputs": [],
   "source": [
    "import os\n",
    "\n",
    "import pandas as pd\n",
    "import autonormalize as an"
   ]
  },
  {
   "cell_type": "code",
   "execution_count": 5,
   "metadata": {},
   "outputs": [
    {
     "name": "stdout",
     "output_type": "stream",
     "text": [
      "Rows: 638454\n",
      "Columns: 10\n"
     ]
    },
    {
     "data": {
      "text/html": [
       "<div>\n",
       "<style scoped>\n",
       "    .dataframe tbody tr th:only-of-type {\n",
       "        vertical-align: middle;\n",
       "    }\n",
       "\n",
       "    .dataframe tbody tr th {\n",
       "        vertical-align: top;\n",
       "    }\n",
       "\n",
       "    .dataframe thead th {\n",
       "        text-align: right;\n",
       "    }\n",
       "</style>\n",
       "<table border=\"1\" class=\"dataframe\">\n",
       "  <thead>\n",
       "    <tr style=\"text-align: right;\">\n",
       "      <th></th>\n",
       "      <th>Record ID</th>\n",
       "      <th>Agency Code</th>\n",
       "      <th>Agency Name</th>\n",
       "      <th>Agency Type</th>\n",
       "      <th>City</th>\n",
       "      <th>State</th>\n",
       "      <th>Year</th>\n",
       "      <th>Month</th>\n",
       "      <th>Incident</th>\n",
       "      <th>Crime Type</th>\n",
       "    </tr>\n",
       "  </thead>\n",
       "  <tbody>\n",
       "    <tr>\n",
       "      <th>0</th>\n",
       "      <td>1</td>\n",
       "      <td>AK00101</td>\n",
       "      <td>Anchorage</td>\n",
       "      <td>Municipal Police</td>\n",
       "      <td>Anchorage</td>\n",
       "      <td>Alaska</td>\n",
       "      <td>1980</td>\n",
       "      <td>January</td>\n",
       "      <td>1</td>\n",
       "      <td>Murder or Manslaughter</td>\n",
       "    </tr>\n",
       "    <tr>\n",
       "      <th>1</th>\n",
       "      <td>2</td>\n",
       "      <td>AK00101</td>\n",
       "      <td>Anchorage</td>\n",
       "      <td>Municipal Police</td>\n",
       "      <td>Anchorage</td>\n",
       "      <td>Alaska</td>\n",
       "      <td>1980</td>\n",
       "      <td>March</td>\n",
       "      <td>1</td>\n",
       "      <td>Murder or Manslaughter</td>\n",
       "    </tr>\n",
       "    <tr>\n",
       "      <th>2</th>\n",
       "      <td>3</td>\n",
       "      <td>AK00101</td>\n",
       "      <td>Anchorage</td>\n",
       "      <td>Municipal Police</td>\n",
       "      <td>Anchorage</td>\n",
       "      <td>Alaska</td>\n",
       "      <td>1980</td>\n",
       "      <td>March</td>\n",
       "      <td>2</td>\n",
       "      <td>Murder or Manslaughter</td>\n",
       "    </tr>\n",
       "  </tbody>\n",
       "</table>\n",
       "</div>"
      ],
      "text/plain": [
       "   Record ID Agency Code Agency Name       Agency Type       City   State  \\\n",
       "0          1     AK00101   Anchorage  Municipal Police  Anchorage  Alaska   \n",
       "1          2     AK00101   Anchorage  Municipal Police  Anchorage  Alaska   \n",
       "2          3     AK00101   Anchorage  Municipal Police  Anchorage  Alaska   \n",
       "\n",
       "   Year    Month  Incident              Crime Type  \n",
       "0  1980  January         1  Murder or Manslaughter  \n",
       "1  1980    March         1  Murder or Manslaughter  \n",
       "2  1980    March         2  Murder or Manslaughter  "
      ]
     },
     "execution_count": 5,
     "metadata": {},
     "output_type": "execute_result"
    }
   ],
   "source": [
    "crime_df = pd.read_csv(os.path.join(os.getcwd(), 'autonormalize/downloads/crime.csv'))\n",
    "crime_df = crime_df.drop(columns=crime_df.columns[10:])\n",
    "crime_df = crime_df.dropna()\n",
    "crime_df = crime_df.drop_duplicates()\n",
    "print(\"Rows: \"+ str(crime_df.shape[0]))\n",
    "print(\"Columns: \" + str(crime_df.shape[1]))\n",
    "crime_df.head(3)"
   ]
  },
  {
   "cell_type": "code",
   "execution_count": 6,
   "metadata": {
    "scrolled": false
   },
   "outputs": [
    {
     "name": "stderr",
     "output_type": "stream",
     "text": [
      "\n",
      "  0%|          | 0/9 [00:00<?, ?it/s]\u001b[A\n",
      " 11%|█         | 1/9 [00:55<07:20, 55.02s/it]\u001b[A\n",
      " 22%|██▏       | 2/9 [19:02<42:33, 364.77s/it]\u001b[A\n",
      " 33%|███▎      | 3/9 [20:00<27:16, 272.74s/it]\u001b[A\n",
      " 44%|████▍     | 4/9 [21:12<17:42, 212.52s/it]\u001b[A\n",
      " 56%|█████▌    | 5/9 [28:11<18:18, 274.51s/it]\u001b[A\n",
      " 67%|██████▋   | 6/9 [28:15<09:39, 193.25s/it]\u001b[A\n",
      " 78%|███████▊  | 7/9 [32:22<06:59, 209.54s/it]\u001b[A\n",
      " 89%|████████▉ | 8/9 [32:25<02:27, 147.56s/it]\u001b[A\n",
      "100%|██████████| 9/9 [32:31<00:00, 104.99s/it]\u001b[A"
     ]
    },
    {
     "name": "stdout",
     "output_type": "stream",
     "text": [
      " --> Record ID\n",
      " {Agency Type,Agency Name}  {Agency Name,City}  {Record ID}  {Agency Name,Year,Month}  {Agency Name,State}  --> Agency Code\n",
      " {Agency Code}  {Record ID}  --> Agency Name\n",
      " {Agency Name}  {Agency Code}  {Record ID}  --> Agency Type\n",
      " {Agency Name}  {Agency Code}  {Record ID}  --> City\n",
      " {City,Crime Type,Year,Month}  {Agency Type,Agency Name}  {Agency Name,City}  {Agency Name,Year}  {Record ID}  {Agency Code}  {Agency Type,City,Year}  {Year,City,Month,Incident}  --> State\n",
      " {Record ID}  --> Year\n",
      " {Record ID}  --> Month\n",
      " {Record ID}  --> Incident\n",
      " {Agency Type}  {Record ID}  {City}  {Year}  {Agency Name}  {Month}  {Agency Code}  {Incident}  {State}  --> Crime Type\n"
     ]
    }
   ],
   "source": [
    "deps_approx = an.find_dependencies(crime_df, 0.94)\n",
    "print(deps_approx)"
   ]
  },
  {
   "cell_type": "code",
   "execution_count": 7,
   "metadata": {
    "scrolled": true
   },
   "outputs": [],
   "source": [
    "entityset = an.make_entityset(crime_df, deps_approx, name=\"crime records\")"
   ]
  },
  {
   "cell_type": "code",
   "execution_count": 8,
   "metadata": {},
   "outputs": [
    {
     "data": {
      "image/svg+xml": [
       "<?xml version=\"1.0\" encoding=\"UTF-8\" standalone=\"no\"?>\n",
       "<!DOCTYPE svg PUBLIC \"-//W3C//DTD SVG 1.1//EN\"\n",
       " \"http://www.w3.org/Graphics/SVG/1.1/DTD/svg11.dtd\">\n",
       "<!-- Generated by graphviz version 2.40.1 (20161225.0304)\n",
       " -->\n",
       "<!-- Title: crime records Pages: 1 -->\n",
       "<svg width=\"177pt\" height=\"341pt\"\n",
       " viewBox=\"0.00 0.00 176.76 341.00\" xmlns=\"http://www.w3.org/2000/svg\" xmlns:xlink=\"http://www.w3.org/1999/xlink\">\n",
       "<g id=\"graph0\" class=\"graph\" transform=\"scale(1 1) rotate(0) translate(4 337)\">\n",
       "<title>crime records</title>\n",
       "<polygon fill=\"#ffffff\" stroke=\"transparent\" points=\"-4,4 -4,-337 172.7559,-337 172.7559,4 -4,4\"/>\n",
       "<!-- Record ID -->\n",
       "<g id=\"node1\" class=\"node\">\n",
       "<title>Record ID</title>\n",
       "<polygon fill=\"none\" stroke=\"#000000\" points=\"21.564,-232.5 21.564,-332.5 147.1919,-332.5 147.1919,-232.5 21.564,-232.5\"/>\n",
       "<text text-anchor=\"middle\" x=\"84.3779\" y=\"-317.3\" font-family=\"Times,serif\" font-size=\"14.00\" fill=\"#000000\">Record ID</text>\n",
       "<polyline fill=\"none\" stroke=\"#000000\" points=\"21.564,-310.5 147.1919,-310.5 \"/>\n",
       "<text text-anchor=\"start\" x=\"29.564\" y=\"-295.3\" font-family=\"Times,serif\" font-size=\"14.00\" fill=\"#000000\">Record ID : index</text>\n",
       "<text text-anchor=\"start\" x=\"29.564\" y=\"-281.3\" font-family=\"Times,serif\" font-size=\"14.00\" fill=\"#000000\">Agency Code : id</text>\n",
       "<text text-anchor=\"start\" x=\"29.564\" y=\"-267.3\" font-family=\"Times,serif\" font-size=\"14.00\" fill=\"#000000\">Year : numeric</text>\n",
       "<text text-anchor=\"start\" x=\"29.564\" y=\"-253.3\" font-family=\"Times,serif\" font-size=\"14.00\" fill=\"#000000\">Month : categorical</text>\n",
       "<text text-anchor=\"start\" x=\"29.564\" y=\"-239.3\" font-family=\"Times,serif\" font-size=\"14.00\" fill=\"#000000\">Incident : numeric</text>\n",
       "</g>\n",
       "<!-- Agency Code -->\n",
       "<g id=\"node2\" class=\"node\">\n",
       "<title>Agency Code</title>\n",
       "<polygon fill=\"none\" stroke=\"#000000\" points=\"0,-95.5 0,-195.5 168.7559,-195.5 168.7559,-95.5 0,-95.5\"/>\n",
       "<text text-anchor=\"middle\" x=\"84.3779\" y=\"-180.3\" font-family=\"Times,serif\" font-size=\"14.00\" fill=\"#000000\">Agency Code</text>\n",
       "<polyline fill=\"none\" stroke=\"#000000\" points=\"0,-173.5 168.7559,-173.5 \"/>\n",
       "<text text-anchor=\"start\" x=\"8\" y=\"-158.3\" font-family=\"Times,serif\" font-size=\"14.00\" fill=\"#000000\">Agency Code : index</text>\n",
       "<text text-anchor=\"start\" x=\"8\" y=\"-144.3\" font-family=\"Times,serif\" font-size=\"14.00\" fill=\"#000000\">Agency Name : categorical</text>\n",
       "<text text-anchor=\"start\" x=\"8\" y=\"-130.3\" font-family=\"Times,serif\" font-size=\"14.00\" fill=\"#000000\">Agency Type : id</text>\n",
       "<text text-anchor=\"start\" x=\"8\" y=\"-116.3\" font-family=\"Times,serif\" font-size=\"14.00\" fill=\"#000000\">City : categorical</text>\n",
       "<text text-anchor=\"start\" x=\"8\" y=\"-102.3\" font-family=\"Times,serif\" font-size=\"14.00\" fill=\"#000000\">State : categorical</text>\n",
       "</g>\n",
       "<!-- Record ID&#45;&gt;Agency Code -->\n",
       "<g id=\"edge1\" class=\"edge\">\n",
       "<title>Record ID&#45;&gt;Agency Code</title>\n",
       "<path fill=\"none\" stroke=\"#000000\" d=\"M84.3779,-232.2642C84.3779,-232.2642 84.3779,-205.7297 84.3779,-205.7297\"/>\n",
       "<polygon fill=\"#000000\" stroke=\"#000000\" points=\"87.878,-205.7297 84.3779,-195.7297 80.878,-205.7298 87.878,-205.7297\"/>\n",
       "<text text-anchor=\"middle\" x=\"46.083\" y=\"-221.797\" font-family=\"Times,serif\" font-size=\"14.00\" fill=\"#000000\">Agency Code</text>\n",
       "</g>\n",
       "<!-- Agency Type -->\n",
       "<g id=\"node3\" class=\"node\">\n",
       "<title>Agency Type</title>\n",
       "<polygon fill=\"none\" stroke=\"#000000\" points=\"7.2153,-.5 7.2153,-58.5 161.5405,-58.5 161.5405,-.5 7.2153,-.5\"/>\n",
       "<text text-anchor=\"middle\" x=\"84.3779\" y=\"-43.3\" font-family=\"Times,serif\" font-size=\"14.00\" fill=\"#000000\">Agency Type</text>\n",
       "<polyline fill=\"none\" stroke=\"#000000\" points=\"7.2153,-36.5 161.5405,-36.5 \"/>\n",
       "<text text-anchor=\"start\" x=\"15.2153\" y=\"-21.3\" font-family=\"Times,serif\" font-size=\"14.00\" fill=\"#000000\">Agency Type : index</text>\n",
       "<text text-anchor=\"start\" x=\"15.2153\" y=\"-7.3\" font-family=\"Times,serif\" font-size=\"14.00\" fill=\"#000000\">Crime Type : categorical</text>\n",
       "</g>\n",
       "<!-- Agency Code&#45;&gt;Agency Type -->\n",
       "<g id=\"edge2\" class=\"edge\">\n",
       "<title>Agency Code&#45;&gt;Agency Type</title>\n",
       "<path fill=\"none\" stroke=\"#000000\" d=\"M84.3779,-95.2954C84.3779,-95.2954 84.3779,-68.7225 84.3779,-68.7225\"/>\n",
       "<polygon fill=\"#000000\" stroke=\"#000000\" points=\"87.878,-68.7225 84.3779,-58.7225 80.878,-68.7226 87.878,-68.7225\"/>\n",
       "<text text-anchor=\"middle\" x=\"47.0879\" y=\"-70.809\" font-family=\"Times,serif\" font-size=\"14.00\" fill=\"#000000\">Agency Type</text>\n",
       "</g>\n",
       "</g>\n",
       "</svg>\n"
      ],
      "text/plain": [
       "<graphviz.dot.Digraph at 0x11ad96d50>"
      ]
     },
     "execution_count": 8,
     "metadata": {},
     "output_type": "execute_result"
    }
   ],
   "source": [
    "entityset.plot()"
   ]
  },
  {
   "cell_type": "code",
   "execution_count": 9,
   "metadata": {},
   "outputs": [
    {
     "ename": "KeyError",
     "evalue": "'Provided target entity Agency Name_State does not exist in crime records'",
     "output_type": "error",
     "traceback": [
      "\u001b[0;31m---------------------------------------------------------------------------\u001b[0m",
      "\u001b[0;31mKeyError\u001b[0m                                  Traceback (most recent call last)",
      "\u001b[0;32m<ipython-input-9-ab4c8f4c69a5>\u001b[0m in \u001b[0;36m<module>\u001b[0;34m\u001b[0m\n\u001b[1;32m      1\u001b[0m \u001b[0;32mimport\u001b[0m \u001b[0mfeaturetools\u001b[0m \u001b[0;32mas\u001b[0m \u001b[0mft\u001b[0m\u001b[0;34m\u001b[0m\u001b[0;34m\u001b[0m\u001b[0m\n\u001b[0;32m----> 2\u001b[0;31m \u001b[0mfm\u001b[0m\u001b[0;34m,\u001b[0m \u001b[0mfeatures\u001b[0m \u001b[0;34m=\u001b[0m \u001b[0mft\u001b[0m\u001b[0;34m.\u001b[0m\u001b[0mdfs\u001b[0m\u001b[0;34m(\u001b[0m\u001b[0mentityset\u001b[0m\u001b[0;34m=\u001b[0m\u001b[0mentityset\u001b[0m\u001b[0;34m,\u001b[0m \u001b[0mtarget_entity\u001b[0m\u001b[0;34m=\u001b[0m\u001b[0;34m'Agency Name_State'\u001b[0m\u001b[0;34m)\u001b[0m\u001b[0;34m\u001b[0m\u001b[0;34m\u001b[0m\u001b[0m\n\u001b[0m\u001b[1;32m      3\u001b[0m \u001b[0mfeatures\u001b[0m\u001b[0;34m\u001b[0m\u001b[0;34m\u001b[0m\u001b[0m\n",
      "\u001b[0;32m/usr/local/lib/python3.7/site-packages/featuretools-0.8.0-py3.7.egg/featuretools/utils/entry_point.py\u001b[0m in \u001b[0;36mfunction_wrapper\u001b[0;34m(*args, **kwargs)\u001b[0m\n\u001b[1;32m     44\u001b[0m                     ep.on_error(error=e,\n\u001b[1;32m     45\u001b[0m                                 runtime=runtime)\n\u001b[0;32m---> 46\u001b[0;31m                 \u001b[0;32mraise\u001b[0m \u001b[0me\u001b[0m\u001b[0;34m\u001b[0m\u001b[0;34m\u001b[0m\u001b[0m\n\u001b[0m\u001b[1;32m     47\u001b[0m \u001b[0;34m\u001b[0m\u001b[0m\n\u001b[1;32m     48\u001b[0m             \u001b[0;31m# send return value\u001b[0m\u001b[0;34m\u001b[0m\u001b[0;34m\u001b[0m\u001b[0;34m\u001b[0m\u001b[0m\n",
      "\u001b[0;32m/usr/local/lib/python3.7/site-packages/featuretools-0.8.0-py3.7.egg/featuretools/utils/entry_point.py\u001b[0m in \u001b[0;36mfunction_wrapper\u001b[0;34m(*args, **kwargs)\u001b[0m\n\u001b[1;32m     36\u001b[0m                 \u001b[0;31m# call function\u001b[0m\u001b[0;34m\u001b[0m\u001b[0;34m\u001b[0m\u001b[0;34m\u001b[0m\u001b[0m\n\u001b[1;32m     37\u001b[0m                 \u001b[0mstart\u001b[0m \u001b[0;34m=\u001b[0m \u001b[0mtime\u001b[0m\u001b[0;34m.\u001b[0m\u001b[0mtime\u001b[0m\u001b[0;34m(\u001b[0m\u001b[0;34m)\u001b[0m\u001b[0;34m\u001b[0m\u001b[0;34m\u001b[0m\u001b[0m\n\u001b[0;32m---> 38\u001b[0;31m                 \u001b[0mreturn_value\u001b[0m \u001b[0;34m=\u001b[0m \u001b[0mfunc\u001b[0m\u001b[0;34m(\u001b[0m\u001b[0;34m*\u001b[0m\u001b[0margs\u001b[0m\u001b[0;34m,\u001b[0m \u001b[0;34m**\u001b[0m\u001b[0mkwargs\u001b[0m\u001b[0;34m)\u001b[0m\u001b[0;34m\u001b[0m\u001b[0;34m\u001b[0m\u001b[0m\n\u001b[0m\u001b[1;32m     39\u001b[0m                 \u001b[0mruntime\u001b[0m \u001b[0;34m=\u001b[0m \u001b[0mtime\u001b[0m\u001b[0;34m.\u001b[0m\u001b[0mtime\u001b[0m\u001b[0;34m(\u001b[0m\u001b[0;34m)\u001b[0m \u001b[0;34m-\u001b[0m \u001b[0mstart\u001b[0m\u001b[0;34m\u001b[0m\u001b[0;34m\u001b[0m\u001b[0m\n\u001b[1;32m     40\u001b[0m             \u001b[0;32mexcept\u001b[0m \u001b[0mException\u001b[0m \u001b[0;32mas\u001b[0m \u001b[0me\u001b[0m\u001b[0;34m:\u001b[0m\u001b[0;34m\u001b[0m\u001b[0;34m\u001b[0m\u001b[0m\n",
      "\u001b[0;32m/usr/local/lib/python3.7/site-packages/featuretools-0.8.0-py3.7.egg/featuretools/synthesis/dfs.py\u001b[0m in \u001b[0;36mdfs\u001b[0;34m(entities, relationships, entityset, target_entity, cutoff_time, instance_ids, agg_primitives, trans_primitives, groupby_trans_primitives, allowed_paths, max_depth, ignore_entities, ignore_variables, seed_features, drop_contains, drop_exact, where_primitives, max_features, cutoff_time_in_index, save_progress, features_only, training_window, approximate, chunk_size, n_jobs, dask_kwargs, verbose, return_variable_types)\u001b[0m\n\u001b[1;32m    194\u001b[0m                                       \u001b[0mignore_variables\u001b[0m\u001b[0;34m=\u001b[0m\u001b[0mignore_variables\u001b[0m\u001b[0;34m,\u001b[0m\u001b[0;34m\u001b[0m\u001b[0;34m\u001b[0m\u001b[0m\n\u001b[1;32m    195\u001b[0m                                       \u001b[0mmax_features\u001b[0m\u001b[0;34m=\u001b[0m\u001b[0mmax_features\u001b[0m\u001b[0;34m,\u001b[0m\u001b[0;34m\u001b[0m\u001b[0;34m\u001b[0m\u001b[0m\n\u001b[0;32m--> 196\u001b[0;31m                                       seed_features=seed_features)\n\u001b[0m\u001b[1;32m    197\u001b[0m \u001b[0;34m\u001b[0m\u001b[0m\n\u001b[1;32m    198\u001b[0m     features = dfs_object.build_features(\n",
      "\u001b[0;32m/usr/local/lib/python3.7/site-packages/featuretools-0.8.0-py3.7.egg/featuretools/synthesis/deep_feature_synthesis.py\u001b[0m in \u001b[0;36m__init__\u001b[0;34m(self, target_entity_id, entityset, agg_primitives, trans_primitives, where_primitives, groupby_trans_primitives, max_depth, max_hlevel, max_features, allowed_paths, ignore_entities, ignore_variables, seed_features, drop_contains, drop_exact, where_stacking_limit)\u001b[0m\n\u001b[1;32m    103\u001b[0m             \u001b[0mes_name\u001b[0m \u001b[0;34m=\u001b[0m \u001b[0mentityset\u001b[0m\u001b[0;34m.\u001b[0m\u001b[0mid\u001b[0m \u001b[0;32mor\u001b[0m \u001b[0;34m'entity set'\u001b[0m\u001b[0;34m\u001b[0m\u001b[0;34m\u001b[0m\u001b[0m\n\u001b[1;32m    104\u001b[0m             \u001b[0mmsg\u001b[0m \u001b[0;34m=\u001b[0m \u001b[0;34m'Provided target entity %s does not exist in %s'\u001b[0m \u001b[0;34m%\u001b[0m \u001b[0;34m(\u001b[0m\u001b[0mtarget_entity_id\u001b[0m\u001b[0;34m,\u001b[0m \u001b[0mes_name\u001b[0m\u001b[0;34m)\u001b[0m\u001b[0;34m\u001b[0m\u001b[0;34m\u001b[0m\u001b[0m\n\u001b[0;32m--> 105\u001b[0;31m             \u001b[0;32mraise\u001b[0m \u001b[0mKeyError\u001b[0m\u001b[0;34m(\u001b[0m\u001b[0mmsg\u001b[0m\u001b[0;34m)\u001b[0m\u001b[0;34m\u001b[0m\u001b[0;34m\u001b[0m\u001b[0m\n\u001b[0m\u001b[1;32m    106\u001b[0m \u001b[0;34m\u001b[0m\u001b[0m\n\u001b[1;32m    107\u001b[0m         \u001b[0;31m# need to change max_depth and max_hlevel to None because DFs terminates when  <0\u001b[0m\u001b[0;34m\u001b[0m\u001b[0;34m\u001b[0m\u001b[0;34m\u001b[0m\u001b[0m\n",
      "\u001b[0;31mKeyError\u001b[0m: 'Provided target entity Agency Name_State does not exist in crime records'"
     ]
    }
   ],
   "source": [
    "import featuretools as ft\n",
    "fm, features = ft.dfs(entityset=entityset, target_entity='Agency Name_State')\n",
    "features"
   ]
  }
 ],
 "metadata": {
  "kernelspec": {
   "display_name": "Python 3",
   "language": "python",
   "name": "python3"
  }
 },
 "nbformat": 4,
 "nbformat_minor": 2
}
