{
 "cells": [
  {
   "cell_type": "code",
   "execution_count": 1,
   "metadata": {},
   "outputs": [],
   "source": [
    "import sys, os\n",
    "\n",
    "import pandas as pd\n",
    "\n",
    "sys.path.append(os.path.abspath(os.path.join('..', '..',)))\n",
    "\n",
    "import autonormalize as an"
   ]
  },
  {
   "cell_type": "code",
   "execution_count": 2,
   "metadata": {},
   "outputs": [
    {
     "name": "stderr",
     "output_type": "stream",
     "text": [
      "/usr/local/lib/python3.7/site-packages/IPython/core/interactiveshell.py:3049: DtypeWarning: Columns (16) have mixed types. Specify dtype option on import or set low_memory=False.\n",
      "  interactivity=interactivity, compiler=compiler, result=result)\n"
     ]
    },
    {
     "name": "stdout",
     "output_type": "stream",
     "text": [
      "Rows: 638454\n",
      "Columns: 10\n"
     ]
    },
    {
     "data": {
      "text/html": [
       "<div>\n",
       "<style scoped>\n",
       "    .dataframe tbody tr th:only-of-type {\n",
       "        vertical-align: middle;\n",
       "    }\n",
       "\n",
       "    .dataframe tbody tr th {\n",
       "        vertical-align: top;\n",
       "    }\n",
       "\n",
       "    .dataframe thead th {\n",
       "        text-align: right;\n",
       "    }\n",
       "</style>\n",
       "<table border=\"1\" class=\"dataframe\">\n",
       "  <thead>\n",
       "    <tr style=\"text-align: right;\">\n",
       "      <th></th>\n",
       "      <th>Record ID</th>\n",
       "      <th>Agency Code</th>\n",
       "      <th>Agency Name</th>\n",
       "      <th>Agency Type</th>\n",
       "      <th>City</th>\n",
       "      <th>State</th>\n",
       "      <th>Year</th>\n",
       "      <th>Month</th>\n",
       "      <th>Incident</th>\n",
       "      <th>Crime Type</th>\n",
       "    </tr>\n",
       "  </thead>\n",
       "  <tbody>\n",
       "    <tr>\n",
       "      <th>0</th>\n",
       "      <td>1</td>\n",
       "      <td>AK00101</td>\n",
       "      <td>Anchorage</td>\n",
       "      <td>Municipal Police</td>\n",
       "      <td>Anchorage</td>\n",
       "      <td>Alaska</td>\n",
       "      <td>1980</td>\n",
       "      <td>January</td>\n",
       "      <td>1</td>\n",
       "      <td>Murder or Manslaughter</td>\n",
       "    </tr>\n",
       "    <tr>\n",
       "      <th>1</th>\n",
       "      <td>2</td>\n",
       "      <td>AK00101</td>\n",
       "      <td>Anchorage</td>\n",
       "      <td>Municipal Police</td>\n",
       "      <td>Anchorage</td>\n",
       "      <td>Alaska</td>\n",
       "      <td>1980</td>\n",
       "      <td>March</td>\n",
       "      <td>1</td>\n",
       "      <td>Murder or Manslaughter</td>\n",
       "    </tr>\n",
       "    <tr>\n",
       "      <th>2</th>\n",
       "      <td>3</td>\n",
       "      <td>AK00101</td>\n",
       "      <td>Anchorage</td>\n",
       "      <td>Municipal Police</td>\n",
       "      <td>Anchorage</td>\n",
       "      <td>Alaska</td>\n",
       "      <td>1980</td>\n",
       "      <td>March</td>\n",
       "      <td>2</td>\n",
       "      <td>Murder or Manslaughter</td>\n",
       "    </tr>\n",
       "  </tbody>\n",
       "</table>\n",
       "</div>"
      ],
      "text/plain": [
       "   Record ID Agency Code Agency Name       Agency Type       City   State  \\\n",
       "0          1     AK00101   Anchorage  Municipal Police  Anchorage  Alaska   \n",
       "1          2     AK00101   Anchorage  Municipal Police  Anchorage  Alaska   \n",
       "2          3     AK00101   Anchorage  Municipal Police  Anchorage  Alaska   \n",
       "\n",
       "   Year    Month  Incident              Crime Type  \n",
       "0  1980  January         1  Murder or Manslaughter  \n",
       "1  1980    March         1  Murder or Manslaughter  \n",
       "2  1980    March         2  Murder or Manslaughter  "
      ]
     },
     "execution_count": 2,
     "metadata": {},
     "output_type": "execute_result"
    }
   ],
   "source": [
    "crime_df = pd.read_csv(os.path.abspath(os.path.join('..','..', 'autonormalize/downloads/crime.csv')))\n",
    "crime_df = crime_df.drop(columns=crime_df.columns[10:])\n",
    "crime_df = crime_df.dropna()\n",
    "crime_df = crime_df.drop_duplicates()\n",
    "print(\"Rows: \"+ str(crime_df.shape[0]))\n",
    "print(\"Columns: \" + str(crime_df.shape[1]))\n",
    "crime_df.head(3)"
   ]
  },
  {
   "cell_type": "code",
   "execution_count": 3,
   "metadata": {
    "scrolled": false
   },
   "outputs": [
    {
     "name": "stderr",
     "output_type": "stream",
     "text": [
      "100%|██████████| 9/9 [10:13<00:00, 96.86s/it] "
     ]
    },
    {
     "name": "stdout",
     "output_type": "stream",
     "text": [
      " --> Record ID\n",
      " {State,Agency Name}  {Record ID}  {Agency Type,Agency Name}  {Year,Month,Agency Name}  {City,Agency Name}  --> Agency Code\n",
      " {Agency Code}  {Record ID}  --> Agency Name\n",
      " {Agency Code}  {Agency Name}  {Record ID}  --> Agency Type\n",
      " {Agency Code}  {Agency Name}  {Record ID}  --> City\n",
      " {Year,Agency Name}  {Record ID}  {Agency Type,Agency Name}  {Year,City,Month,Incident}  {Year,Agency Type,City}  {City,Agency Name}  {Year,Crime Type,City,Month}  {Agency Code}  --> State\n",
      " {Record ID}  --> Year\n",
      " {Record ID}  --> Month\n",
      " {Record ID}  --> Incident\n",
      " {Month}  {Agency Name}  {Record ID}  {City}  {Agency Type}  {Agency Code}  {Incident}  {State}  {Year}  --> Crime Type\n"
     ]
    },
    {
     "name": "stderr",
     "output_type": "stream",
     "text": [
      "\n"
     ]
    }
   ],
   "source": [
    "deps_approx = an.find_dependencies(crime_df, 0.94)\n",
    "print(deps_approx)"
   ]
  },
  {
   "cell_type": "code",
   "execution_count": 4,
   "metadata": {
    "scrolled": true
   },
   "outputs": [],
   "source": [
    "entityset = an.make_entityset(crime_df, deps_approx, name=\"crime records\")"
   ]
  },
  {
   "cell_type": "code",
   "execution_count": 5,
   "metadata": {},
   "outputs": [
    {
     "data": {
      "image/svg+xml": [
       "<?xml version=\"1.0\" encoding=\"UTF-8\" standalone=\"no\"?>\n",
       "<!DOCTYPE svg PUBLIC \"-//W3C//DTD SVG 1.1//EN\"\n",
       " \"http://www.w3.org/Graphics/SVG/1.1/DTD/svg11.dtd\">\n",
       "<!-- Generated by graphviz version 2.40.1 (20161225.0304)\n",
       " -->\n",
       "<!-- Title: crime records Pages: 1 -->\n",
       "<svg width=\"177pt\" height=\"341pt\"\n",
       " viewBox=\"0.00 0.00 176.76 341.00\" xmlns=\"http://www.w3.org/2000/svg\" xmlns:xlink=\"http://www.w3.org/1999/xlink\">\n",
       "<g id=\"graph0\" class=\"graph\" transform=\"scale(1 1) rotate(0) translate(4 337)\">\n",
       "<title>crime records</title>\n",
       "<polygon fill=\"#ffffff\" stroke=\"transparent\" points=\"-4,4 -4,-337 172.7559,-337 172.7559,4 -4,4\"/>\n",
       "<!-- Record ID -->\n",
       "<g id=\"node1\" class=\"node\">\n",
       "<title>Record ID</title>\n",
       "<polygon fill=\"none\" stroke=\"#000000\" points=\"21.564,-232.5 21.564,-332.5 147.1919,-332.5 147.1919,-232.5 21.564,-232.5\"/>\n",
       "<text text-anchor=\"middle\" x=\"84.3779\" y=\"-317.3\" font-family=\"Times,serif\" font-size=\"14.00\" fill=\"#000000\">Record ID</text>\n",
       "<polyline fill=\"none\" stroke=\"#000000\" points=\"21.564,-310.5 147.1919,-310.5 \"/>\n",
       "<text text-anchor=\"start\" x=\"29.564\" y=\"-295.3\" font-family=\"Times,serif\" font-size=\"14.00\" fill=\"#000000\">Record ID : index</text>\n",
       "<text text-anchor=\"start\" x=\"29.564\" y=\"-281.3\" font-family=\"Times,serif\" font-size=\"14.00\" fill=\"#000000\">Agency Code : id</text>\n",
       "<text text-anchor=\"start\" x=\"29.564\" y=\"-267.3\" font-family=\"Times,serif\" font-size=\"14.00\" fill=\"#000000\">Year : numeric</text>\n",
       "<text text-anchor=\"start\" x=\"29.564\" y=\"-253.3\" font-family=\"Times,serif\" font-size=\"14.00\" fill=\"#000000\">Month : categorical</text>\n",
       "<text text-anchor=\"start\" x=\"29.564\" y=\"-239.3\" font-family=\"Times,serif\" font-size=\"14.00\" fill=\"#000000\">Incident : numeric</text>\n",
       "</g>\n",
       "<!-- Agency Code -->\n",
       "<g id=\"node2\" class=\"node\">\n",
       "<title>Agency Code</title>\n",
       "<polygon fill=\"none\" stroke=\"#000000\" points=\"0,-95.5 0,-195.5 168.7559,-195.5 168.7559,-95.5 0,-95.5\"/>\n",
       "<text text-anchor=\"middle\" x=\"84.3779\" y=\"-180.3\" font-family=\"Times,serif\" font-size=\"14.00\" fill=\"#000000\">Agency Code</text>\n",
       "<polyline fill=\"none\" stroke=\"#000000\" points=\"0,-173.5 168.7559,-173.5 \"/>\n",
       "<text text-anchor=\"start\" x=\"8\" y=\"-158.3\" font-family=\"Times,serif\" font-size=\"14.00\" fill=\"#000000\">Agency Code : index</text>\n",
       "<text text-anchor=\"start\" x=\"8\" y=\"-144.3\" font-family=\"Times,serif\" font-size=\"14.00\" fill=\"#000000\">Agency Name : categorical</text>\n",
       "<text text-anchor=\"start\" x=\"8\" y=\"-130.3\" font-family=\"Times,serif\" font-size=\"14.00\" fill=\"#000000\">Agency Type : id</text>\n",
       "<text text-anchor=\"start\" x=\"8\" y=\"-116.3\" font-family=\"Times,serif\" font-size=\"14.00\" fill=\"#000000\">City : categorical</text>\n",
       "<text text-anchor=\"start\" x=\"8\" y=\"-102.3\" font-family=\"Times,serif\" font-size=\"14.00\" fill=\"#000000\">State : categorical</text>\n",
       "</g>\n",
       "<!-- Record ID&#45;&gt;Agency Code -->\n",
       "<g id=\"edge1\" class=\"edge\">\n",
       "<title>Record ID&#45;&gt;Agency Code</title>\n",
       "<path fill=\"none\" stroke=\"#000000\" d=\"M84.3779,-232.2642C84.3779,-232.2642 84.3779,-205.7297 84.3779,-205.7297\"/>\n",
       "<polygon fill=\"#000000\" stroke=\"#000000\" points=\"87.878,-205.7297 84.3779,-195.7297 80.878,-205.7298 87.878,-205.7297\"/>\n",
       "<text text-anchor=\"middle\" x=\"46.083\" y=\"-221.797\" font-family=\"Times,serif\" font-size=\"14.00\" fill=\"#000000\">Agency Code</text>\n",
       "</g>\n",
       "<!-- Agency Type -->\n",
       "<g id=\"node3\" class=\"node\">\n",
       "<title>Agency Type</title>\n",
       "<polygon fill=\"none\" stroke=\"#000000\" points=\"7.2153,-.5 7.2153,-58.5 161.5405,-58.5 161.5405,-.5 7.2153,-.5\"/>\n",
       "<text text-anchor=\"middle\" x=\"84.3779\" y=\"-43.3\" font-family=\"Times,serif\" font-size=\"14.00\" fill=\"#000000\">Agency Type</text>\n",
       "<polyline fill=\"none\" stroke=\"#000000\" points=\"7.2153,-36.5 161.5405,-36.5 \"/>\n",
       "<text text-anchor=\"start\" x=\"15.2153\" y=\"-21.3\" font-family=\"Times,serif\" font-size=\"14.00\" fill=\"#000000\">Agency Type : index</text>\n",
       "<text text-anchor=\"start\" x=\"15.2153\" y=\"-7.3\" font-family=\"Times,serif\" font-size=\"14.00\" fill=\"#000000\">Crime Type : categorical</text>\n",
       "</g>\n",
       "<!-- Agency Code&#45;&gt;Agency Type -->\n",
       "<g id=\"edge2\" class=\"edge\">\n",
       "<title>Agency Code&#45;&gt;Agency Type</title>\n",
       "<path fill=\"none\" stroke=\"#000000\" d=\"M84.3779,-95.2954C84.3779,-95.2954 84.3779,-68.7225 84.3779,-68.7225\"/>\n",
       "<polygon fill=\"#000000\" stroke=\"#000000\" points=\"87.878,-68.7225 84.3779,-58.7225 80.878,-68.7226 87.878,-68.7225\"/>\n",
       "<text text-anchor=\"middle\" x=\"47.0879\" y=\"-70.809\" font-family=\"Times,serif\" font-size=\"14.00\" fill=\"#000000\">Agency Type</text>\n",
       "</g>\n",
       "</g>\n",
       "</svg>\n"
      ],
      "text/plain": [
       "<graphviz.dot.Digraph at 0x1282f6ed0>"
      ]
     },
     "execution_count": 5,
     "metadata": {},
     "output_type": "execute_result"
    }
   ],
   "source": [
    "entityset.plot()"
   ]
  },
  {
   "cell_type": "code",
   "execution_count": 6,
   "metadata": {},
   "outputs": [
    {
     "data": {
      "text/plain": [
       "[<Feature: Agency Name>,\n",
       " <Feature: Agency Type>,\n",
       " <Feature: City>,\n",
       " <Feature: State>,\n",
       " <Feature: SUM(Record ID.Year)>,\n",
       " <Feature: SUM(Record ID.Incident)>,\n",
       " <Feature: STD(Record ID.Year)>,\n",
       " <Feature: STD(Record ID.Incident)>,\n",
       " <Feature: MAX(Record ID.Year)>,\n",
       " <Feature: MAX(Record ID.Incident)>,\n",
       " <Feature: SKEW(Record ID.Year)>,\n",
       " <Feature: SKEW(Record ID.Incident)>,\n",
       " <Feature: MIN(Record ID.Year)>,\n",
       " <Feature: MIN(Record ID.Incident)>,\n",
       " <Feature: MEAN(Record ID.Year)>,\n",
       " <Feature: MEAN(Record ID.Incident)>,\n",
       " <Feature: COUNT(Record ID)>,\n",
       " <Feature: NUM_UNIQUE(Record ID.Month)>,\n",
       " <Feature: MODE(Record ID.Month)>,\n",
       " <Feature: Agency Type.Crime Type>,\n",
       " <Feature: Agency Type.COUNT(Agency Code)>,\n",
       " <Feature: Agency Type.NUM_UNIQUE(Agency Code.Agency Name)>,\n",
       " <Feature: Agency Type.NUM_UNIQUE(Agency Code.City)>,\n",
       " <Feature: Agency Type.NUM_UNIQUE(Agency Code.State)>,\n",
       " <Feature: Agency Type.MODE(Agency Code.Agency Name)>,\n",
       " <Feature: Agency Type.MODE(Agency Code.City)>,\n",
       " <Feature: Agency Type.MODE(Agency Code.State)>,\n",
       " <Feature: Agency Type.SUM(Record ID.Year)>,\n",
       " <Feature: Agency Type.SUM(Record ID.Incident)>,\n",
       " <Feature: Agency Type.STD(Record ID.Year)>,\n",
       " <Feature: Agency Type.STD(Record ID.Incident)>,\n",
       " <Feature: Agency Type.MAX(Record ID.Year)>,\n",
       " <Feature: Agency Type.MAX(Record ID.Incident)>,\n",
       " <Feature: Agency Type.SKEW(Record ID.Year)>,\n",
       " <Feature: Agency Type.SKEW(Record ID.Incident)>,\n",
       " <Feature: Agency Type.MIN(Record ID.Year)>,\n",
       " <Feature: Agency Type.MIN(Record ID.Incident)>,\n",
       " <Feature: Agency Type.MEAN(Record ID.Year)>,\n",
       " <Feature: Agency Type.MEAN(Record ID.Incident)>,\n",
       " <Feature: Agency Type.COUNT(Record ID)>,\n",
       " <Feature: Agency Type.NUM_UNIQUE(Record ID.Month)>,\n",
       " <Feature: Agency Type.MODE(Record ID.Month)>]"
      ]
     },
     "execution_count": 6,
     "metadata": {},
     "output_type": "execute_result"
    }
   ],
   "source": [
    "import featuretools as ft\n",
    "fm, features = ft.dfs(entityset=entityset, target_entity='Agency Code')\n",
    "features"
   ]
  }
 ],
 "metadata": {
  "kernelspec": {
   "display_name": "Python 3",
   "language": "python",
   "name": "python3"
  },
  "language_info": {
   "codemirror_mode": {
    "name": "ipython",
    "version": 3
   },
   "file_extension": ".py",
   "mimetype": "text/x-python",
   "name": "python",
   "nbconvert_exporter": "python",
   "pygments_lexer": "ipython3",
   "version": "3.7.4"
  }
 },
 "nbformat": 4,
 "nbformat_minor": 2
}
