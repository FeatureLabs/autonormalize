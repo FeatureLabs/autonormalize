{
 "cells": [
  {
   "cell_type": "code",
   "execution_count": 10,
   "metadata": {},
   "outputs": [],
   "source": [
    "import os\n",
    "\n",
    "import pandas as pd\n",
    "import autonormalize as an"
   ]
  },
  {
   "cell_type": "code",
   "execution_count": 11,
   "metadata": {},
   "outputs": [
    {
     "name": "stderr",
     "output_type": "stream",
     "text": [
      "/usr/local/lib/python3.7/site-packages/IPython/core/interactiveshell.py:3049: DtypeWarning: Columns (6) have mixed types. Specify dtype option on import or set low_memory=False.\n",
      "  interactivity=interactivity, compiler=compiler, result=result)\n"
     ]
    }
   ],
   "source": [
    "liquor_df = pd.read_csv(os.path.join(os.getcwd(), 'autonormalize/downloads/liquor.csv'))\n",
    "liquor_df = liquor_df.drop(columns=liquor_df.columns[12:])\n",
    "liquor_df = liquor_df.drop(range(3000000, 12591077))\n",
    "liquor_df_smaller = liquor_df.drop(range(750000, 3000000))\n",
    "liquor_df = liquor_df.dropna()\n",
    "liquor_df = liquor_df.drop_duplicates()\n",
    "liquor_df_smaller = liquor_df_smaller.dropna()\n",
    "liquor_df_smaller = liquor_df_smaller.drop_duplicates()"
   ]
  },
  {
   "cell_type": "code",
   "execution_count": 12,
   "metadata": {},
   "outputs": [
    {
     "name": "stderr",
     "output_type": "stream",
     "text": [
      "100%|██████████| 11/11 [12:09<00:00, 48.92s/it]\n",
      "100%|██████████| 11/11 [05:13<00:00, 30.86s/it]"
     ]
    },
    {
     "name": "stdout",
     "output_type": "stream",
     "text": [
      "Exact dependencies...\n",
      " --> Invoice/Item Number\n",
      " {Invoice/Item Number}  --> Date\n",
      " {Store Location,Date}  {Date,Store Name,Zip Code}  {Address,Date,Store Name}  {Invoice/Item Number}  {Address,Date,Zip Code}  --> Store Number\n",
      " {Store Location,Date}  {Address,Date,Zip Code}  {Invoice/Item Number}  {Store Number}  --> Store Name\n",
      " {Date,Store Name,Zip Code}  {Invoice/Item Number}  {Store Number}  {Store Location,Store Name}  --> Address\n",
      " {Address,County Number,Date}  {Address,County,Date}  {Date,Store Name,Zip Code}  {Address,Date,Zip Code}  {Address,Store Name}  {Store Location}  {Invoice/Item Number}  {Store Number}  --> City\n",
      " {Store Location}  {Invoice/Item Number}  {Store Number}  {Address,Store Name}  --> Zip Code\n",
      " {Address,Date,Zip Code}  {Invoice/Item Number}  {Store Number}  {Address,Zip Code,City}  --> Store Location\n",
      " {County}  {Address,Zip Code}  {Address,Store Name}  {Store Location}  {Invoice/Item Number}  {Store Number}  --> County Number\n",
      " {County Number}  {Address,Zip Code}  {Address,Store Name}  {Store Location}  {Invoice/Item Number}  {Store Number}  --> County\n",
      " {Store Name,Date,Category Name}  {Address,Date,Category Name}  {Date,Category Name,City}  {Store Location,Date,Category Name}  {Invoice/Item Number}  {Store Number,Date,Category Name}  {Date,Category Name,Zip Code}  --> Category\n",
      " {Category}  {Invoice/Item Number}  --> Category Name\n",
      "Approximate dependencies...\n",
      " --> Invoice/Item Number\n",
      " {Invoice/Item Number}  --> Date\n",
      " {Store Location}  {Store Name}  {Invoice/Item Number}  {Address}  --> Store Number\n",
      " {Store Location}  {Invoice/Item Number}  {Store Number}  {Address}  --> Store Name\n",
      " {Store Location}  {Store Name}  {Invoice/Item Number}  {Store Number}  --> Address\n",
      " {Store Name}  {Address}  {Store Location}  {Invoice/Item Number}  {Store Number}  {Zip Code}  --> City\n",
      " {Store Name}  {Address}  {Store Location}  {Invoice/Item Number}  {Store Number}  --> Zip Code\n",
      " {Store Name}  {Invoice/Item Number}  {Store Number}  {Address}  --> Store Location\n",
      " {Store Name}  {Address}  {City}  {County}  {Store Location}  {Invoice/Item Number}  {Store Number}  {Zip Code}  --> County Number\n",
      " {Store Name}  {Address}  {City}  {County Number}  {Store Location}  {Invoice/Item Number}  {Store Number}  {Zip Code}  --> County\n",
      " {Category Name}  {Invoice/Item Number}  --> Category\n",
      " {Category}  {Invoice/Item Number}  --> Category Name\n"
     ]
    },
    {
     "name": "stderr",
     "output_type": "stream",
     "text": [
      "\n"
     ]
    }
   ],
   "source": [
    "deps_exact = an.find_dependencies(liquor_df, 1.00)\n",
    "deps_approx = an.find_dependencies(liquor_df_smaller, 0.96)\n",
    "print(\"Exact dependencies...\")\n",
    "print(deps_exact)\n",
    "print(\"\\nApproximate dependencies...\")\n",
    "print(deps_approx)"
   ]
  },
  {
   "cell_type": "code",
   "execution_count": 13,
   "metadata": {},
   "outputs": [
    {
     "name": "stdout",
     "output_type": "stream",
     "text": [
      "\n",
      "~ ~ ~ ~ ~ ~ ~ ~ ~ ~ ~ ~ ~\n",
      "\n",
      " --> Invoice/Item Number\n",
      " {Invoice/Item Number}  --> Date\n",
      " {Invoice/Item Number}  --> Store Name\n",
      " {Invoice/Item Number}  --> Category Name\n",
      "\n",
      "~ ~ ~ ~ ~ ~ ~ ~ ~ ~ ~ ~ ~\n",
      "\n",
      " --> Category Name\n",
      " {Category Name}  --> Category\n",
      "\n",
      "~ ~ ~ ~ ~ ~ ~ ~ ~ ~ ~ ~ ~\n",
      "\n",
      " --> Store Name\n",
      " {Store Name}  --> Address\n",
      "\n",
      "~ ~ ~ ~ ~ ~ ~ ~ ~ ~ ~ ~ ~\n",
      "\n",
      " --> Address\n",
      " {Address}  --> Store Location\n",
      "\n",
      "~ ~ ~ ~ ~ ~ ~ ~ ~ ~ ~ ~ ~\n",
      "\n",
      " --> Store Location\n",
      " {Store Location}  --> Store Number\n",
      "\n",
      "~ ~ ~ ~ ~ ~ ~ ~ ~ ~ ~ ~ ~\n",
      "\n",
      " --> Store Number\n",
      " {Store Number}  --> Zip Code\n",
      "\n",
      "~ ~ ~ ~ ~ ~ ~ ~ ~ ~ ~ ~ ~\n",
      "\n",
      " --> Zip Code\n",
      " {Zip Code}  --> City\n",
      "\n",
      "~ ~ ~ ~ ~ ~ ~ ~ ~ ~ ~ ~ ~\n",
      "\n",
      " --> City\n",
      " {City}  --> County\n",
      "\n",
      "~ ~ ~ ~ ~ ~ ~ ~ ~ ~ ~ ~ ~\n",
      "\n",
      " --> County\n",
      " {County}  --> County Number\n"
     ]
    }
   ],
   "source": [
    "groupings = an.normalize_dependencies(deps_approx)\n",
    "for grp in groupings:\n",
    "    print('\\n~ ~ ~ ~ ~ ~ ~ ~ ~ ~ ~ ~ ~\\n')\n",
    "    print(grp)"
   ]
  },
  {
   "cell_type": "code",
   "execution_count": null,
   "metadata": {},
   "outputs": [],
   "source": []
  }
 ],
 "metadata": {
  "kernelspec": {
   "display_name": "Python 3",
   "language": "python",
   "name": "python3"
  },
  "language_info": {
   "codemirror_mode": {
    "name": "ipython",
    "version": 3
   },
   "file_extension": ".py",
   "mimetype": "text/x-python",
   "name": "python",
   "nbconvert_exporter": "python",
   "pygments_lexer": "ipython3",
   "version": "3.7.3"
  }
 },
 "nbformat": 4,
 "nbformat_minor": 2
}
