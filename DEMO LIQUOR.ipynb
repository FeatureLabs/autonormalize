{
 "cells": [
  {
   "cell_type": "markdown",
   "metadata": {},
   "source": [
    "# AUTONORMALIZE DEMO \n",
    "Using Autonormalize to normalize a kaggle dataset about liquor purchasing orders."
   ]
  },
  {
   "cell_type": "code",
   "execution_count": 1,
   "metadata": {},
   "outputs": [],
   "source": [
    "import os\n",
    "\n",
    "import pandas as pd\n",
    "import autonormalize as an"
   ]
  },
  {
   "cell_type": "code",
   "execution_count": 2,
   "metadata": {
    "scrolled": true
   },
   "outputs": [
    {
     "name": "stderr",
     "output_type": "stream",
     "text": [
      "/usr/local/lib/python3.7/site-packages/IPython/core/interactiveshell.py:3049: DtypeWarning: Columns (6) have mixed types. Specify dtype option on import or set low_memory=False.\n",
      "  interactivity=interactivity, compiler=compiler, result=result)\n"
     ]
    },
    {
     "data": {
      "text/html": [
       "<div>\n",
       "<style scoped>\n",
       "    .dataframe tbody tr th:only-of-type {\n",
       "        vertical-align: middle;\n",
       "    }\n",
       "\n",
       "    .dataframe tbody tr th {\n",
       "        vertical-align: top;\n",
       "    }\n",
       "\n",
       "    .dataframe thead th {\n",
       "        text-align: right;\n",
       "    }\n",
       "</style>\n",
       "<table border=\"1\" class=\"dataframe\">\n",
       "  <thead>\n",
       "    <tr style=\"text-align: right;\">\n",
       "      <th></th>\n",
       "      <th>Invoice/Item Number</th>\n",
       "      <th>Date</th>\n",
       "      <th>Store Number</th>\n",
       "      <th>Store Name</th>\n",
       "      <th>Address</th>\n",
       "      <th>City</th>\n",
       "      <th>Zip Code</th>\n",
       "      <th>Store Location</th>\n",
       "      <th>County Number</th>\n",
       "      <th>County</th>\n",
       "      <th>Category</th>\n",
       "      <th>Category Name</th>\n",
       "    </tr>\n",
       "  </thead>\n",
       "  <tbody>\n",
       "    <tr>\n",
       "      <th>6</th>\n",
       "      <td>S28865700001</td>\n",
       "      <td>11/09/2015</td>\n",
       "      <td>2538</td>\n",
       "      <td>Hy-Vee Food Store #3 / Waterloo</td>\n",
       "      <td>1422 FLAMMANG DR</td>\n",
       "      <td>WATERLOO</td>\n",
       "      <td>50702</td>\n",
       "      <td>1422 FLAMMANG DR\\nWATERLOO 50702\\n(42.459938, ...</td>\n",
       "      <td>7.0</td>\n",
       "      <td>Black Hawk</td>\n",
       "      <td>1701100.0</td>\n",
       "      <td>DECANTERS &amp; SPECIALTY PACKAGES</td>\n",
       "    </tr>\n",
       "    <tr>\n",
       "      <th>8</th>\n",
       "      <td>S29339300091</td>\n",
       "      <td>11/30/2015</td>\n",
       "      <td>2662</td>\n",
       "      <td>Hy-Vee Wine &amp; Spirits / Muscatine</td>\n",
       "      <td>522 MULBERRY, SUITE A</td>\n",
       "      <td>MUSCATINE</td>\n",
       "      <td>52761</td>\n",
       "      <td>522 MULBERRY, SUITE A\\nMUSCATINE 52761\\n</td>\n",
       "      <td>70.0</td>\n",
       "      <td>Muscatine</td>\n",
       "      <td>1701100.0</td>\n",
       "      <td>DECANTERS &amp; SPECIALTY PACKAGES</td>\n",
       "    </tr>\n",
       "    <tr>\n",
       "      <th>13</th>\n",
       "      <td>S28866900001</td>\n",
       "      <td>11/11/2015</td>\n",
       "      <td>3650</td>\n",
       "      <td>Spirits, Stogies and Stuff</td>\n",
       "      <td>118 South Main St.</td>\n",
       "      <td>HOLSTEIN</td>\n",
       "      <td>51025</td>\n",
       "      <td>118 South Main St.\\nHOLSTEIN 51025\\n(42.490073...</td>\n",
       "      <td>47.0</td>\n",
       "      <td>Ida</td>\n",
       "      <td>1701100.0</td>\n",
       "      <td>DECANTERS &amp; SPECIALTY PACKAGES</td>\n",
       "    </tr>\n",
       "  </tbody>\n",
       "</table>\n",
       "</div>"
      ],
      "text/plain": [
       "   Invoice/Item Number        Date  Store Number  \\\n",
       "6         S28865700001  11/09/2015          2538   \n",
       "8         S29339300091  11/30/2015          2662   \n",
       "13        S28866900001  11/11/2015          3650   \n",
       "\n",
       "                           Store Name                Address       City  \\\n",
       "6     Hy-Vee Food Store #3 / Waterloo       1422 FLAMMANG DR   WATERLOO   \n",
       "8   Hy-Vee Wine & Spirits / Muscatine  522 MULBERRY, SUITE A  MUSCATINE   \n",
       "13         Spirits, Stogies and Stuff     118 South Main St.   HOLSTEIN   \n",
       "\n",
       "   Zip Code                                     Store Location  County Number  \\\n",
       "6     50702  1422 FLAMMANG DR\\nWATERLOO 50702\\n(42.459938, ...            7.0   \n",
       "8     52761           522 MULBERRY, SUITE A\\nMUSCATINE 52761\\n           70.0   \n",
       "13    51025  118 South Main St.\\nHOLSTEIN 51025\\n(42.490073...           47.0   \n",
       "\n",
       "        County   Category                   Category Name  \n",
       "6   Black Hawk  1701100.0  DECANTERS & SPECIALTY PACKAGES  \n",
       "8    Muscatine  1701100.0  DECANTERS & SPECIALTY PACKAGES  \n",
       "13         Ida  1701100.0  DECANTERS & SPECIALTY PACKAGES  "
      ]
     },
     "execution_count": 2,
     "metadata": {},
     "output_type": "execute_result"
    }
   ],
   "source": [
    "liquor_df = pd.read_csv(os.path.join(os.getcwd(), 'autonormalize/downloads/liquor.csv'))\n",
    "liquor_df = liquor_df.drop(columns=liquor_df.columns[12:])\n",
    "liquor_df = liquor_df.drop(range(3000000, 12591077))\n",
    "liquor_df_smaller = liquor_df.drop(range(1500000, 3000000))\n",
    "liquor_df = liquor_df.dropna()\n",
    "liquor_df = liquor_df.drop_duplicates()\n",
    "liquor_df_smaller = liquor_df_smaller.dropna()\n",
    "liquor_df_smaller = liquor_df_smaller.drop_duplicates()\n",
    "liquor_df.head(3)"
   ]
  },
  {
   "cell_type": "code",
   "execution_count": 3,
   "metadata": {
    "scrolled": true
   },
   "outputs": [
    {
     "name": "stderr",
     "output_type": "stream",
     "text": [
      "100%|██████████| 11/11 [09:51<00:00, 65.85s/it]\n"
     ]
    },
    {
     "name": "stdout",
     "output_type": "stream",
     "text": [
      " --> Invoice/Item Number\n",
      " {Invoice/Item Number}  --> Date\n",
      " {Address}  {Store Name}  {Invoice/Item Number}  {Store Location}  --> Store Number\n",
      " {Store Number}  {Address}  {Invoice/Item Number}  {Store Location}  --> Store Name\n",
      " {Store Number}  {Store Name}  {Invoice/Item Number}  {Store Location}  --> Address\n",
      " {Store Name}  {Invoice/Item Number}  {Store Location}  {Store Number}  {Zip Code}  {Address}  --> City\n",
      " {Store Name}  {Invoice/Item Number}  {Store Location}  {Store Number}  {Address}  --> Zip Code\n",
      " {Store Number}  {Address}  {Invoice/Item Number}  {Store Name}  --> Store Location\n",
      " {Store Name}  {County}  {Invoice/Item Number}  {Store Location}  {Store Number}  {Zip Code}  {Address}  {City}  --> County Number\n",
      " {Store Name}  {County Number}  {Invoice/Item Number}  {Store Location}  {Store Number}  {Zip Code}  {Address}  {City}  --> County\n",
      " {Category Name}  {Invoice/Item Number}  --> Category\n",
      " {Invoice/Item Number}  {Category}  --> Category Name\n"
     ]
    }
   ],
   "source": [
    "deps_approx = an.find_dependencies(liquor_df_smaller, 0.96)\n",
    "print(deps_approx)"
   ]
  },
  {
   "cell_type": "code",
   "execution_count": 5,
   "metadata": {},
   "outputs": [],
   "source": [
    "entity_set = an.make_entityset(liquor_df_smaller, deps_approx, 'liquor_orders')"
   ]
  },
  {
   "cell_type": "code",
   "execution_count": 6,
   "metadata": {},
   "outputs": [
    {
     "data": {
      "image/svg+xml": [
       "<?xml version=\"1.0\" encoding=\"UTF-8\" standalone=\"no\"?>\n",
       "<!DOCTYPE svg PUBLIC \"-//W3C//DTD SVG 1.1//EN\"\n",
       " \"http://www.w3.org/Graphics/SVG/1.1/DTD/svg11.dtd\">\n",
       "<!-- Generated by graphviz version 2.40.1 (20161225.0304)\n",
       " -->\n",
       "<!-- Title: liquor_orders Pages: 1 -->\n",
       "<svg width=\"330pt\" height=\"517pt\"\n",
       " viewBox=\"0.00 0.00 329.80 517.00\" xmlns=\"http://www.w3.org/2000/svg\" xmlns:xlink=\"http://www.w3.org/1999/xlink\">\n",
       "<g id=\"graph0\" class=\"graph\" transform=\"scale(1 1) rotate(0) translate(4 513)\">\n",
       "<title>liquor_orders</title>\n",
       "<polygon fill=\"#ffffff\" stroke=\"transparent\" points=\"-4,4 -4,-513 325.8003,-513 325.8003,4 -4,4\"/>\n",
       "<!-- Invoice/Item Number -->\n",
       "<g id=\"node1\" class=\"node\">\n",
       "<title>Invoice/Item Number</title>\n",
       "<polygon fill=\"none\" stroke=\"#000000\" points=\"66.6724,-422.5 66.6724,-508.5 245.5659,-508.5 245.5659,-422.5 66.6724,-422.5\"/>\n",
       "<text text-anchor=\"middle\" x=\"156.1191\" y=\"-493.3\" font-family=\"Times,serif\" font-size=\"14.00\" fill=\"#000000\">Invoice/Item Number</text>\n",
       "<polyline fill=\"none\" stroke=\"#000000\" points=\"66.6724,-486.5 245.5659,-486.5 \"/>\n",
       "<text text-anchor=\"start\" x=\"74.6724\" y=\"-471.3\" font-family=\"Times,serif\" font-size=\"14.00\" fill=\"#000000\">Invoice/Item Number : index</text>\n",
       "<text text-anchor=\"start\" x=\"74.6724\" y=\"-457.3\" font-family=\"Times,serif\" font-size=\"14.00\" fill=\"#000000\">Date : datetime</text>\n",
       "<text text-anchor=\"start\" x=\"74.6724\" y=\"-443.3\" font-family=\"Times,serif\" font-size=\"14.00\" fill=\"#000000\">Store Name : id</text>\n",
       "<text text-anchor=\"start\" x=\"74.6724\" y=\"-429.3\" font-family=\"Times,serif\" font-size=\"14.00\" fill=\"#000000\">Category Name : id</text>\n",
       "</g>\n",
       "<!-- Category Name -->\n",
       "<g id=\"node2\" class=\"node\">\n",
       "<title>Category Name</title>\n",
       "<polygon fill=\"none\" stroke=\"#000000\" points=\"0,-306.5 0,-364.5 146.2383,-364.5 146.2383,-306.5 0,-306.5\"/>\n",
       "<text text-anchor=\"middle\" x=\"73.1191\" y=\"-349.3\" font-family=\"Times,serif\" font-size=\"14.00\" fill=\"#000000\">Category Name</text>\n",
       "<polyline fill=\"none\" stroke=\"#000000\" points=\"0,-342.5 146.2383,-342.5 \"/>\n",
       "<text text-anchor=\"start\" x=\"8\" y=\"-327.3\" font-family=\"Times,serif\" font-size=\"14.00\" fill=\"#000000\">Category Name : index</text>\n",
       "<text text-anchor=\"start\" x=\"8\" y=\"-313.3\" font-family=\"Times,serif\" font-size=\"14.00\" fill=\"#000000\">Category : numeric</text>\n",
       "</g>\n",
       "<!-- Invoice/Item Number&#45;&gt;Category Name -->\n",
       "<g id=\"edge2\" class=\"edge\">\n",
       "<title>Invoice/Item Number&#45;&gt;Category Name</title>\n",
       "<path fill=\"none\" stroke=\"#000000\" d=\"M106.4553,-422.2119C106.4553,-422.2119 106.4553,-374.6745 106.4553,-374.6745\"/>\n",
       "<polygon fill=\"#000000\" stroke=\"#000000\" points=\"109.9554,-374.6745 106.4553,-364.6745 102.9554,-374.6746 109.9554,-374.6745\"/>\n",
       "<text text-anchor=\"middle\" x=\"62.3328\" y=\"-401.2432\" font-family=\"Times,serif\" font-size=\"14.00\" fill=\"#000000\">Category Name</text>\n",
       "</g>\n",
       "<!-- Store Name -->\n",
       "<g id=\"node3\" class=\"node\">\n",
       "<title>Store Name</title>\n",
       "<polygon fill=\"none\" stroke=\"#000000\" points=\"164.2759,-285.5 164.2759,-385.5 315.9624,-385.5 315.9624,-285.5 164.2759,-285.5\"/>\n",
       "<text text-anchor=\"middle\" x=\"240.1191\" y=\"-370.3\" font-family=\"Times,serif\" font-size=\"14.00\" fill=\"#000000\">Store Name</text>\n",
       "<polyline fill=\"none\" stroke=\"#000000\" points=\"164.2759,-363.5 315.9624,-363.5 \"/>\n",
       "<text text-anchor=\"start\" x=\"172.2759\" y=\"-348.3\" font-family=\"Times,serif\" font-size=\"14.00\" fill=\"#000000\">Store Name : index</text>\n",
       "<text text-anchor=\"start\" x=\"172.2759\" y=\"-334.3\" font-family=\"Times,serif\" font-size=\"14.00\" fill=\"#000000\">Store Number : numeric</text>\n",
       "<text text-anchor=\"start\" x=\"172.2759\" y=\"-320.3\" font-family=\"Times,serif\" font-size=\"14.00\" fill=\"#000000\">Address : categorical</text>\n",
       "<text text-anchor=\"start\" x=\"172.2759\" y=\"-306.3\" font-family=\"Times,serif\" font-size=\"14.00\" fill=\"#000000\">Zip Code : id</text>\n",
       "<text text-anchor=\"start\" x=\"172.2759\" y=\"-292.3\" font-family=\"Times,serif\" font-size=\"14.00\" fill=\"#000000\">Store Location : text</text>\n",
       "</g>\n",
       "<!-- Invoice/Item Number&#45;&gt;Store Name -->\n",
       "<g id=\"edge1\" class=\"edge\">\n",
       "<title>Invoice/Item Number&#45;&gt;Store Name</title>\n",
       "<path fill=\"none\" stroke=\"#000000\" d=\"M204.9209,-422.2119C204.9209,-422.2119 204.9209,-395.7992 204.9209,-395.7992\"/>\n",
       "<polygon fill=\"#000000\" stroke=\"#000000\" points=\"208.421,-395.7991 204.9209,-385.7992 201.421,-395.7992 208.421,-395.7991\"/>\n",
       "<text text-anchor=\"middle\" x=\"171.6812\" y=\"-397.8055\" font-family=\"Times,serif\" font-size=\"14.00\" fill=\"#000000\">Store Name</text>\n",
       "</g>\n",
       "<!-- Zip Code -->\n",
       "<g id=\"node4\" class=\"node\">\n",
       "<title>Zip Code</title>\n",
       "<polygon fill=\"none\" stroke=\"#000000\" points=\"184.876,-190.5 184.876,-248.5 295.3623,-248.5 295.3623,-190.5 184.876,-190.5\"/>\n",
       "<text text-anchor=\"middle\" x=\"240.1191\" y=\"-233.3\" font-family=\"Times,serif\" font-size=\"14.00\" fill=\"#000000\">Zip Code</text>\n",
       "<polyline fill=\"none\" stroke=\"#000000\" points=\"184.876,-226.5 295.3623,-226.5 \"/>\n",
       "<text text-anchor=\"start\" x=\"192.876\" y=\"-211.3\" font-family=\"Times,serif\" font-size=\"14.00\" fill=\"#000000\">Zip Code : index</text>\n",
       "<text text-anchor=\"start\" x=\"192.876\" y=\"-197.3\" font-family=\"Times,serif\" font-size=\"14.00\" fill=\"#000000\">City : id</text>\n",
       "</g>\n",
       "<!-- Store Name&#45;&gt;Zip Code -->\n",
       "<g id=\"edge3\" class=\"edge\">\n",
       "<title>Store Name&#45;&gt;Zip Code</title>\n",
       "<path fill=\"none\" stroke=\"#000000\" d=\"M240.1191,-285.2954C240.1191,-285.2954 240.1191,-258.7225 240.1191,-258.7225\"/>\n",
       "<polygon fill=\"#000000\" stroke=\"#000000\" points=\"243.6192,-258.7225 240.1191,-248.7225 236.6192,-258.7226 243.6192,-258.7225\"/>\n",
       "<text text-anchor=\"middle\" x=\"213.8726\" y=\"-260.809\" font-family=\"Times,serif\" font-size=\"14.00\" fill=\"#000000\">Zip Code</text>\n",
       "</g>\n",
       "<!-- City -->\n",
       "<g id=\"node5\" class=\"node\">\n",
       "<title>City</title>\n",
       "<polygon fill=\"none\" stroke=\"#000000\" points=\"199.064,-95.5 199.064,-153.5 281.1743,-153.5 281.1743,-95.5 199.064,-95.5\"/>\n",
       "<text text-anchor=\"middle\" x=\"240.1191\" y=\"-138.3\" font-family=\"Times,serif\" font-size=\"14.00\" fill=\"#000000\">City</text>\n",
       "<polyline fill=\"none\" stroke=\"#000000\" points=\"199.064,-131.5 281.1743,-131.5 \"/>\n",
       "<text text-anchor=\"start\" x=\"207.064\" y=\"-116.3\" font-family=\"Times,serif\" font-size=\"14.00\" fill=\"#000000\">City : index</text>\n",
       "<text text-anchor=\"start\" x=\"207.064\" y=\"-102.3\" font-family=\"Times,serif\" font-size=\"14.00\" fill=\"#000000\">County : id</text>\n",
       "</g>\n",
       "<!-- Zip Code&#45;&gt;City -->\n",
       "<g id=\"edge4\" class=\"edge\">\n",
       "<title>Zip Code&#45;&gt;City</title>\n",
       "<path fill=\"none\" stroke=\"#000000\" d=\"M240.1191,-190.4807C240.1191,-190.4807 240.1191,-163.669 240.1191,-163.669\"/>\n",
       "<polygon fill=\"#000000\" stroke=\"#000000\" points=\"243.6192,-163.6689 240.1191,-153.669 236.6192,-163.669 243.6192,-163.6689\"/>\n",
       "<text text-anchor=\"middle\" x=\"228.0605\" y=\"-165.8748\" font-family=\"Times,serif\" font-size=\"14.00\" fill=\"#000000\">City</text>\n",
       "</g>\n",
       "<!-- County -->\n",
       "<g id=\"node6\" class=\"node\">\n",
       "<title>County</title>\n",
       "<polygon fill=\"none\" stroke=\"#000000\" points=\"158.438,-.5 158.438,-58.5 321.8003,-58.5 321.8003,-.5 158.438,-.5\"/>\n",
       "<text text-anchor=\"middle\" x=\"240.1191\" y=\"-43.3\" font-family=\"Times,serif\" font-size=\"14.00\" fill=\"#000000\">County</text>\n",
       "<polyline fill=\"none\" stroke=\"#000000\" points=\"158.438,-36.5 321.8003,-36.5 \"/>\n",
       "<text text-anchor=\"start\" x=\"166.438\" y=\"-21.3\" font-family=\"Times,serif\" font-size=\"14.00\" fill=\"#000000\">County : index</text>\n",
       "<text text-anchor=\"start\" x=\"166.438\" y=\"-7.3\" font-family=\"Times,serif\" font-size=\"14.00\" fill=\"#000000\">County Number : numeric</text>\n",
       "</g>\n",
       "<!-- City&#45;&gt;County -->\n",
       "<g id=\"edge5\" class=\"edge\">\n",
       "<title>City&#45;&gt;County</title>\n",
       "<path fill=\"none\" stroke=\"#000000\" d=\"M240.1191,-95.4807C240.1191,-95.4807 240.1191,-68.669 240.1191,-68.669\"/>\n",
       "<polygon fill=\"#000000\" stroke=\"#000000\" points=\"243.6192,-68.6689 240.1191,-58.669 236.6192,-68.669 243.6192,-68.6689\"/>\n",
       "<text text-anchor=\"middle\" x=\"219.5054\" y=\"-70.8748\" font-family=\"Times,serif\" font-size=\"14.00\" fill=\"#000000\">County</text>\n",
       "</g>\n",
       "</g>\n",
       "</svg>\n"
      ],
      "text/plain": [
       "<graphviz.dot.Digraph at 0x11b080fd0>"
      ]
     },
     "execution_count": 6,
     "metadata": {},
     "output_type": "execute_result"
    }
   ],
   "source": [
    "entity_set.plot()"
   ]
  },
  {
   "cell_type": "code",
   "execution_count": null,
   "metadata": {},
   "outputs": [],
   "source": []
  }
 ],
 "metadata": {
  "kernelspec": {
   "display_name": "Python 3",
   "language": "python",
   "name": "python3"
  },
  "language_info": {
   "codemirror_mode": {
    "name": "ipython",
    "version": 3
   },
   "file_extension": ".py",
   "mimetype": "text/x-python",
   "name": "python",
   "nbconvert_exporter": "python",
   "pygments_lexer": "ipython3",
   "version": "3.7.4"
  }
 },
 "nbformat": 4,
 "nbformat_minor": 2
}
