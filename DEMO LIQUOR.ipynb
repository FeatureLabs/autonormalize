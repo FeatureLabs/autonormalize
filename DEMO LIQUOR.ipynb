{
 "cells": [
  {
   "cell_type": "markdown",
   "metadata": {},
   "source": [
    "# AUTONORMALIZE DEMO \n",
    "Using Autonormalize to normalize a kaggle dataset about liquor purchasing orders."
   ]
  },
  {
   "cell_type": "code",
   "execution_count": 9,
   "metadata": {},
   "outputs": [],
   "source": [
    "import os\n",
    "import time\n",
    "\n",
    "import pandas as pd\n",
    "import autonormalize as an"
   ]
  },
  {
   "cell_type": "code",
   "execution_count": 2,
   "metadata": {
    "scrolled": false
   },
   "outputs": [
    {
     "name": "stderr",
     "output_type": "stream",
     "text": [
      "/usr/local/lib/python3.7/site-packages/IPython/core/interactiveshell.py:3049: DtypeWarning: Columns (6) have mixed types. Specify dtype option on import or set low_memory=False.\n",
      "  interactivity=interactivity, compiler=compiler, result=result)\n"
     ]
    },
    {
     "name": "stdout",
     "output_type": "stream",
     "text": [
      "Rows: 1497599\n",
      "Columns: 12\n"
     ]
    },
    {
     "data": {
      "text/html": [
       "<div>\n",
       "<style scoped>\n",
       "    .dataframe tbody tr th:only-of-type {\n",
       "        vertical-align: middle;\n",
       "    }\n",
       "\n",
       "    .dataframe tbody tr th {\n",
       "        vertical-align: top;\n",
       "    }\n",
       "\n",
       "    .dataframe thead th {\n",
       "        text-align: right;\n",
       "    }\n",
       "</style>\n",
       "<table border=\"1\" class=\"dataframe\">\n",
       "  <thead>\n",
       "    <tr style=\"text-align: right;\">\n",
       "      <th></th>\n",
       "      <th>Invoice/Item Number</th>\n",
       "      <th>Date</th>\n",
       "      <th>Store Number</th>\n",
       "      <th>Store Name</th>\n",
       "      <th>Address</th>\n",
       "      <th>City</th>\n",
       "      <th>Zip Code</th>\n",
       "      <th>Store Location</th>\n",
       "      <th>County Number</th>\n",
       "      <th>County</th>\n",
       "      <th>Category</th>\n",
       "      <th>Category Name</th>\n",
       "    </tr>\n",
       "  </thead>\n",
       "  <tbody>\n",
       "    <tr>\n",
       "      <th>6</th>\n",
       "      <td>S28865700001</td>\n",
       "      <td>11/09/2015</td>\n",
       "      <td>2538</td>\n",
       "      <td>Hy-Vee Food Store #3 / Waterloo</td>\n",
       "      <td>1422 FLAMMANG DR</td>\n",
       "      <td>WATERLOO</td>\n",
       "      <td>50702</td>\n",
       "      <td>1422 FLAMMANG DR\\nWATERLOO 50702\\n(42.459938, ...</td>\n",
       "      <td>7.0</td>\n",
       "      <td>Black Hawk</td>\n",
       "      <td>1701100.0</td>\n",
       "      <td>DECANTERS &amp; SPECIALTY PACKAGES</td>\n",
       "    </tr>\n",
       "    <tr>\n",
       "      <th>8</th>\n",
       "      <td>S29339300091</td>\n",
       "      <td>11/30/2015</td>\n",
       "      <td>2662</td>\n",
       "      <td>Hy-Vee Wine &amp; Spirits / Muscatine</td>\n",
       "      <td>522 MULBERRY, SUITE A</td>\n",
       "      <td>MUSCATINE</td>\n",
       "      <td>52761</td>\n",
       "      <td>522 MULBERRY, SUITE A\\nMUSCATINE 52761\\n</td>\n",
       "      <td>70.0</td>\n",
       "      <td>Muscatine</td>\n",
       "      <td>1701100.0</td>\n",
       "      <td>DECANTERS &amp; SPECIALTY PACKAGES</td>\n",
       "    </tr>\n",
       "    <tr>\n",
       "      <th>13</th>\n",
       "      <td>S28866900001</td>\n",
       "      <td>11/11/2015</td>\n",
       "      <td>3650</td>\n",
       "      <td>Spirits, Stogies and Stuff</td>\n",
       "      <td>118 South Main St.</td>\n",
       "      <td>HOLSTEIN</td>\n",
       "      <td>51025</td>\n",
       "      <td>118 South Main St.\\nHOLSTEIN 51025\\n(42.490073...</td>\n",
       "      <td>47.0</td>\n",
       "      <td>Ida</td>\n",
       "      <td>1701100.0</td>\n",
       "      <td>DECANTERS &amp; SPECIALTY PACKAGES</td>\n",
       "    </tr>\n",
       "  </tbody>\n",
       "</table>\n",
       "</div>"
      ],
      "text/plain": [
       "   Invoice/Item Number        Date  Store Number  \\\n",
       "6         S28865700001  11/09/2015          2538   \n",
       "8         S29339300091  11/30/2015          2662   \n",
       "13        S28866900001  11/11/2015          3650   \n",
       "\n",
       "                           Store Name                Address       City  \\\n",
       "6     Hy-Vee Food Store #3 / Waterloo       1422 FLAMMANG DR   WATERLOO   \n",
       "8   Hy-Vee Wine & Spirits / Muscatine  522 MULBERRY, SUITE A  MUSCATINE   \n",
       "13         Spirits, Stogies and Stuff     118 South Main St.   HOLSTEIN   \n",
       "\n",
       "   Zip Code                                     Store Location  County Number  \\\n",
       "6     50702  1422 FLAMMANG DR\\nWATERLOO 50702\\n(42.459938, ...            7.0   \n",
       "8     52761           522 MULBERRY, SUITE A\\nMUSCATINE 52761\\n           70.0   \n",
       "13    51025  118 South Main St.\\nHOLSTEIN 51025\\n(42.490073...           47.0   \n",
       "\n",
       "        County   Category                   Category Name  \n",
       "6   Black Hawk  1701100.0  DECANTERS & SPECIALTY PACKAGES  \n",
       "8    Muscatine  1701100.0  DECANTERS & SPECIALTY PACKAGES  \n",
       "13         Ida  1701100.0  DECANTERS & SPECIALTY PACKAGES  "
      ]
     },
     "execution_count": 2,
     "metadata": {},
     "output_type": "execute_result"
    }
   ],
   "source": [
    "df = pd.read_csv(os.path.join(os.getcwd(), 'autonormalize/downloads/liquor.csv'))\n",
    "df = df.drop(columns=df.columns[12:])\n",
    "df = df.drop(range(1500000, 12591077))\n",
    "df = df.dropna()\n",
    "df = df.drop_duplicates()\n",
    "print(\"Rows: \"+ str(df.shape[0]))\n",
    "print(\"Columns: \" + str(df.shape[1]))\n",
    "df.head(3)"
   ]
  },
  {
   "cell_type": "markdown",
   "metadata": {},
   "source": [
    "We load our data into a pandas dataframe. For the purpose of manageability we drop columns columns 13-32 and rows 1,500,000+. After dropping duplicates and rows with empty entries, we are left with a 12 x 1,497,599 dataframe, with the columns as shown above. Just based off of the names of the columns we can see there are definitely some dependencies between columns and duplication of data. For example, you would expect County Number to always correspond to the same County in all entries. "
   ]
  },
  {
   "cell_type": "code",
   "execution_count": 10,
   "metadata": {},
   "outputs": [
    {
     "name": "stderr",
     "output_type": "stream",
     "text": [
      "100%|██████████| 11/11 [10:36<00:00, 61.55s/it]\n"
     ]
    },
    {
     "data": {
      "text/plain": [
       "664.5087521076202"
      ]
     },
     "execution_count": 10,
     "metadata": {},
     "output_type": "execute_result"
    }
   ],
   "source": [
    "start = time.time()\n",
    "entityset = an.auto_entityset(df, accuracy=0.96, name='liquor orders')\n",
    "time.time() - start"
   ]
  },
  {
   "cell_type": "markdown",
   "metadata": {},
   "source": [
    "To detect the dependencies, normalize the data and create an entity set all at once, all we need to do is call an.auto_entityset(). We pass 96% as the desired accuracy, and 'liquor orders\" as the desired name for our entity set."
   ]
  },
  {
   "cell_type": "code",
   "execution_count": 7,
   "metadata": {
    "scrolled": false
   },
   "outputs": [
    {
     "data": {
      "image/svg+xml": [
       "<?xml version=\"1.0\" encoding=\"UTF-8\" standalone=\"no\"?>\n",
       "<!DOCTYPE svg PUBLIC \"-//W3C//DTD SVG 1.1//EN\"\n",
       " \"http://www.w3.org/Graphics/SVG/1.1/DTD/svg11.dtd\">\n",
       "<!-- Generated by graphviz version 2.40.1 (20161225.0304)\n",
       " -->\n",
       "<!-- Title: liquor orders Pages: 1 -->\n",
       "<svg width=\"332pt\" height=\"517pt\"\n",
       " viewBox=\"0.00 0.00 331.80 517.00\" xmlns=\"http://www.w3.org/2000/svg\" xmlns:xlink=\"http://www.w3.org/1999/xlink\">\n",
       "<g id=\"graph0\" class=\"graph\" transform=\"scale(1 1) rotate(0) translate(4 513)\">\n",
       "<title>liquor orders</title>\n",
       "<polygon fill=\"#ffffff\" stroke=\"transparent\" points=\"-4,4 -4,-513 327.8003,-513 327.8003,4 -4,4\"/>\n",
       "<!-- Invoice/Item Number -->\n",
       "<g id=\"node1\" class=\"node\">\n",
       "<title>Invoice/Item Number</title>\n",
       "<polygon fill=\"none\" stroke=\"#000000\" points=\"67.6724,-422.5 67.6724,-508.5 246.5659,-508.5 246.5659,-422.5 67.6724,-422.5\"/>\n",
       "<text text-anchor=\"middle\" x=\"157.1191\" y=\"-493.3\" font-family=\"Times,serif\" font-size=\"14.00\" fill=\"#000000\">Invoice/Item Number</text>\n",
       "<polyline fill=\"none\" stroke=\"#000000\" points=\"67.6724,-486.5 246.5659,-486.5 \"/>\n",
       "<text text-anchor=\"start\" x=\"75.6724\" y=\"-471.3\" font-family=\"Times,serif\" font-size=\"14.00\" fill=\"#000000\">Invoice/Item Number : index</text>\n",
       "<text text-anchor=\"start\" x=\"75.6724\" y=\"-457.3\" font-family=\"Times,serif\" font-size=\"14.00\" fill=\"#000000\">Date : datetime</text>\n",
       "<text text-anchor=\"start\" x=\"75.6724\" y=\"-443.3\" font-family=\"Times,serif\" font-size=\"14.00\" fill=\"#000000\">Store Location : id</text>\n",
       "<text text-anchor=\"start\" x=\"75.6724\" y=\"-429.3\" font-family=\"Times,serif\" font-size=\"14.00\" fill=\"#000000\">Category Name : id</text>\n",
       "</g>\n",
       "<!-- Category Name -->\n",
       "<g id=\"node2\" class=\"node\">\n",
       "<title>Category Name</title>\n",
       "<polygon fill=\"none\" stroke=\"#000000\" points=\"0,-306.5 0,-364.5 146.2383,-364.5 146.2383,-306.5 0,-306.5\"/>\n",
       "<text text-anchor=\"middle\" x=\"73.1191\" y=\"-349.3\" font-family=\"Times,serif\" font-size=\"14.00\" fill=\"#000000\">Category Name</text>\n",
       "<polyline fill=\"none\" stroke=\"#000000\" points=\"0,-342.5 146.2383,-342.5 \"/>\n",
       "<text text-anchor=\"start\" x=\"8\" y=\"-327.3\" font-family=\"Times,serif\" font-size=\"14.00\" fill=\"#000000\">Category Name : index</text>\n",
       "<text text-anchor=\"start\" x=\"8\" y=\"-313.3\" font-family=\"Times,serif\" font-size=\"14.00\" fill=\"#000000\">Category : numeric</text>\n",
       "</g>\n",
       "<!-- Invoice/Item Number&#45;&gt;Category Name -->\n",
       "<g id=\"edge2\" class=\"edge\">\n",
       "<title>Invoice/Item Number&#45;&gt;Category Name</title>\n",
       "<path fill=\"none\" stroke=\"#000000\" d=\"M106.9553,-422.2119C106.9553,-422.2119 106.9553,-374.6745 106.9553,-374.6745\"/>\n",
       "<polygon fill=\"#000000\" stroke=\"#000000\" points=\"110.4554,-374.6745 106.9553,-364.6745 103.4554,-374.6746 110.4554,-374.6745\"/>\n",
       "<text text-anchor=\"middle\" x=\"62.8328\" y=\"-401.2432\" font-family=\"Times,serif\" font-size=\"14.00\" fill=\"#000000\">Category Name</text>\n",
       "</g>\n",
       "<!-- Store Location -->\n",
       "<g id=\"node3\" class=\"node\">\n",
       "<title>Store Location</title>\n",
       "<polygon fill=\"none\" stroke=\"#000000\" points=\"164.7344,-285.5 164.7344,-385.5 319.5039,-385.5 319.5039,-285.5 164.7344,-285.5\"/>\n",
       "<text text-anchor=\"middle\" x=\"242.1191\" y=\"-370.3\" font-family=\"Times,serif\" font-size=\"14.00\" fill=\"#000000\">Store Location</text>\n",
       "<polyline fill=\"none\" stroke=\"#000000\" points=\"164.7344,-363.5 319.5039,-363.5 \"/>\n",
       "<text text-anchor=\"start\" x=\"172.7344\" y=\"-348.3\" font-family=\"Times,serif\" font-size=\"14.00\" fill=\"#000000\">Store Location : index</text>\n",
       "<text text-anchor=\"start\" x=\"172.7344\" y=\"-334.3\" font-family=\"Times,serif\" font-size=\"14.00\" fill=\"#000000\">Store Number : numeric</text>\n",
       "<text text-anchor=\"start\" x=\"172.7344\" y=\"-320.3\" font-family=\"Times,serif\" font-size=\"14.00\" fill=\"#000000\">Store Name : categorical</text>\n",
       "<text text-anchor=\"start\" x=\"172.7344\" y=\"-306.3\" font-family=\"Times,serif\" font-size=\"14.00\" fill=\"#000000\">Address : categorical</text>\n",
       "<text text-anchor=\"start\" x=\"172.7344\" y=\"-292.3\" font-family=\"Times,serif\" font-size=\"14.00\" fill=\"#000000\">Zip Code : id</text>\n",
       "</g>\n",
       "<!-- Invoice/Item Number&#45;&gt;Store Location -->\n",
       "<g id=\"edge1\" class=\"edge\">\n",
       "<title>Invoice/Item Number&#45;&gt;Store Location</title>\n",
       "<path fill=\"none\" stroke=\"#000000\" d=\"M205.6501,-422.2119C205.6501,-422.2119 205.6501,-395.7992 205.6501,-395.7992\"/>\n",
       "<polygon fill=\"#000000\" stroke=\"#000000\" points=\"209.1502,-395.7991 205.6501,-385.7992 202.1502,-395.7992 209.1502,-395.7991\"/>\n",
       "<text text-anchor=\"middle\" x=\"164.2449\" y=\"-397.8055\" font-family=\"Times,serif\" font-size=\"14.00\" fill=\"#000000\">Store Location</text>\n",
       "</g>\n",
       "<!-- Zip Code -->\n",
       "<g id=\"node4\" class=\"node\">\n",
       "<title>Zip Code</title>\n",
       "<polygon fill=\"none\" stroke=\"#000000\" points=\"186.876,-190.5 186.876,-248.5 297.3623,-248.5 297.3623,-190.5 186.876,-190.5\"/>\n",
       "<text text-anchor=\"middle\" x=\"242.1191\" y=\"-233.3\" font-family=\"Times,serif\" font-size=\"14.00\" fill=\"#000000\">Zip Code</text>\n",
       "<polyline fill=\"none\" stroke=\"#000000\" points=\"186.876,-226.5 297.3623,-226.5 \"/>\n",
       "<text text-anchor=\"start\" x=\"194.876\" y=\"-211.3\" font-family=\"Times,serif\" font-size=\"14.00\" fill=\"#000000\">Zip Code : index</text>\n",
       "<text text-anchor=\"start\" x=\"194.876\" y=\"-197.3\" font-family=\"Times,serif\" font-size=\"14.00\" fill=\"#000000\">City : id</text>\n",
       "</g>\n",
       "<!-- Store Location&#45;&gt;Zip Code -->\n",
       "<g id=\"edge3\" class=\"edge\">\n",
       "<title>Store Location&#45;&gt;Zip Code</title>\n",
       "<path fill=\"none\" stroke=\"#000000\" d=\"M242.1191,-285.2954C242.1191,-285.2954 242.1191,-258.7225 242.1191,-258.7225\"/>\n",
       "<polygon fill=\"#000000\" stroke=\"#000000\" points=\"245.6192,-258.7225 242.1191,-248.7225 238.6192,-258.7226 245.6192,-258.7225\"/>\n",
       "<text text-anchor=\"middle\" x=\"215.8726\" y=\"-260.809\" font-family=\"Times,serif\" font-size=\"14.00\" fill=\"#000000\">Zip Code</text>\n",
       "</g>\n",
       "<!-- City -->\n",
       "<g id=\"node5\" class=\"node\">\n",
       "<title>City</title>\n",
       "<polygon fill=\"none\" stroke=\"#000000\" points=\"201.064,-95.5 201.064,-153.5 283.1743,-153.5 283.1743,-95.5 201.064,-95.5\"/>\n",
       "<text text-anchor=\"middle\" x=\"242.1191\" y=\"-138.3\" font-family=\"Times,serif\" font-size=\"14.00\" fill=\"#000000\">City</text>\n",
       "<polyline fill=\"none\" stroke=\"#000000\" points=\"201.064,-131.5 283.1743,-131.5 \"/>\n",
       "<text text-anchor=\"start\" x=\"209.064\" y=\"-116.3\" font-family=\"Times,serif\" font-size=\"14.00\" fill=\"#000000\">City : index</text>\n",
       "<text text-anchor=\"start\" x=\"209.064\" y=\"-102.3\" font-family=\"Times,serif\" font-size=\"14.00\" fill=\"#000000\">County : id</text>\n",
       "</g>\n",
       "<!-- Zip Code&#45;&gt;City -->\n",
       "<g id=\"edge4\" class=\"edge\">\n",
       "<title>Zip Code&#45;&gt;City</title>\n",
       "<path fill=\"none\" stroke=\"#000000\" d=\"M242.1191,-190.4807C242.1191,-190.4807 242.1191,-163.669 242.1191,-163.669\"/>\n",
       "<polygon fill=\"#000000\" stroke=\"#000000\" points=\"245.6192,-163.6689 242.1191,-153.669 238.6192,-163.669 245.6192,-163.6689\"/>\n",
       "<text text-anchor=\"middle\" x=\"230.0605\" y=\"-165.8748\" font-family=\"Times,serif\" font-size=\"14.00\" fill=\"#000000\">City</text>\n",
       "</g>\n",
       "<!-- County -->\n",
       "<g id=\"node6\" class=\"node\">\n",
       "<title>County</title>\n",
       "<polygon fill=\"none\" stroke=\"#000000\" points=\"160.438,-.5 160.438,-58.5 323.8003,-58.5 323.8003,-.5 160.438,-.5\"/>\n",
       "<text text-anchor=\"middle\" x=\"242.1191\" y=\"-43.3\" font-family=\"Times,serif\" font-size=\"14.00\" fill=\"#000000\">County</text>\n",
       "<polyline fill=\"none\" stroke=\"#000000\" points=\"160.438,-36.5 323.8003,-36.5 \"/>\n",
       "<text text-anchor=\"start\" x=\"168.438\" y=\"-21.3\" font-family=\"Times,serif\" font-size=\"14.00\" fill=\"#000000\">County : index</text>\n",
       "<text text-anchor=\"start\" x=\"168.438\" y=\"-7.3\" font-family=\"Times,serif\" font-size=\"14.00\" fill=\"#000000\">County Number : numeric</text>\n",
       "</g>\n",
       "<!-- City&#45;&gt;County -->\n",
       "<g id=\"edge5\" class=\"edge\">\n",
       "<title>City&#45;&gt;County</title>\n",
       "<path fill=\"none\" stroke=\"#000000\" d=\"M242.1191,-95.4807C242.1191,-95.4807 242.1191,-68.669 242.1191,-68.669\"/>\n",
       "<polygon fill=\"#000000\" stroke=\"#000000\" points=\"245.6192,-68.6689 242.1191,-58.669 238.6192,-68.669 245.6192,-68.6689\"/>\n",
       "<text text-anchor=\"middle\" x=\"221.5054\" y=\"-70.8748\" font-family=\"Times,serif\" font-size=\"14.00\" fill=\"#000000\">County</text>\n",
       "</g>\n",
       "</g>\n",
       "</svg>\n"
      ],
      "text/plain": [
       "<graphviz.dot.Digraph at 0x134988190>"
      ]
     },
     "execution_count": 7,
     "metadata": {},
     "output_type": "execute_result"
    }
   ],
   "source": [
    "entityset.plot()"
   ]
  },
  {
   "cell_type": "markdown",
   "metadata": {},
   "source": [
    "Above you can see plotted the entities within entityset, and the relationships between them. Each entity contains the data from the original df with duplication removed. "
   ]
  },
  {
   "cell_type": "code",
   "execution_count": 8,
   "metadata": {},
   "outputs": [
    {
     "data": {
      "text/plain": [
       "Entityset: liquor orders\n",
       "  Entities:\n",
       "    Invoice/Item Number [Rows: 1497599, Columns: 4]\n",
       "    Category Name [Rows: 73, Columns: 2]\n",
       "    Store Location [Rows: 1508, Columns: 5]\n",
       "    Zip Code [Rows: 422, Columns: 2]\n",
       "    City [Rows: 377, Columns: 2]\n",
       "    County [Rows: 99, Columns: 2]\n",
       "  Relationships:\n",
       "    Invoice/Item Number.Store Location -> Store Location.Store Location\n",
       "    Invoice/Item Number.Category Name -> Category Name.Category Name\n",
       "    Store Location.Zip Code -> Zip Code.Zip Code\n",
       "    Zip Code.City -> City.City\n",
       "    City.County -> County.County"
      ]
     },
     "execution_count": 8,
     "metadata": {},
     "output_type": "execute_result"
    }
   ],
   "source": [
    "entityset"
   ]
  },
  {
   "cell_type": "markdown",
   "metadata": {},
   "source": [
    "Looking at the number of rows in each entity, we can see this normalization has allowed for deduplication of data. The autonormalize library accomodates for inaccuracies in data, and only keeps the mode in situations with disrepencies. Also if necessary, autonormalize will create a new index column as a combination of the primary key."
   ]
  }
 ],
 "metadata": {
  "kernelspec": {
   "display_name": "Python 3",
   "language": "python",
   "name": "python3"
  },
  "language_info": {
   "codemirror_mode": {
    "name": "ipython",
    "version": 3
   },
   "file_extension": ".py",
   "mimetype": "text/x-python",
   "name": "python",
   "nbconvert_exporter": "python",
   "pygments_lexer": "ipython3",
   "version": "3.7.4"
  }
 },
 "nbformat": 4,
 "nbformat_minor": 2
}
