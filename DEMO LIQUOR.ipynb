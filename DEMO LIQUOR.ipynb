{
 "cells": [
  {
   "cell_type": "markdown",
   "metadata": {},
   "source": [
    "# AUTONORMALIZE DEMO \n",
    "Using Autonormalize to normalize a kaggle dataset about liquor purchasing orders."
   ]
  },
  {
   "cell_type": "code",
   "execution_count": 1,
   "metadata": {},
   "outputs": [],
   "source": [
    "import os\n",
    "\n",
    "import pandas as pd\n",
    "import autonormalize as an"
   ]
  },
  {
   "cell_type": "code",
   "execution_count": 2,
   "metadata": {
    "scrolled": true
   },
   "outputs": [
    {
     "name": "stderr",
     "output_type": "stream",
     "text": [
      "/usr/local/lib/python3.7/site-packages/IPython/core/interactiveshell.py:3049: DtypeWarning: Columns (6) have mixed types. Specify dtype option on import or set low_memory=False.\n",
      "  interactivity=interactivity, compiler=compiler, result=result)\n"
     ]
    },
    {
     "data": {
      "text/html": [
       "<div>\n",
       "<style scoped>\n",
       "    .dataframe tbody tr th:only-of-type {\n",
       "        vertical-align: middle;\n",
       "    }\n",
       "\n",
       "    .dataframe tbody tr th {\n",
       "        vertical-align: top;\n",
       "    }\n",
       "\n",
       "    .dataframe thead th {\n",
       "        text-align: right;\n",
       "    }\n",
       "</style>\n",
       "<table border=\"1\" class=\"dataframe\">\n",
       "  <thead>\n",
       "    <tr style=\"text-align: right;\">\n",
       "      <th></th>\n",
       "      <th>Invoice/Item Number</th>\n",
       "      <th>Date</th>\n",
       "      <th>Store Number</th>\n",
       "      <th>Store Name</th>\n",
       "      <th>Address</th>\n",
       "      <th>City</th>\n",
       "      <th>Zip Code</th>\n",
       "      <th>Store Location</th>\n",
       "      <th>County Number</th>\n",
       "      <th>County</th>\n",
       "      <th>Category</th>\n",
       "      <th>Category Name</th>\n",
       "    </tr>\n",
       "  </thead>\n",
       "  <tbody>\n",
       "    <tr>\n",
       "      <th>6</th>\n",
       "      <td>S28865700001</td>\n",
       "      <td>11/09/2015</td>\n",
       "      <td>2538</td>\n",
       "      <td>Hy-Vee Food Store #3 / Waterloo</td>\n",
       "      <td>1422 FLAMMANG DR</td>\n",
       "      <td>WATERLOO</td>\n",
       "      <td>50702</td>\n",
       "      <td>1422 FLAMMANG DR\\nWATERLOO 50702\\n(42.459938, ...</td>\n",
       "      <td>7.0</td>\n",
       "      <td>Black Hawk</td>\n",
       "      <td>1701100.0</td>\n",
       "      <td>DECANTERS &amp; SPECIALTY PACKAGES</td>\n",
       "    </tr>\n",
       "    <tr>\n",
       "      <th>8</th>\n",
       "      <td>S29339300091</td>\n",
       "      <td>11/30/2015</td>\n",
       "      <td>2662</td>\n",
       "      <td>Hy-Vee Wine &amp; Spirits / Muscatine</td>\n",
       "      <td>522 MULBERRY, SUITE A</td>\n",
       "      <td>MUSCATINE</td>\n",
       "      <td>52761</td>\n",
       "      <td>522 MULBERRY, SUITE A\\nMUSCATINE 52761\\n</td>\n",
       "      <td>70.0</td>\n",
       "      <td>Muscatine</td>\n",
       "      <td>1701100.0</td>\n",
       "      <td>DECANTERS &amp; SPECIALTY PACKAGES</td>\n",
       "    </tr>\n",
       "    <tr>\n",
       "      <th>13</th>\n",
       "      <td>S28866900001</td>\n",
       "      <td>11/11/2015</td>\n",
       "      <td>3650</td>\n",
       "      <td>Spirits, Stogies and Stuff</td>\n",
       "      <td>118 South Main St.</td>\n",
       "      <td>HOLSTEIN</td>\n",
       "      <td>51025</td>\n",
       "      <td>118 South Main St.\\nHOLSTEIN 51025\\n(42.490073...</td>\n",
       "      <td>47.0</td>\n",
       "      <td>Ida</td>\n",
       "      <td>1701100.0</td>\n",
       "      <td>DECANTERS &amp; SPECIALTY PACKAGES</td>\n",
       "    </tr>\n",
       "  </tbody>\n",
       "</table>\n",
       "</div>"
      ],
      "text/plain": [
       "   Invoice/Item Number        Date  Store Number  \\\n",
       "6         S28865700001  11/09/2015          2538   \n",
       "8         S29339300091  11/30/2015          2662   \n",
       "13        S28866900001  11/11/2015          3650   \n",
       "\n",
       "                           Store Name                Address       City  \\\n",
       "6     Hy-Vee Food Store #3 / Waterloo       1422 FLAMMANG DR   WATERLOO   \n",
       "8   Hy-Vee Wine & Spirits / Muscatine  522 MULBERRY, SUITE A  MUSCATINE   \n",
       "13         Spirits, Stogies and Stuff     118 South Main St.   HOLSTEIN   \n",
       "\n",
       "   Zip Code                                     Store Location  County Number  \\\n",
       "6     50702  1422 FLAMMANG DR\\nWATERLOO 50702\\n(42.459938, ...            7.0   \n",
       "8     52761           522 MULBERRY, SUITE A\\nMUSCATINE 52761\\n           70.0   \n",
       "13    51025  118 South Main St.\\nHOLSTEIN 51025\\n(42.490073...           47.0   \n",
       "\n",
       "        County   Category                   Category Name  \n",
       "6   Black Hawk  1701100.0  DECANTERS & SPECIALTY PACKAGES  \n",
       "8    Muscatine  1701100.0  DECANTERS & SPECIALTY PACKAGES  \n",
       "13         Ida  1701100.0  DECANTERS & SPECIALTY PACKAGES  "
      ]
     },
     "execution_count": 2,
     "metadata": {},
     "output_type": "execute_result"
    }
   ],
   "source": [
    "liquor_df = pd.read_csv(os.path.join(os.getcwd(), 'autonormalize/downloads/liquor.csv'))\n",
    "liquor_df = liquor_df.drop(columns=liquor_df.columns[12:])\n",
    "liquor_df = liquor_df.drop(range(3000000, 12591077))\n",
    "liquor_df_smaller = liquor_df.drop(range(1500000, 3000000))\n",
    "liquor_df = liquor_df.dropna()\n",
    "liquor_df = liquor_df.drop_duplicates()\n",
    "liquor_df_smaller = liquor_df_smaller.dropna()\n",
    "liquor_df_smaller = liquor_df_smaller.drop_duplicates()\n",
    "liquor_df.head(3)"
   ]
  },
  {
   "cell_type": "code",
   "execution_count": 3,
   "metadata": {
    "scrolled": true
   },
   "outputs": [
    {
     "name": "stderr",
     "output_type": "stream",
     "text": [
      "100%|██████████| 11/11 [11:10<00:00, 48.92s/it]\n"
     ]
    },
    {
     "name": "stdout",
     "output_type": "stream",
     "text": [
      " --> Invoice/Item Number\n",
      " {Invoice/Item Number}  --> Date\n",
      " {Invoice/Item Number}  {Address}  {Store Name}  {Store Location}  --> Store Number\n",
      " {Invoice/Item Number}  {Store Number}  {Address}  {Store Location}  --> Store Name\n",
      " {Invoice/Item Number}  {Store Number}  {Store Name}  {Store Location}  --> Address\n",
      " {Zip Code}  {Address}  {Invoice/Item Number}  {Store Number}  {Store Name}  {Store Location}  --> City\n",
      " {Address}  {Invoice/Item Number}  {Store Number}  {Store Name}  {Store Location}  --> Zip Code\n",
      " {Address}  {Invoice/Item Number}  {Store Number}  {Store Name}  --> Store Location\n",
      " {Zip Code}  {County}  {Address}  {City}  {Invoice/Item Number}  {Store Number}  {Store Name}  {Store Location}  --> County Number\n",
      " {Zip Code}  {County Number}  {Address}  {City}  {Invoice/Item Number}  {Store Number}  {Store Name}  {Store Location}  --> County\n",
      " {Invoice/Item Number}  {Category Name}  --> Category\n",
      " {Invoice/Item Number}  {Category}  --> Category Name\n"
     ]
    }
   ],
   "source": [
    "deps_approx = an.find_dependencies(liquor_df_smaller, 0.96)\n",
    "print(deps_approx)"
   ]
  },
  {
   "cell_type": "code",
   "execution_count": 4,
   "metadata": {},
   "outputs": [
    {
     "name": "stdout",
     "output_type": "stream",
     "text": [
      "\n",
      "~ ~ ~ ~ ~ ~ ~ ~ ~ ~ ~ ~ ~\n",
      "\n",
      " --> Invoice/Item Number\n",
      " {Invoice/Item Number}  --> Date\n",
      " {Invoice/Item Number}  --> Address\n",
      " {Invoice/Item Number}  --> Category Name\n",
      "\n",
      "~ ~ ~ ~ ~ ~ ~ ~ ~ ~ ~ ~ ~\n",
      "\n",
      " {Category}  --> Category Name\n",
      " {Category Name}  --> Category\n",
      "\n",
      "~ ~ ~ ~ ~ ~ ~ ~ ~ ~ ~ ~ ~\n",
      "\n",
      " {Store Number}  {Store Name}  {Store Location}  --> Address\n",
      " {Address}  {Store Name}  {Store Location}  --> Store Number\n",
      " {Store Number}  {Address}  {Store Location}  --> Store Name\n",
      " {Address}  {Store Number}  {Store Name}  {Store Location}  --> Zip Code\n",
      " {Address}  {Store Number}  {Store Name}  --> Store Location\n",
      "\n",
      "~ ~ ~ ~ ~ ~ ~ ~ ~ ~ ~ ~ ~\n",
      "\n",
      " --> Zip Code\n",
      " {Zip Code}  --> City\n",
      "\n",
      "~ ~ ~ ~ ~ ~ ~ ~ ~ ~ ~ ~ ~\n",
      "\n",
      " --> City\n",
      " {City}  --> County\n",
      "\n",
      "~ ~ ~ ~ ~ ~ ~ ~ ~ ~ ~ ~ ~\n",
      "\n",
      " {County Number}  --> County\n",
      " {County}  --> County Number\n"
     ]
    }
   ],
   "source": [
    "groupings = an.normalize_dependencies(deps_approx)\n",
    "for grp in groupings:\n",
    "    print('\\n~ ~ ~ ~ ~ ~ ~ ~ ~ ~ ~ ~ ~\\n')\n",
    "    print(grp)"
   ]
  },
  {
   "cell_type": "code",
   "execution_count": null,
   "metadata": {},
   "outputs": [],
   "source": [
    "import time\n",
    "start = time.time()\n",
    "new_dfs = an.split_dataframe(liquor_df_smaller, groupings)\n",
    "end = time.time()\n",
    "end-start"
   ]
  },
  {
   "cell_type": "code",
   "execution_count": 5,
   "metadata": {},
   "outputs": [],
   "source": [
    "import featuretools as ft"
   ]
  },
  {
   "cell_type": "code",
   "execution_count": 6,
   "metadata": {},
   "outputs": [],
   "source": [
    "entity_set = an.make_entity_set(liquor_df_smaller, groupings, id='liquor_orders')"
   ]
  },
  {
   "cell_type": "code",
   "execution_count": 7,
   "metadata": {},
   "outputs": [
    {
     "data": {
      "text/plain": [
       "Entityset: liquor_orders\n",
       "  Entities:\n",
       "    Invoice/Item Number [Rows: 1497599, Columns: 4]\n",
       "    Category Name [Rows: 73, Columns: 2]\n",
       "    Address [Rows: 1505, Columns: 5]\n",
       "    Zip Code [Rows: 422, Columns: 2]\n",
       "    City [Rows: 395, Columns: 2]\n",
       "    County [Rows: 99, Columns: 2]\n",
       "  Relationships:\n",
       "    Invoice/Item Number.Address -> Address.Address\n",
       "    Invoice/Item Number.Category Name -> Category Name.Category Name\n",
       "    Address.Zip Code -> Zip Code.Zip Code\n",
       "    Zip Code.City -> City.City\n",
       "    City.County -> County.County"
      ]
     },
     "execution_count": 7,
     "metadata": {},
     "output_type": "execute_result"
    }
   ],
   "source": [
    "entity_set"
   ]
  },
  {
   "cell_type": "code",
   "execution_count": 9,
   "metadata": {
    "collapsed": true
   },
   "outputs": [
    {
     "data": {
      "text/plain": [
       "Entityset: liquor_orders\n",
       "  Entities:\n",
       "    invoices [Rows: 1497599, Columns: 4]\n",
       "    categories [Rows: 73, Columns: 2]\n",
       "    stores [Rows: 1532, Columns: 5]\n",
       "    zip codes [Rows: 422, Columns: 2]\n",
       "    cities [Rows: 395, Columns: 2]\n",
       "    counties [Rows: 99, Columns: 2]\n",
       "  Relationships:\n",
       "    No relationships"
      ]
     },
     "execution_count": 9,
     "metadata": {},
     "output_type": "execute_result"
    }
   ],
   "source": [
    "entity_set = ft.EntitySet(id = \"liquor_orders\")\n",
    "entity_set.entity_from_dataframe(entity_id=\"invoices\", dataframe = new_dfs[0], index='Invoice/Item Number')\n",
    "entity_set.entity_from_dataframe(entity_id=\"categories\", dataframe = new_dfs[1], index='Category Name')\n",
    "entity_set.entity_from_dataframe(entity_id=\"stores\", dataframe = new_dfs[2], index='Store Name')\n",
    "entity_set.entity_from_dataframe(entity_id='zip codes', dataframe = new_dfs[3], index='Zip Code')\n",
    "entity_set.entity_from_dataframe(entity_id='cities', dataframe = new_dfs[4], index='City')\n",
    "entity_set.entity_from_dataframe(entity_id='counties', dataframe = new_dfs[5], index='County')\n"
   ]
  },
  {
   "cell_type": "code",
   "execution_count": null,
   "metadata": {},
   "outputs": [],
   "source": []
  },
  {
   "cell_type": "code",
   "execution_count": 10,
   "metadata": {},
   "outputs": [
    {
     "data": {
      "text/plain": [
       "Entityset: liquor_orders\n",
       "  Entities:\n",
       "    invoices [Rows: 1497599, Columns: 4]\n",
       "    categories [Rows: 73, Columns: 2]\n",
       "    stores [Rows: 1532, Columns: 5]\n",
       "    zip codes [Rows: 422, Columns: 2]\n",
       "    cities [Rows: 395, Columns: 2]\n",
       "    counties [Rows: 99, Columns: 2]\n",
       "  Relationships:\n",
       "    invoices.Category Name -> categories.Category Name\n",
       "    invoices.Store Name -> stores.Store Name\n",
       "    stores.Zip Code -> zip codes.Zip Code\n",
       "    zip codes.City -> cities.City\n",
       "    cities.County -> counties.County"
      ]
     },
     "execution_count": 10,
     "metadata": {},
     "output_type": "execute_result"
    }
   ],
   "source": [
    "relationship_categories = ft.Relationship(entity_set['categories']['Category Name'], entity_set['invoices']['Category Name'])\n",
    "relationship_stores = ft.Relationship(entity_set['stores']['Store Name'], entity_set['invoices']['Store Name'])\n",
    "relationship_zips = ft.Relationship(entity_set['zip codes']['Zip Code'], entity_set['stores']['Zip Code'])\n",
    "relationship_cities = ft.Relationship(entity_set['cities']['City'], entity_set['zip codes']['City'])\n",
    "relationship_counties = ft.Relationship(entity_set['counties']['County'], entity_set['cities']['County'])\n",
    "\n",
    "entity_set.add_relationships([relationship_categories, relationship_stores, relationship_zips, relationship_cities, relationship_counties])\n"
   ]
  },
  {
   "cell_type": "code",
   "execution_count": 11,
   "metadata": {
    "scrolled": true
   },
   "outputs": [
    {
     "data": {
      "image/svg+xml": [
       "<?xml version=\"1.0\" encoding=\"UTF-8\" standalone=\"no\"?>\n",
       "<!DOCTYPE svg PUBLIC \"-//W3C//DTD SVG 1.1//EN\"\n",
       " \"http://www.w3.org/Graphics/SVG/1.1/DTD/svg11.dtd\">\n",
       "<!-- Generated by graphviz version 2.40.1 (20161225.0304)\n",
       " -->\n",
       "<!-- Title: liquor_orders Pages: 1 -->\n",
       "<svg width=\"330pt\" height=\"517pt\"\n",
       " viewBox=\"0.00 0.00 329.80 517.00\" xmlns=\"http://www.w3.org/2000/svg\" xmlns:xlink=\"http://www.w3.org/1999/xlink\">\n",
       "<g id=\"graph0\" class=\"graph\" transform=\"scale(1 1) rotate(0) translate(4 513)\">\n",
       "<title>liquor_orders</title>\n",
       "<polygon fill=\"#ffffff\" stroke=\"transparent\" points=\"-4,4 -4,-513 325.8003,-513 325.8003,4 -4,4\"/>\n",
       "<!-- invoices -->\n",
       "<g id=\"node1\" class=\"node\">\n",
       "<title>invoices</title>\n",
       "<polygon fill=\"none\" stroke=\"#000000\" points=\"66.6724,-422.5 66.6724,-508.5 245.5659,-508.5 245.5659,-422.5 66.6724,-422.5\"/>\n",
       "<text text-anchor=\"middle\" x=\"156.1191\" y=\"-493.3\" font-family=\"Times,serif\" font-size=\"14.00\" fill=\"#000000\">invoices</text>\n",
       "<polyline fill=\"none\" stroke=\"#000000\" points=\"66.6724,-486.5 245.5659,-486.5 \"/>\n",
       "<text text-anchor=\"start\" x=\"74.6724\" y=\"-471.3\" font-family=\"Times,serif\" font-size=\"14.00\" fill=\"#000000\">Invoice/Item Number : index</text>\n",
       "<text text-anchor=\"start\" x=\"74.6724\" y=\"-457.3\" font-family=\"Times,serif\" font-size=\"14.00\" fill=\"#000000\">Date : datetime</text>\n",
       "<text text-anchor=\"start\" x=\"74.6724\" y=\"-443.3\" font-family=\"Times,serif\" font-size=\"14.00\" fill=\"#000000\">Store Name : id</text>\n",
       "<text text-anchor=\"start\" x=\"74.6724\" y=\"-429.3\" font-family=\"Times,serif\" font-size=\"14.00\" fill=\"#000000\">Category Name : id</text>\n",
       "</g>\n",
       "<!-- categories -->\n",
       "<g id=\"node2\" class=\"node\">\n",
       "<title>categories</title>\n",
       "<polygon fill=\"none\" stroke=\"#000000\" points=\"0,-306.5 0,-364.5 146.2383,-364.5 146.2383,-306.5 0,-306.5\"/>\n",
       "<text text-anchor=\"middle\" x=\"73.1191\" y=\"-349.3\" font-family=\"Times,serif\" font-size=\"14.00\" fill=\"#000000\">categories</text>\n",
       "<polyline fill=\"none\" stroke=\"#000000\" points=\"0,-342.5 146.2383,-342.5 \"/>\n",
       "<text text-anchor=\"start\" x=\"8\" y=\"-327.3\" font-family=\"Times,serif\" font-size=\"14.00\" fill=\"#000000\">Category Name : index</text>\n",
       "<text text-anchor=\"start\" x=\"8\" y=\"-313.3\" font-family=\"Times,serif\" font-size=\"14.00\" fill=\"#000000\">Category : numeric</text>\n",
       "</g>\n",
       "<!-- invoices&#45;&gt;categories -->\n",
       "<g id=\"edge1\" class=\"edge\">\n",
       "<title>invoices&#45;&gt;categories</title>\n",
       "<path fill=\"none\" stroke=\"#000000\" d=\"M106.4553,-422.2119C106.4553,-422.2119 106.4553,-374.6745 106.4553,-374.6745\"/>\n",
       "<polygon fill=\"#000000\" stroke=\"#000000\" points=\"109.9554,-374.6745 106.4553,-364.6745 102.9554,-374.6746 109.9554,-374.6745\"/>\n",
       "<text text-anchor=\"middle\" x=\"62.3328\" y=\"-401.2432\" font-family=\"Times,serif\" font-size=\"14.00\" fill=\"#000000\">Category Name</text>\n",
       "</g>\n",
       "<!-- stores -->\n",
       "<g id=\"node3\" class=\"node\">\n",
       "<title>stores</title>\n",
       "<polygon fill=\"none\" stroke=\"#000000\" points=\"164.2759,-285.5 164.2759,-385.5 315.9624,-385.5 315.9624,-285.5 164.2759,-285.5\"/>\n",
       "<text text-anchor=\"middle\" x=\"240.1191\" y=\"-370.3\" font-family=\"Times,serif\" font-size=\"14.00\" fill=\"#000000\">stores</text>\n",
       "<polyline fill=\"none\" stroke=\"#000000\" points=\"164.2759,-363.5 315.9624,-363.5 \"/>\n",
       "<text text-anchor=\"start\" x=\"172.2759\" y=\"-348.3\" font-family=\"Times,serif\" font-size=\"14.00\" fill=\"#000000\">Store Name : index</text>\n",
       "<text text-anchor=\"start\" x=\"172.2759\" y=\"-334.3\" font-family=\"Times,serif\" font-size=\"14.00\" fill=\"#000000\">Store Number : numeric</text>\n",
       "<text text-anchor=\"start\" x=\"172.2759\" y=\"-320.3\" font-family=\"Times,serif\" font-size=\"14.00\" fill=\"#000000\">Address : categorical</text>\n",
       "<text text-anchor=\"start\" x=\"172.2759\" y=\"-306.3\" font-family=\"Times,serif\" font-size=\"14.00\" fill=\"#000000\">Zip Code : id</text>\n",
       "<text text-anchor=\"start\" x=\"172.2759\" y=\"-292.3\" font-family=\"Times,serif\" font-size=\"14.00\" fill=\"#000000\">Store Location : text</text>\n",
       "</g>\n",
       "<!-- invoices&#45;&gt;stores -->\n",
       "<g id=\"edge2\" class=\"edge\">\n",
       "<title>invoices&#45;&gt;stores</title>\n",
       "<path fill=\"none\" stroke=\"#000000\" d=\"M204.9209,-422.2119C204.9209,-422.2119 204.9209,-395.7992 204.9209,-395.7992\"/>\n",
       "<polygon fill=\"#000000\" stroke=\"#000000\" points=\"208.421,-395.7991 204.9209,-385.7992 201.421,-395.7992 208.421,-395.7991\"/>\n",
       "<text text-anchor=\"middle\" x=\"171.6812\" y=\"-397.8055\" font-family=\"Times,serif\" font-size=\"14.00\" fill=\"#000000\">Store Name</text>\n",
       "</g>\n",
       "<!-- zip codes -->\n",
       "<g id=\"node4\" class=\"node\">\n",
       "<title>zip codes</title>\n",
       "<polygon fill=\"none\" stroke=\"#000000\" points=\"184.876,-190.5 184.876,-248.5 295.3623,-248.5 295.3623,-190.5 184.876,-190.5\"/>\n",
       "<text text-anchor=\"middle\" x=\"240.1191\" y=\"-233.3\" font-family=\"Times,serif\" font-size=\"14.00\" fill=\"#000000\">zip codes</text>\n",
       "<polyline fill=\"none\" stroke=\"#000000\" points=\"184.876,-226.5 295.3623,-226.5 \"/>\n",
       "<text text-anchor=\"start\" x=\"192.876\" y=\"-211.3\" font-family=\"Times,serif\" font-size=\"14.00\" fill=\"#000000\">Zip Code : index</text>\n",
       "<text text-anchor=\"start\" x=\"192.876\" y=\"-197.3\" font-family=\"Times,serif\" font-size=\"14.00\" fill=\"#000000\">City : id</text>\n",
       "</g>\n",
       "<!-- stores&#45;&gt;zip codes -->\n",
       "<g id=\"edge3\" class=\"edge\">\n",
       "<title>stores&#45;&gt;zip codes</title>\n",
       "<path fill=\"none\" stroke=\"#000000\" d=\"M240.1191,-285.2954C240.1191,-285.2954 240.1191,-258.7225 240.1191,-258.7225\"/>\n",
       "<polygon fill=\"#000000\" stroke=\"#000000\" points=\"243.6192,-258.7225 240.1191,-248.7225 236.6192,-258.7226 243.6192,-258.7225\"/>\n",
       "<text text-anchor=\"middle\" x=\"213.8726\" y=\"-260.809\" font-family=\"Times,serif\" font-size=\"14.00\" fill=\"#000000\">Zip Code</text>\n",
       "</g>\n",
       "<!-- cities -->\n",
       "<g id=\"node5\" class=\"node\">\n",
       "<title>cities</title>\n",
       "<polygon fill=\"none\" stroke=\"#000000\" points=\"199.064,-95.5 199.064,-153.5 281.1743,-153.5 281.1743,-95.5 199.064,-95.5\"/>\n",
       "<text text-anchor=\"middle\" x=\"240.1191\" y=\"-138.3\" font-family=\"Times,serif\" font-size=\"14.00\" fill=\"#000000\">cities</text>\n",
       "<polyline fill=\"none\" stroke=\"#000000\" points=\"199.064,-131.5 281.1743,-131.5 \"/>\n",
       "<text text-anchor=\"start\" x=\"207.064\" y=\"-116.3\" font-family=\"Times,serif\" font-size=\"14.00\" fill=\"#000000\">City : index</text>\n",
       "<text text-anchor=\"start\" x=\"207.064\" y=\"-102.3\" font-family=\"Times,serif\" font-size=\"14.00\" fill=\"#000000\">County : id</text>\n",
       "</g>\n",
       "<!-- zip codes&#45;&gt;cities -->\n",
       "<g id=\"edge4\" class=\"edge\">\n",
       "<title>zip codes&#45;&gt;cities</title>\n",
       "<path fill=\"none\" stroke=\"#000000\" d=\"M240.1191,-190.4807C240.1191,-190.4807 240.1191,-163.669 240.1191,-163.669\"/>\n",
       "<polygon fill=\"#000000\" stroke=\"#000000\" points=\"243.6192,-163.6689 240.1191,-153.669 236.6192,-163.669 243.6192,-163.6689\"/>\n",
       "<text text-anchor=\"middle\" x=\"228.0605\" y=\"-165.8748\" font-family=\"Times,serif\" font-size=\"14.00\" fill=\"#000000\">City</text>\n",
       "</g>\n",
       "<!-- counties -->\n",
       "<g id=\"node6\" class=\"node\">\n",
       "<title>counties</title>\n",
       "<polygon fill=\"none\" stroke=\"#000000\" points=\"158.438,-.5 158.438,-58.5 321.8003,-58.5 321.8003,-.5 158.438,-.5\"/>\n",
       "<text text-anchor=\"middle\" x=\"240.1191\" y=\"-43.3\" font-family=\"Times,serif\" font-size=\"14.00\" fill=\"#000000\">counties</text>\n",
       "<polyline fill=\"none\" stroke=\"#000000\" points=\"158.438,-36.5 321.8003,-36.5 \"/>\n",
       "<text text-anchor=\"start\" x=\"166.438\" y=\"-21.3\" font-family=\"Times,serif\" font-size=\"14.00\" fill=\"#000000\">County : index</text>\n",
       "<text text-anchor=\"start\" x=\"166.438\" y=\"-7.3\" font-family=\"Times,serif\" font-size=\"14.00\" fill=\"#000000\">County Number : numeric</text>\n",
       "</g>\n",
       "<!-- cities&#45;&gt;counties -->\n",
       "<g id=\"edge5\" class=\"edge\">\n",
       "<title>cities&#45;&gt;counties</title>\n",
       "<path fill=\"none\" stroke=\"#000000\" d=\"M240.1191,-95.4807C240.1191,-95.4807 240.1191,-68.669 240.1191,-68.669\"/>\n",
       "<polygon fill=\"#000000\" stroke=\"#000000\" points=\"243.6192,-68.6689 240.1191,-58.669 236.6192,-68.669 243.6192,-68.6689\"/>\n",
       "<text text-anchor=\"middle\" x=\"219.5054\" y=\"-70.8748\" font-family=\"Times,serif\" font-size=\"14.00\" fill=\"#000000\">County</text>\n",
       "</g>\n",
       "</g>\n",
       "</svg>\n"
      ],
      "text/plain": [
       "<graphviz.dot.Digraph at 0x144fc0690>"
      ]
     },
     "execution_count": 11,
     "metadata": {},
     "output_type": "execute_result"
    }
   ],
   "source": [
    "entity_set.plot()"
   ]
  },
  {
   "cell_type": "code",
   "execution_count": 15,
   "metadata": {},
   "outputs": [
    {
     "ename": "KeyError",
     "evalue": "'Entity 0 does not exist in liquor_orders'",
     "output_type": "error",
     "traceback": [
      "\u001b[0;31m---------------------------------------------------------------------------\u001b[0m",
      "\u001b[0;31mKeyError\u001b[0m                                  Traceback (most recent call last)",
      "\u001b[0;32m<ipython-input-15-2998d5e2775d>\u001b[0m in \u001b[0;36m<module>\u001b[0;34m\u001b[0m\n\u001b[0;32m----> 1\u001b[0;31m \u001b[0;32mfor\u001b[0m \u001b[0mentity\u001b[0m \u001b[0;32min\u001b[0m \u001b[0mentity_set\u001b[0m\u001b[0;34m:\u001b[0m\u001b[0;34m\u001b[0m\u001b[0;34m\u001b[0m\u001b[0m\n\u001b[0m\u001b[1;32m      2\u001b[0m     \u001b[0mprint\u001b[0m\u001b[0;34m(\u001b[0m\u001b[0mentity\u001b[0m\u001b[0;34m)\u001b[0m\u001b[0;34m\u001b[0m\u001b[0;34m\u001b[0m\u001b[0m\n",
      "\u001b[0;32m/usr/local/lib/python3.7/site-packages/featuretools-0.8.0-py3.7.egg/featuretools/entityset/entityset.py\u001b[0m in \u001b[0;36m__getitem__\u001b[0;34m(self, entity_id)\u001b[0m\n\u001b[1;32m    127\u001b[0m             \u001b[0;32mreturn\u001b[0m \u001b[0mself\u001b[0m\u001b[0;34m.\u001b[0m\u001b[0mentity_dict\u001b[0m\u001b[0;34m[\u001b[0m\u001b[0mentity_id\u001b[0m\u001b[0;34m]\u001b[0m\u001b[0;34m\u001b[0m\u001b[0;34m\u001b[0m\u001b[0m\n\u001b[1;32m    128\u001b[0m         \u001b[0mname\u001b[0m \u001b[0;34m=\u001b[0m \u001b[0mself\u001b[0m\u001b[0;34m.\u001b[0m\u001b[0mid\u001b[0m \u001b[0;32mor\u001b[0m \u001b[0;34m\"entity set\"\u001b[0m\u001b[0;34m\u001b[0m\u001b[0;34m\u001b[0m\u001b[0m\n\u001b[0;32m--> 129\u001b[0;31m         \u001b[0;32mraise\u001b[0m \u001b[0mKeyError\u001b[0m\u001b[0;34m(\u001b[0m\u001b[0;34m'Entity %s does not exist in %s'\u001b[0m \u001b[0;34m%\u001b[0m \u001b[0;34m(\u001b[0m\u001b[0mentity_id\u001b[0m\u001b[0;34m,\u001b[0m \u001b[0mname\u001b[0m\u001b[0;34m)\u001b[0m\u001b[0;34m)\u001b[0m\u001b[0;34m\u001b[0m\u001b[0;34m\u001b[0m\u001b[0m\n\u001b[0m\u001b[1;32m    130\u001b[0m \u001b[0;34m\u001b[0m\u001b[0m\n\u001b[1;32m    131\u001b[0m     \u001b[0;34m@\u001b[0m\u001b[0mproperty\u001b[0m\u001b[0;34m\u001b[0m\u001b[0;34m\u001b[0m\u001b[0m\n",
      "\u001b[0;31mKeyError\u001b[0m: 'Entity 0 does not exist in liquor_orders'"
     ]
    }
   ],
   "source": [
    "for entity in entity_set:\n",
    "    print(entity)"
   ]
  },
  {
   "cell_type": "code",
   "execution_count": null,
   "metadata": {},
   "outputs": [],
   "source": []
  }
 ],
 "metadata": {
  "kernelspec": {
   "display_name": "Python 3",
   "language": "python",
   "name": "python3"
  },
  "language_info": {
   "codemirror_mode": {
    "name": "ipython",
    "version": 3
   },
   "file_extension": ".py",
   "mimetype": "text/x-python",
   "name": "python",
   "nbconvert_exporter": "python",
   "pygments_lexer": "ipython3",
   "version": "3.7.4"
  }
 },
 "nbformat": 4,
 "nbformat_minor": 2
}
